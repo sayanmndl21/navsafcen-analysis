{
 "cells": [
  {
   "cell_type": "markdown",
   "metadata": {},
   "source": [
    "# Research Question\n",
    "\n",
    "## How do different idicators of injury determine the severity of injury and how to interpret them?\n",
    "\n",
    "Ans: Feature engineering provides insight for the interpretation of the factors for injury. Successful classification of injury followed by a sensitivity analysis helps identify the hierarchy of factors responsible for injury."
   ]
  },
  {
   "cell_type": "code",
   "execution_count": 45,
   "metadata": {},
   "outputs": [],
   "source": [
    "import numpy as np\n",
    "import pandas as pd\n",
    "import seaborn as sns\n",
    "import matplotlib.pyplot as plt\n",
    "from datetime import datetime\n",
    "from sklearn.preprocessing import LabelEncoder as LE\n",
    "import string\n",
    "from nltk.corpus import stopwords\n",
    "from nltk.tokenize import RegexpTokenizer\n",
    "from nltk.stem import WordNetLemmatizer\n",
    "from nltk.stem.porter import PorterStemmer\n",
    "from gensim import utils\n",
    "import gensim.parsing.preprocessing as gsp\n",
    "from gensim import models\n",
    "import math\n",
    "from scipy.spatial import distance\n",
    "from scipy.stats import pearsonr\n",
    "\n",
    "from random import sample\n",
    "import sys\n",
    "\n",
    "%matplotlib inline\n",
    "\n",
    "import sklearn\n",
    "from sklearn.model_selection import train_test_split, cross_val_score, KFold\n",
    "from sklearn.metrics import accuracy_score\n",
    "\n",
    "\n",
    "from sklearn.model_selection import GridSearchCV\n",
    "\n",
    "from sklearn.neighbors import KNeighborsClassifier\n",
    "from sklearn.ensemble import RandomForestClassifier\n",
    "from sklearn.linear_model import LinearRegression\n",
    "from collections import Counter\n",
    "import xgboost as xgb\n",
    "import time\n",
    "\n",
    "#pathToBinVectors = 'GoogleNews-vectors-negative300.bin'\n",
    "#model1 = models.KeyedVectors.load_word2vec_format(pathToBinVectors, binary=True)"
   ]
  },
  {
   "cell_type": "code",
   "execution_count": 2,
   "metadata": {},
   "outputs": [],
   "source": [
    "def calculate_pvalues(df):\n",
    "    df = df.dropna()._get_numeric_data()\n",
    "    dfcols = pd.DataFrame(columns=df.columns)\n",
    "    pvalues = dfcols.transpose().join(dfcols, how='outer')\n",
    "    for r in df.columns:\n",
    "        for c in df.columns:\n",
    "            pvalues[r][c] = round(pearsonr(df[r], df[c])[1], 4)\n",
    "    return pvalues\n",
    "\n",
    "class PhraseVector:\n",
    "    def __init__(self, phrase):\n",
    "        self.vector = self.PhraseToVec(phrase)\n",
    "    # <summary> Calculates similarity between two sets of vectors based on the averages of the sets.</summary>\n",
    "    # <param>name = \"vectorSet\" description = \"An array of arrays that needs to be condensed into a single array (vector). In this class, used to convert word vecs to phrases.\"</param>\n",
    "    # <param>name = \"ignore\" description = \"The vectors within the set that need to be ignored. If this is an empty list, nothing is ignored. In this class, this would be stop words.\"</param>\n",
    "    # <returns> The condensed single vector that has the same dimensionality as the other vectors within the vecotSet.</returns>\n",
    "    def ConvertVectorSetToVecAverageBased(self, vectorSet, ignore = []):\n",
    "        if len(ignore) == 0: \n",
    "            return np.mean(vectorSet, axis = 0)\n",
    "        else: \n",
    "            return np.dot(np.transpose(vectorSet),ignore)/sum(ignore)\n",
    "\n",
    "    def PhraseToVec(self, phrase):\n",
    "        cachedStopWords = stopwords.words(\"english\")\n",
    "        phrase = phrase.lower()\n",
    "        wordsInPhrase = [word for word in phrase.split() if word not in cachedStopWords]\n",
    "        vectorSet = []\n",
    "        for aWord in wordsInPhrase:\n",
    "            try:\n",
    "                wordVector=model1[aWord]\n",
    "                vectorSet.append(wordVector)\n",
    "            except:\n",
    "                pass\n",
    "        return self.ConvertVectorSetToVecAverageBased(vectorSet)\n",
    "\n",
    "    # <summary> Calculates Cosine similarity between two phrase vectors.</summary>\n",
    "    # <param> name = \"otherPhraseVec\" description = \"The other vector relative to which similarity is to be calculated.\"</param>\n",
    "    def CosineSimilarity(self, otherPhraseVec):\n",
    "        cosine_similarity = np.dot(self.vector, otherPhraseVec) / (np.linalg.norm(self.vector) * np.linalg.norm(otherPhraseVec))\n",
    "        try:\n",
    "            if math.isnan(cosine_similarity):\n",
    "                cosine_similarity=0\n",
    "        except:\n",
    "            cosine_similarity=0\n",
    "        return cosine_similarity\n",
    "\n",
    "def cramers_corrected_stat(confusion_matrix):\n",
    "    \"\"\" calculate Cramers V statistic for categorial-categorial association.\n",
    "        uses correction from Bergsma and Wicher, \n",
    "        Journal of the Korean Statistical Society 42 (2013): 323-328\n",
    "    \"\"\"\n",
    "    chi2 = scs.chi2_contingency(confusion_matrix)[0]\n",
    "    n = confusion_matrix.sum()\n",
    "    phi2 = chi2/n\n",
    "    r,k = confusion_matrix.shape\n",
    "    phi2corr = max(0, phi2 - ((k-1)*(r-1))/(n-1))    \n",
    "    rcorr = r - ((r-1)**2)/(n-1)\n",
    "    kcorr = k - ((k-1)**2)/(n-1)\n",
    "    return np.sqrt(phi2corr / min( (kcorr-1), (rcorr-1)))\n",
    "\n",
    "def correlation_ratio(categories, measurements):\n",
    "        fcat, _ = pd.factorize(categories)\n",
    "        cat_num = np.max(fcat)+1\n",
    "        y_avg_array = np.zeros(cat_num)\n",
    "        n_array = np.zeros(cat_num)\n",
    "        for i in range(0,cat_num):\n",
    "            cat_measures = measurements[np.argwhere(fcat == i).flatten()]\n",
    "            n_array[i] = len(cat_measures)\n",
    "            y_avg_array[i] = np.average(cat_measures)\n",
    "        y_total_avg = np.sum(np.multiply(y_avg_array,n_array))/np.sum(n_array)\n",
    "        numerator = np.sum(np.multiply(n_array,np.power(np.subtract(y_avg_array,y_total_avg),2)))\n",
    "        denominator = np.sum(np.power(np.subtract(measurements,y_total_avg),2))\n",
    "        if numerator == 0:\n",
    "            eta = 0.0\n",
    "        else:\n",
    "            eta = numerator/denominator\n",
    "        return eta"
   ]
  },
  {
   "cell_type": "code",
   "execution_count": 3,
   "metadata": {},
   "outputs": [],
   "source": [
    "NONAVIATION_PATH = \"nadb.xlsx\"\n",
    "AVIATION_PATH = \"adb.xlsx\"\n",
    "\n",
    "nadf = pd.read_excel(NONAVIATION_PATH, sheet_name=1)\n",
    "adf = pd.read_excel(AVIATION_PATH,sheet_name=1)"
   ]
  },
  {
   "cell_type": "markdown",
   "metadata": {},
   "source": [
    "### preprocessing\n",
    "\n",
    "#### Types of columns (features):\n",
    "\n",
    "Datetime: 'FY', 'emonth', 'eweek', 'ehrmin'\n",
    "\n",
    "Numerical: 'AGE', 'ehrmin', 'fd_words', 'ac_words', 'passage_words', 'hg_words',\n",
    "       'ece_words', 'mech_words', 'cargo_words', 'gen_words'\n",
    "            \n",
    "Ordinal: 'PAYGRADE', 'PCN_C', 'SEX_C', 'FY', 'VESL_TYPE','emonth', 'eweek', 'actycommissioned', 'actydecommissioned','pcnfreq'"
   ]
  },
  {
   "cell_type": "code",
   "execution_count": 4,
   "metadata": {},
   "outputs": [],
   "source": [
    "#### start data preprocessing ####\n",
    "df1 = nadf.copy()\n",
    "\n",
    "#### Remove civilians from dataset ####\n",
    "df1 = df1[~df1['BRIEF_NARR'].str.contains(\"civ\", na=False,case=False)]\n",
    "#### Remove age <= 16 or >=65 ####\n",
    "df1 = df1[(df1[\"AGE\"] > 16) & (df1[\"AGE\"] < 65)]\n",
    "\n",
    "col = df1.columns.to_list()\n",
    "#traint1 = np.array([datetime.strptime(d, '%m/%d/%y') for d in df1[col[17]]])\n",
    "\n",
    "#### extract datetime features: only emonth, ehrmin are usefull ####\n",
    "traint1 = np.array([datetime.strptime(str(d), \"%Y-%m-%d %H:%M:%S\" ) for d in df1[col[17]]])\n",
    "traint2 = traint1 - max(traint1)\n",
    "traint3 = -np.array([t.days for t in traint2])\n",
    "df1[col[17]] = traint3.astype(float)\n",
    "df1 = df1.assign(emonth = np.array([t.month for t in traint1]))\n",
    "df1 = df1.assign(eweek = np.array([t.weekday() for t in traint1]))\n",
    "df1 = df1.assign(ehrmin = np.array([t.hour*100 + t.minute for t in traint1]))\n",
    "#df1 = df1.assign(emin = np.array([t.minute for t in traint1]))\n",
    "col = df1.columns.to_list()\n",
    "\n",
    "#select columns and drop missing data and duplicates\n",
    "df1 = df1[[col[1]]+col[6:14] + col[17:20]+[col[21]] + col[23:]]\n",
    "df1 = df1[df1['INJ_CLASSN_C'].notna()]\n",
    "df1 = df1[df1['AREA_C'].notna()]\n",
    "df1 = df1.drop_duplicates()\n",
    "\n",
    "dfcopy = df1.copy()\n",
    "\n",
    "dfor_sex = dfcopy['SEX_C']\n",
    "dfor_age = dfcopy['AGE']\n",
    "dfor_pg = dfcopy['PAYGRADE']\n",
    "\n",
    "\n",
    "#df1['SEX_C'].fillna('M', inplace=True) #replace missing sex with M \n",
    "#df1['AGE'].fillna(22, inplace=True) #replace missing age with median age\n",
    "#df1['AGE'] = df1['AGE'].replace(99,22)\n",
    "#df1['AGE'] = df1['AGE'].replace(0,22)\n",
    "df1['PAYGRADE'].fillna(4, inplace = True) #replace missing paygrade with highest value"
   ]
  },
  {
   "cell_type": "code",
   "execution_count": 5,
   "metadata": {},
   "outputs": [
    {
     "data": {
      "text/plain": [
       "E    3927\n",
       "F    1431\n",
       "D    1093\n",
       "G     221\n",
       "H     162\n",
       "C      24\n",
       "A       3\n",
       "Name: INJ_CLASSN_C, dtype: int64"
      ]
     },
     "execution_count": 5,
     "metadata": {},
     "output_type": "execute_result"
    }
   ],
   "source": [
    "df1['INJ_CLASSN_C'].value_counts()"
   ]
  },
  {
   "cell_type": "code",
   "execution_count": 6,
   "metadata": {},
   "outputs": [
    {
     "name": "stderr",
     "output_type": "stream",
     "text": [
      "C:\\Users\\sayan\\Anaconda3\\lib\\site-packages\\ipykernel_launcher.py:34: SettingWithCopyWarning: \n",
      "A value is trying to be set on a copy of a slice from a DataFrame\n",
      "\n",
      "See the caveats in the documentation: https://pandas.pydata.org/pandas-docs/stable/user_guide/indexing.html#returning-a-view-versus-a-copy\n"
     ]
    }
   ],
   "source": [
    "#### label encoding ordinal values ####\n",
    "\n",
    "cats = ['A', 'B', 'C', 'D','E','F','G','H']\n",
    "for i in range(len(cats)):\n",
    "    df1[col[8]] = df1[col[8]].replace(cats[i], i)\n",
    "    \n",
    "cats = ['A', 'B', 'C', 'D','E','F','G','H']\n",
    "for i in range(len(cats)):\n",
    "    df1[col[21]] = df1[col[21]].replace(cats[i], i)\n",
    "    \n",
    "    \n",
    "#paygrade    \n",
    "cats = [\"UNK\",\"MIDN\",\"E01\",\"E02\",\"E03\",\"E04\",\"E05\",\"E06\",\"E07\",\"E08\",\"E09\",\"O01\",\"O02\",\"W02\",\"O03\",\"W04\",\"O04\",\"W05\",\"O05\",\"O06\",\"GS12\"]\n",
    "for i in range(len(cats)):\n",
    "    df1[col[1]] = df1[col[1]].replace(cats[i], i)\n",
    "    \n",
    "cats = ['M','F']\n",
    "for i in range(len(cats)):\n",
    "    df1['SEX_C'] = df1['SEX_C'].replace(cats[i], i)\n",
    "    \n",
    "cats = ['CV','CVN']\n",
    "for i in range(len(cats)):\n",
    "    df1['VESL_TYPE'] = df1['VESL_TYPE'].replace(cats[i], i)\n",
    "    \n",
    "#### compressing into 4 injury classes ####\n",
    "#a = np.array(df1[\"INJ_CLASSN_C\"].values.tolist())\n",
    "a = np.array(df1[\"INJ_CLASSN_C\"].values.tolist())\n",
    "a = np.where(a < 3, 0, a)\n",
    "a = np.where((a>=3) & (a < 4), 1, a)\n",
    "a = np.where(a == 4, 2, a)\n",
    "a = np.where(a > 4, 3, a)\n",
    "df1[\"INJ_CLASSN_C\"] = a.tolist()\n",
    "\n",
    "\n",
    "#### impute pcn with the most common category ####\n",
    "    \n",
    "df1[\"PCN_C\"][df1[\"PCN_C\"].isna()] = 'MS-05-00' #most common occuring \n",
    "df1[\"PCN_C\"]=df1[\"PCN_C\"].str[:2]#.split('-')\n",
    "\n",
    "#carrier name cleanup and replacing them with dates\n",
    "cleanup_nums = {\"ACTY_NAME_LONG\": {\n",
    "                                     \"USS HARRY S TRUMAN (CVN -75)\" : \"TRUMAN\",\n",
    "\"USS RONALD REAGAN  (CVN-76)\"  : \"REAGAN\",\n",
    "\"USS JOHN C STENNIS (CVN-74)\"  : \"STENNIS\",\n",
    "\"USS DWIGHT D EISENHOWER (CVN-69)\" : \"EISENHOWER\",\n",
    "\"USS NIMITZ  (CVN 68)\" : \"NIMITZ\",\n",
    "\"USS GEORGE H W BUSH (CVN-77)\" : \"BUSH\",\n",
    "\"USS ENTERPRISE\"  : \"ENTERPRISE\",\n",
    "\"USS GEORGE WASHINGTON (CVN-73)\" : \"WASHINGTON\",\n",
    "\"USS THEODORE ROOSEVELT\" : \"ROOSEVELT\",\n",
    "\"USS ABRAHAM LINCOLN\"  : \"LINCOLN\",\n",
    "\"GEORGE WASHINGTON\"  : \"WASHINGTON\",\n",
    "\"USS THEODORE ROOSEVELT  (CVN-71)\" : \"ROOSEVELT\",\n",
    "\"USS CARL VINSON  (CVN-70)\" : \"VINSON\",\n",
    "\"USS ABRAHAM LINCOLN (CVN-72)\" : \"LINCOLN\",\n",
    "\"USS JOHN F KENNEDY\" : \"KENNEDY\",\n",
    "\"NIMITZ\"  : \"NIMITZ\",\n",
    "\"RONALD REAGAN\"   : \"REAGAN\",\n",
    "\"ABRAHAM LINCOLN\" : \"LINCOLN\",\n",
    "\"JOHN C STENNIS\"  : \"STENNIS\",\n",
    "\"USS GERALD R FORD (CVN 78)\" : \"FORD\",\n",
    "\"CARL VINSON\" : \"VINSON\",\n",
    "\"CVN 78 GERALD R FORD PCU\" : \"FORD\",\n",
    "\"KITTY HAWK\" : \"HAWK\",\n",
    "\"ENTERPRISE\" : \"ENTERPRISE\",\n",
    "\"USS ENTERPRISE (CVN 65)\" : \"ENTERPRISE\"},\n",
    "               \n",
    "               \"PCN_C\": {\"DV\" : \"MS\",\n",
    "\"RE\"  : \"TR\",\n",
    "\"TL\"  : \"PR\"}\n",
    "               }\n",
    "df1.replace(cleanup_nums, inplace=True)\n",
    "\n",
    "df1['actycommissioned'] = df1['ACTY_NAME_LONG']\n",
    "df1['actydecommissioned'] = df1['ACTY_NAME_LONG']\n",
    "\n",
    "netcat = { \"actycommissioned\" : {'TRUMAN'  :1998,\n",
    "'REAGAN'  :2003,\n",
    "'STENNIS' :1995,\n",
    "'NIMITZ'     : 1975,\n",
    "'EISENHOWER' : 1977,\n",
    "'WASHINGTON' : 1992,\n",
    "'ROOSEVELT'   : 1986,\n",
    "'BUSH'     :2009,\n",
    "'LINCOLN'  : 1989,\n",
    "'ENTERPRISE'  : 1961,\n",
    "'VINSON'   :1982,\n",
    "'KENNEDY'   :1968,\n",
    "'FORD'  : 2017,\n",
    "'HAWK'     : 1961}, \n",
    "          \"actydecommissioned\" : {'TRUMAN'  :2020,\n",
    "'REAGAN'  :2020,\n",
    "'STENNIS' :2020,\n",
    "'NIMITZ'     : 2020,\n",
    "'EISENHOWER' : 2020,\n",
    "'WASHINGTON' : 2020,\n",
    "'ROOSEVELT'   : 2020,\n",
    "'BUSH'     :2020,\n",
    "'LINCOLN'  : 2020,\n",
    "'ENTERPRISE'  : 2017,\n",
    "'VINSON'   :2020,\n",
    "'KENNEDY'   :2007,\n",
    "'FORD'  : 2020,\n",
    "'HAWK'     : 2009}\n",
    "         }\n",
    "\n",
    "#### use this for actyrank feature ####\n",
    "df1['actyrank'] = df1['ACTY_NAME_LONG']\n",
    "\n",
    "netcat1 = { \"actyrank\" : {'TRUMAN'  :10,\n",
    "'REAGAN'  :11,\n",
    "'STENNIS' :9,\n",
    "'NIMITZ'     : 3,\n",
    "'EISENHOWER' : 4,\n",
    "'WASHINGTON' : 8,\n",
    "'ROOSEVELT'   : 6,\n",
    "'BUSH'     :12,\n",
    "'LINCOLN'  : 7,\n",
    "'ENTERPRISE'  : 1,\n",
    "'VINSON'   :5,\n",
    "'KENNEDY'   :2,\n",
    "'FORD'  : 13,\n",
    "'HAWK'     : 0}\n",
    "         }\n",
    "df1.replace(netcat, inplace=True)\n",
    "df1.replace(netcat1, inplace=True)\n"
   ]
  },
  {
   "cell_type": "code",
   "execution_count": 7,
   "metadata": {},
   "outputs": [
    {
     "data": {
      "text/plain": [
       "2    3927\n",
       "3    1814\n",
       "1    1093\n",
       "0      27\n",
       "Name: INJ_CLASSN_C, dtype: int64"
      ]
     },
     "execution_count": 7,
     "metadata": {},
     "output_type": "execute_result"
    }
   ],
   "source": [
    "df1['INJ_CLASSN_C'].value_counts()"
   ]
  },
  {
   "cell_type": "code",
   "execution_count": 8,
   "metadata": {},
   "outputs": [],
   "source": [
    "#### pcn_c to make labels for pcn ####\n",
    "\n",
    "'''\n",
    "AV - Aviation-related Activities, Maintenance, Aircraft Maintenance, Handling, Moving, etc. Aboard CV\n",
    "ID - Mechanical Assembly/Repair, Multiple Operations, Electrical, Brush/Rolle\n",
    "SR - Multiple Operations, Handling , Cutting/Slicing, Trash/Garbage - Disposal\n",
    "MS = DV - walking, running\n",
    "CE - Handling Supplies, Multiple Operations, Handling Equipment\n",
    "CN - Preventive (PMS), Corrective, Other, Multiple Operations\n",
    "WN - Handling, Maintenance, Transporting, On/Off loading\n",
    "CL - Housekeeping/Cleaning, Washing dishes, Cleaning garage/storage \n",
    "MD - Multiple Operations, Sterilization, Anesthesia Administration \n",
    "ZZ - Threshold shift (auditory fatigue)\n",
    "PR = TL =  - Supervision\n",
    "TR = RE - Weight Lifting, Jogging/Running, Unit Training \n",
    "SP - Basketball, Football,Boating\n",
    "'''\n",
    "df1['pcnfreq'] = df1['PCN_C']\n",
    "df1.pcnfreq = df1.pcnfreq.map(df1.pcnfreq.value_counts())\n",
    "#pcn_c wrt lvl of importance\n",
    "cats = [\"AV\",\"ID\",\"SR\",\"MS\",\"CE\",\"CN\",\"WN\",\"CL\",\"MD\",\"ZZ\",\"PR\",\"TR\",\"SP\"]\n",
    "for i in range(len(cats)):\n",
    "    df1['PCN_C'] = df1['PCN_C'].replace(cats[i], i)\n",
    "    \n",
    "#### The following lines are for area ####\n",
    "#clean text\n",
    "filters = [\n",
    "           gsp.strip_tags, \n",
    "           gsp.strip_punctuation,\n",
    "           gsp.strip_multiple_whitespaces,\n",
    "           gsp.strip_numeric,\n",
    "           gsp.remove_stopwords, \n",
    "           gsp.strip_short, \n",
    "           #gsp.stem_text\n",
    "          ]\n",
    "\n",
    "def clean_text(s):\n",
    "    s = s.lower()\n",
    "    s = utils.to_unicode(s)\n",
    "    for f in filters:\n",
    "        s = f(s)\n",
    "    return s\n",
    "\n",
    "df1['AREA'] = df1.apply(lambda row: clean_text(row['AREA']), axis=1)"
   ]
  },
  {
   "cell_type": "code",
   "execution_count": 9,
   "metadata": {},
   "outputs": [],
   "source": [
    "target_for_values = {\n",
    "    'pw': ['ladder', 'passageway', 'escape trunk','bridge operational areas ship control','bridge','signal bridge','bridge wing','pathway sidewalk','pedestrian crossing'], \n",
    "    'fd': ['flight deck', 'deck', 'main deck','fueling space shop','jet shop space shop','jet engine space shop',\n",
    "          'aircraft fueling space shop','fuels repair space shop','fuel oil space shop','fuel test space shop','launcher space shop',\n",
    "          'fueling space','flight deck triage','upper deck','refueling pits','landing zone','personnel landing'],\n",
    "    'aa': ['hangar bay','wpns ord department space','catapult space shop','aviation air aimd space shop',\n",
    "          'avionics space shop','arresting gear machinery space shop','unrep ras space shop','ordnance space shop',\n",
    "          'elevator','airframes space shop','maint support tool space shop','aircraft elevator space shop','waist catapult space shop',\n",
    "          'ordnance gun space shop','elevator space shop','crash salvage aviation fuel repair space shop','launch access space shop',\n",
    "          'weapons dept office space','elevator space','ciws aviation space','shop ordnance','hangar deck','elevated area','maintenance area','weapons ordnance','hangar','paraloft'],\n",
    "    'ma': ['main machinery room mmr','reactor room','shaft alley','machinery space shop','pump room','engine room',\n",
    "          'machinery room mer','auxiliary machinery room amr aux','machine space shop','metalsmith machine space shop',\n",
    "          'aircraft elevator machinery space shop','machine weld space shop','elevator machinery space shop','refrigeration machinery room',\n",
    "          'elevator machinery space','capstan machinery space shop','rast machinery room','refrigeration machinery space shop',\n",
    "          'boiler space shop','diesel generator space shop','hydraulics space shop','engine test space shop','emergency generator space shop','gear space shop','valve space shop','oxidizer space shop','cylinder space shop','obogs space shop','cht boiler space shop','compressor space shop',\n",
    "          'pump space','cht pump room space','generator space','auxiliary boiler space','oil pump space','mechanical calibration facility','engine areas','incinerator room','pulper shredder room','steering gear room','motor generator room',\n",
    "        'plastic waste processor room','weapons forklift','ciws','conveyor','vertical package conveyor','fan'],\n",
    "    'ca':['magazine','supply stores cargo','equipment space shop','armory space shop','gun space shop','diesel space shop','gun support space shop','emergency diesel space shop','storage battery space shop',\n",
    "         'equipment space','supply dept office space','master arms space','equipment space storeroom','chem cbr warfare defense space',\n",
    "         'ships service storeroom', 'ships store mini mart','general storeroom','equipment storeroom','utility storeroom','cylinder storeroom','paint storeroom','main storeroom',\n",
    "      'cargo hold','flammable cargo','holds supply areas','handling area','armory'],\n",
    "    'ea': ['engineering aux repair','ground support equipment gse space shop','electrical space shop','battery space shop','electronic repair space shop',\n",
    "      'socket pouring space shop','electrical service space shop','gyro space shop','electrical rewind space shop','ndi space shop','nucleonics space shop','electrical damage control space shop',\n",
    "      'acid battery space shop','electrical tool space shop','lighting space shop','helo repair space shop','nixie equipment space shop',\n",
    "          'communications space','switchboard space','radar room','switchboard room','ops comms ship control','radio','audio booth'],\n",
    "    'ga': ['repair space office shop','department space shop','air department space','division space office shop',\n",
    "           'general space shop','administrative dept space','boat space shop','calibration space shop','space shop','division office space shop','pipe space shop','boatswains space shop',\n",
    "      'carpenter space shop','area functional physical space shops','tool issue space shop','handling space shop','repair space shop','metal pipe space shop','ras winch space shop','metalsmith space shop',\n",
    "      'cleaning gear space shop','hull repair space shop','lieutenants space shop','utility space shop','central admin space shop','survival equipment space shop','forklift space shop',\n",
    "      'composite space shop','corrosion control space shop','display repair space shop','filter space shop',\n",
    "      'ciws aviation space shop','filter cleaning space shop','tire wheel space shop','hose tube space shop','ejection seat space shop','towed array space shop',\n",
    "          'department space office','control space','general workshop space','department office space','division space office',\n",
    "      'food service office space','division space','garbage disposal space','division office space','general medical space area',\n",
    "      'space office shop','general operations space','ops space office','public affairs space','safety officers space',\n",
    "      'utility space','cleaning gear space','disbursing space','executive officers space','filter space','forklift space',\n",
    "      'vehicle space','director space','classified document destruction space','general workshop','rewind shop','portable tool shop area','department office','office building','medical department office admin',\n",
    "          'engineering log room','trash room','trash pulper room','utility room','issue room','log room','motor pool garage','garage',\n",
    "          'administrative areas','administrative','combat information center cic','void','test lab','support facility',\n",
    "      'central admin','steering','battle dressing station','hazmincen','sses','photo lab','air government','hazmat reuse','industrial facilities',\n",
    "      'incinerator','paint mixing issue','open ocean','navigation','trash disposal operation','oil analysis lab','transports'],\n",
    "    'cr':['galley','crew mess','crew berthing','head','mess deck','crew space','physical fitness room','crew scullery',\n",
    "         'scullery','wardroom galley','gym','crew space shop','recreation area space','general habitability space','chaplain space','training space',\n",
    "         'flag officer galley','crew laundry','crew shelter', 'crew barber', 'medical crew mess room','chiefs cpo mess','chiefs mess','wardroom mess','class mess',\n",
    "      'quarterdeck','medical treatment room','main medical area','medical dental','medical records room','recreational area',\n",
    "      'cpo nco galley','wardroom','stateroom','washroom','bread room','exam room','veg prep room','wardroom scullery','minor operating room',\n",
    "       'ready room','wardroom pantry','sterilizing room','conference room','home residence area','inpatient area','obstacle course','laundry','laundry press','laundry issue','habitability',\n",
    "      'bakery','lounge', 'vestibule','library','basketball court','chiefs cpo berthing','house','cvic','athletic field',\n",
    "       'shower','cpo nco scullery','cleaning gear issue locker','gear locker','football field','dental stowage','troop berthing','dental ray','water closet',\n",
    "      'ward','learning resource center','hiking jogging path','chain locker','preventive dentistry','tennis court','blood bank','commercial building',\n",
    "       'club','facility school','cabin','shower water closet','barracks','enlisted quarters'],\n",
    "    'sp':['fantail','brow','berthing area','forecastle','topside','pier','hoist space shop','structures space shop','ram space shop','canvas space shop','crane space shop','canvas bunting space shop',\n",
    "         'anchor windlass space','decon space station','winch crane space','fan room','amidships','non govt ship unknown','non govt ship','concrete asphalt plant','operational industrial building plant',\n",
    "      'barge','bilge','port bow','boom','mast','platform','hull underwater tanks voids','antenna','stern','mount','ram',\n",
    "      'hold','brig','tank','pool','kingpost','small boat','sail loft','yard']\n",
    "}"
   ]
  },
  {
   "cell_type": "code",
   "execution_count": 10,
   "metadata": {},
   "outputs": [],
   "source": [
    "for k, v in target_for_values.items():\n",
    "    df1['AREA']=df1['AREA'].replace(dict.fromkeys(v,k))"
   ]
  },
  {
   "cell_type": "code",
   "execution_count": 11,
   "metadata": {},
   "outputs": [],
   "source": [
    "cats = [\"fd\",\"pw\",\"aa\",\"ma\",\"ea\",\"ca\",\"ga\",\"sp\",\"cr\"]\n",
    "for i in range(len(cats)):\n",
    "    df1['AREA'] = df1['AREA'].replace(cats[i], i)\n",
    "    "
   ]
  },
  {
   "cell_type": "code",
   "execution_count": 12,
   "metadata": {},
   "outputs": [],
   "source": [
    "df1 = df1.dropna()"
   ]
  },
  {
   "cell_type": "code",
   "execution_count": 13,
   "metadata": {},
   "outputs": [
    {
     "name": "stdout",
     "output_type": "stream",
     "text": [
      "<class 'pandas.core.frame.DataFrame'>\n",
      "Int64Index: 4666 entries, 0 to 7323\n",
      "Data columns (total 22 columns):\n",
      " #   Column              Non-Null Count  Dtype  \n",
      "---  ------              --------------  -----  \n",
      " 0   PAYGRADE            4666 non-null   int64  \n",
      " 1   PCN_C               4666 non-null   int64  \n",
      " 2   AREA_C              4666 non-null   object \n",
      " 3   INJ_CLASSN_C        4666 non-null   int64  \n",
      " 4   AGE                 4666 non-null   float64\n",
      " 5   SEX_C               4666 non-null   int64  \n",
      " 6   AREA                4666 non-null   int64  \n",
      " 7   PCN_NAME            4666 non-null   object \n",
      " 8   INJ_CLASSN          4666 non-null   object \n",
      " 9   EVENT_DATE_TIME     4666 non-null   float64\n",
      " 10  FY                  4666 non-null   int64  \n",
      " 11  BRIEF_NARR          4666 non-null   object \n",
      " 12  EVENT_SEVTY_C       4666 non-null   int64  \n",
      " 13  ACTY_NAME_LONG      4666 non-null   object \n",
      " 14  VESL_TYPE           4666 non-null   int64  \n",
      " 15  emonth              4666 non-null   int32  \n",
      " 16  eweek               4666 non-null   int32  \n",
      " 17  ehrmin              4666 non-null   int32  \n",
      " 18  actycommissioned    4666 non-null   int64  \n",
      " 19  actydecommissioned  4666 non-null   int64  \n",
      " 20  actyrank            4666 non-null   int64  \n",
      " 21  pcnfreq             4666 non-null   int64  \n",
      "dtypes: float64(2), int32(3), int64(12), object(5)\n",
      "memory usage: 783.7+ KB\n"
     ]
    }
   ],
   "source": [
    "df1.info()"
   ]
  },
  {
   "cell_type": "code",
   "execution_count": 14,
   "metadata": {},
   "outputs": [],
   "source": [
    "# 'EVENT_DATE_TIME'??\n",
    "# remove\n",
    "df1.drop(['AREA_C','EVENT_DATE_TIME','pcnfreq','PCN_NAME','EVENT_SEVTY_C','INJ_CLASSN', 'BRIEF_NARR','ACTY_NAME_LONG','actycommissioned','actydecommissioned',\n",
    "         'eweek'],axis=1,inplace= True)\n",
    "\n",
    "#################################################################################\n",
    "#### data preprocessing done ####"
   ]
  },
  {
   "cell_type": "code",
   "execution_count": 15,
   "metadata": {},
   "outputs": [
    {
     "data": {
      "text/plain": [
       "Index(['PAYGRADE', 'PCN_C', 'INJ_CLASSN_C', 'AGE', 'SEX_C', 'AREA', 'FY',\n",
       "       'VESL_TYPE', 'emonth', 'ehrmin', 'actyrank'],\n",
       "      dtype='object')"
      ]
     },
     "execution_count": 15,
     "metadata": {},
     "output_type": "execute_result"
    }
   ],
   "source": [
    "df1.columns"
   ]
  },
  {
   "cell_type": "code",
   "execution_count": 16,
   "metadata": {},
   "outputs": [
    {
     "data": {
      "text/html": [
       "<div>\n",
       "<style scoped>\n",
       "    .dataframe tbody tr th:only-of-type {\n",
       "        vertical-align: middle;\n",
       "    }\n",
       "\n",
       "    .dataframe tbody tr th {\n",
       "        vertical-align: top;\n",
       "    }\n",
       "\n",
       "    .dataframe thead th {\n",
       "        text-align: right;\n",
       "    }\n",
       "</style>\n",
       "<table border=\"1\" class=\"dataframe\">\n",
       "  <thead>\n",
       "    <tr style=\"text-align: right;\">\n",
       "      <th></th>\n",
       "      <th>0</th>\n",
       "      <th>1</th>\n",
       "      <th>2</th>\n",
       "      <th>3</th>\n",
       "      <th>4</th>\n",
       "      <th>7</th>\n",
       "      <th>14</th>\n",
       "      <th>16</th>\n",
       "      <th>17</th>\n",
       "      <th>19</th>\n",
       "      <th>...</th>\n",
       "      <th>7311</th>\n",
       "      <th>7312</th>\n",
       "      <th>7314</th>\n",
       "      <th>7315</th>\n",
       "      <th>7316</th>\n",
       "      <th>7318</th>\n",
       "      <th>7320</th>\n",
       "      <th>7321</th>\n",
       "      <th>7322</th>\n",
       "      <th>7323</th>\n",
       "    </tr>\n",
       "  </thead>\n",
       "  <tbody>\n",
       "    <tr>\n",
       "      <th>PAYGRADE</th>\n",
       "      <td>4.0</td>\n",
       "      <td>5.0</td>\n",
       "      <td>6.0</td>\n",
       "      <td>5.0</td>\n",
       "      <td>4.0</td>\n",
       "      <td>4.0</td>\n",
       "      <td>3.0</td>\n",
       "      <td>4.0</td>\n",
       "      <td>4.0</td>\n",
       "      <td>5.0</td>\n",
       "      <td>...</td>\n",
       "      <td>4.0</td>\n",
       "      <td>4.0</td>\n",
       "      <td>6.0</td>\n",
       "      <td>6.0</td>\n",
       "      <td>4.0</td>\n",
       "      <td>3.0</td>\n",
       "      <td>5.0</td>\n",
       "      <td>6.0</td>\n",
       "      <td>5.0</td>\n",
       "      <td>4.0</td>\n",
       "    </tr>\n",
       "    <tr>\n",
       "      <th>PCN_C</th>\n",
       "      <td>3.0</td>\n",
       "      <td>3.0</td>\n",
       "      <td>1.0</td>\n",
       "      <td>3.0</td>\n",
       "      <td>3.0</td>\n",
       "      <td>3.0</td>\n",
       "      <td>1.0</td>\n",
       "      <td>2.0</td>\n",
       "      <td>5.0</td>\n",
       "      <td>6.0</td>\n",
       "      <td>...</td>\n",
       "      <td>3.0</td>\n",
       "      <td>3.0</td>\n",
       "      <td>2.0</td>\n",
       "      <td>6.0</td>\n",
       "      <td>12.0</td>\n",
       "      <td>2.0</td>\n",
       "      <td>0.0</td>\n",
       "      <td>3.0</td>\n",
       "      <td>4.0</td>\n",
       "      <td>3.0</td>\n",
       "    </tr>\n",
       "    <tr>\n",
       "      <th>INJ_CLASSN_C</th>\n",
       "      <td>2.0</td>\n",
       "      <td>2.0</td>\n",
       "      <td>2.0</td>\n",
       "      <td>1.0</td>\n",
       "      <td>3.0</td>\n",
       "      <td>3.0</td>\n",
       "      <td>2.0</td>\n",
       "      <td>2.0</td>\n",
       "      <td>3.0</td>\n",
       "      <td>2.0</td>\n",
       "      <td>...</td>\n",
       "      <td>2.0</td>\n",
       "      <td>2.0</td>\n",
       "      <td>2.0</td>\n",
       "      <td>2.0</td>\n",
       "      <td>2.0</td>\n",
       "      <td>2.0</td>\n",
       "      <td>2.0</td>\n",
       "      <td>1.0</td>\n",
       "      <td>2.0</td>\n",
       "      <td>2.0</td>\n",
       "    </tr>\n",
       "    <tr>\n",
       "      <th>AGE</th>\n",
       "      <td>21.0</td>\n",
       "      <td>26.0</td>\n",
       "      <td>42.0</td>\n",
       "      <td>24.0</td>\n",
       "      <td>25.0</td>\n",
       "      <td>19.0</td>\n",
       "      <td>20.0</td>\n",
       "      <td>19.0</td>\n",
       "      <td>20.0</td>\n",
       "      <td>24.0</td>\n",
       "      <td>...</td>\n",
       "      <td>33.0</td>\n",
       "      <td>24.0</td>\n",
       "      <td>29.0</td>\n",
       "      <td>19.0</td>\n",
       "      <td>21.0</td>\n",
       "      <td>22.0</td>\n",
       "      <td>28.0</td>\n",
       "      <td>31.0</td>\n",
       "      <td>22.0</td>\n",
       "      <td>23.0</td>\n",
       "    </tr>\n",
       "    <tr>\n",
       "      <th>SEX_C</th>\n",
       "      <td>0.0</td>\n",
       "      <td>0.0</td>\n",
       "      <td>0.0</td>\n",
       "      <td>0.0</td>\n",
       "      <td>0.0</td>\n",
       "      <td>0.0</td>\n",
       "      <td>0.0</td>\n",
       "      <td>1.0</td>\n",
       "      <td>0.0</td>\n",
       "      <td>0.0</td>\n",
       "      <td>...</td>\n",
       "      <td>0.0</td>\n",
       "      <td>0.0</td>\n",
       "      <td>1.0</td>\n",
       "      <td>0.0</td>\n",
       "      <td>0.0</td>\n",
       "      <td>0.0</td>\n",
       "      <td>0.0</td>\n",
       "      <td>0.0</td>\n",
       "      <td>0.0</td>\n",
       "      <td>1.0</td>\n",
       "    </tr>\n",
       "    <tr>\n",
       "      <th>AREA</th>\n",
       "      <td>1.0</td>\n",
       "      <td>1.0</td>\n",
       "      <td>1.0</td>\n",
       "      <td>3.0</td>\n",
       "      <td>6.0</td>\n",
       "      <td>6.0</td>\n",
       "      <td>2.0</td>\n",
       "      <td>6.0</td>\n",
       "      <td>2.0</td>\n",
       "      <td>3.0</td>\n",
       "      <td>...</td>\n",
       "      <td>5.0</td>\n",
       "      <td>0.0</td>\n",
       "      <td>4.0</td>\n",
       "      <td>2.0</td>\n",
       "      <td>8.0</td>\n",
       "      <td>8.0</td>\n",
       "      <td>6.0</td>\n",
       "      <td>2.0</td>\n",
       "      <td>8.0</td>\n",
       "      <td>7.0</td>\n",
       "    </tr>\n",
       "    <tr>\n",
       "      <th>FY</th>\n",
       "      <td>2006.0</td>\n",
       "      <td>2006.0</td>\n",
       "      <td>2006.0</td>\n",
       "      <td>2006.0</td>\n",
       "      <td>2006.0</td>\n",
       "      <td>2006.0</td>\n",
       "      <td>2006.0</td>\n",
       "      <td>2006.0</td>\n",
       "      <td>2004.0</td>\n",
       "      <td>2004.0</td>\n",
       "      <td>...</td>\n",
       "      <td>2019.0</td>\n",
       "      <td>2019.0</td>\n",
       "      <td>2019.0</td>\n",
       "      <td>2019.0</td>\n",
       "      <td>2019.0</td>\n",
       "      <td>2019.0</td>\n",
       "      <td>2019.0</td>\n",
       "      <td>2019.0</td>\n",
       "      <td>2019.0</td>\n",
       "      <td>2019.0</td>\n",
       "    </tr>\n",
       "    <tr>\n",
       "      <th>VESL_TYPE</th>\n",
       "      <td>1.0</td>\n",
       "      <td>1.0</td>\n",
       "      <td>1.0</td>\n",
       "      <td>1.0</td>\n",
       "      <td>1.0</td>\n",
       "      <td>1.0</td>\n",
       "      <td>1.0</td>\n",
       "      <td>1.0</td>\n",
       "      <td>0.0</td>\n",
       "      <td>1.0</td>\n",
       "      <td>...</td>\n",
       "      <td>1.0</td>\n",
       "      <td>1.0</td>\n",
       "      <td>1.0</td>\n",
       "      <td>1.0</td>\n",
       "      <td>1.0</td>\n",
       "      <td>1.0</td>\n",
       "      <td>1.0</td>\n",
       "      <td>1.0</td>\n",
       "      <td>1.0</td>\n",
       "      <td>1.0</td>\n",
       "    </tr>\n",
       "    <tr>\n",
       "      <th>emonth</th>\n",
       "      <td>4.0</td>\n",
       "      <td>4.0</td>\n",
       "      <td>9.0</td>\n",
       "      <td>12.0</td>\n",
       "      <td>12.0</td>\n",
       "      <td>11.0</td>\n",
       "      <td>2.0</td>\n",
       "      <td>10.0</td>\n",
       "      <td>7.0</td>\n",
       "      <td>8.0</td>\n",
       "      <td>...</td>\n",
       "      <td>4.0</td>\n",
       "      <td>7.0</td>\n",
       "      <td>3.0</td>\n",
       "      <td>6.0</td>\n",
       "      <td>4.0</td>\n",
       "      <td>4.0</td>\n",
       "      <td>4.0</td>\n",
       "      <td>7.0</td>\n",
       "      <td>7.0</td>\n",
       "      <td>3.0</td>\n",
       "    </tr>\n",
       "    <tr>\n",
       "      <th>ehrmin</th>\n",
       "      <td>230.0</td>\n",
       "      <td>2200.0</td>\n",
       "      <td>1020.0</td>\n",
       "      <td>1230.0</td>\n",
       "      <td>1930.0</td>\n",
       "      <td>1700.0</td>\n",
       "      <td>1300.0</td>\n",
       "      <td>1030.0</td>\n",
       "      <td>930.0</td>\n",
       "      <td>800.0</td>\n",
       "      <td>...</td>\n",
       "      <td>15.0</td>\n",
       "      <td>1200.0</td>\n",
       "      <td>1230.0</td>\n",
       "      <td>1900.0</td>\n",
       "      <td>2000.0</td>\n",
       "      <td>1030.0</td>\n",
       "      <td>2000.0</td>\n",
       "      <td>1445.0</td>\n",
       "      <td>1400.0</td>\n",
       "      <td>1430.0</td>\n",
       "    </tr>\n",
       "    <tr>\n",
       "      <th>actyrank</th>\n",
       "      <td>8.0</td>\n",
       "      <td>8.0</td>\n",
       "      <td>4.0</td>\n",
       "      <td>11.0</td>\n",
       "      <td>6.0</td>\n",
       "      <td>6.0</td>\n",
       "      <td>8.0</td>\n",
       "      <td>3.0</td>\n",
       "      <td>2.0</td>\n",
       "      <td>11.0</td>\n",
       "      <td>...</td>\n",
       "      <td>10.0</td>\n",
       "      <td>3.0</td>\n",
       "      <td>11.0</td>\n",
       "      <td>10.0</td>\n",
       "      <td>10.0</td>\n",
       "      <td>10.0</td>\n",
       "      <td>7.0</td>\n",
       "      <td>7.0</td>\n",
       "      <td>7.0</td>\n",
       "      <td>8.0</td>\n",
       "    </tr>\n",
       "  </tbody>\n",
       "</table>\n",
       "<p>11 rows × 4666 columns</p>\n",
       "</div>"
      ],
      "text/plain": [
       "                0       1       2       3       4       7       14      16    \\\n",
       "PAYGRADE         4.0     5.0     6.0     5.0     4.0     4.0     3.0     4.0   \n",
       "PCN_C            3.0     3.0     1.0     3.0     3.0     3.0     1.0     2.0   \n",
       "INJ_CLASSN_C     2.0     2.0     2.0     1.0     3.0     3.0     2.0     2.0   \n",
       "AGE             21.0    26.0    42.0    24.0    25.0    19.0    20.0    19.0   \n",
       "SEX_C            0.0     0.0     0.0     0.0     0.0     0.0     0.0     1.0   \n",
       "AREA             1.0     1.0     1.0     3.0     6.0     6.0     2.0     6.0   \n",
       "FY            2006.0  2006.0  2006.0  2006.0  2006.0  2006.0  2006.0  2006.0   \n",
       "VESL_TYPE        1.0     1.0     1.0     1.0     1.0     1.0     1.0     1.0   \n",
       "emonth           4.0     4.0     9.0    12.0    12.0    11.0     2.0    10.0   \n",
       "ehrmin         230.0  2200.0  1020.0  1230.0  1930.0  1700.0  1300.0  1030.0   \n",
       "actyrank         8.0     8.0     4.0    11.0     6.0     6.0     8.0     3.0   \n",
       "\n",
       "                17      19    ...    7311    7312    7314    7315    7316  \\\n",
       "PAYGRADE         4.0     5.0  ...     4.0     4.0     6.0     6.0     4.0   \n",
       "PCN_C            5.0     6.0  ...     3.0     3.0     2.0     6.0    12.0   \n",
       "INJ_CLASSN_C     3.0     2.0  ...     2.0     2.0     2.0     2.0     2.0   \n",
       "AGE             20.0    24.0  ...    33.0    24.0    29.0    19.0    21.0   \n",
       "SEX_C            0.0     0.0  ...     0.0     0.0     1.0     0.0     0.0   \n",
       "AREA             2.0     3.0  ...     5.0     0.0     4.0     2.0     8.0   \n",
       "FY            2004.0  2004.0  ...  2019.0  2019.0  2019.0  2019.0  2019.0   \n",
       "VESL_TYPE        0.0     1.0  ...     1.0     1.0     1.0     1.0     1.0   \n",
       "emonth           7.0     8.0  ...     4.0     7.0     3.0     6.0     4.0   \n",
       "ehrmin         930.0   800.0  ...    15.0  1200.0  1230.0  1900.0  2000.0   \n",
       "actyrank         2.0    11.0  ...    10.0     3.0    11.0    10.0    10.0   \n",
       "\n",
       "                7318    7320    7321    7322    7323  \n",
       "PAYGRADE         3.0     5.0     6.0     5.0     4.0  \n",
       "PCN_C            2.0     0.0     3.0     4.0     3.0  \n",
       "INJ_CLASSN_C     2.0     2.0     1.0     2.0     2.0  \n",
       "AGE             22.0    28.0    31.0    22.0    23.0  \n",
       "SEX_C            0.0     0.0     0.0     0.0     1.0  \n",
       "AREA             8.0     6.0     2.0     8.0     7.0  \n",
       "FY            2019.0  2019.0  2019.0  2019.0  2019.0  \n",
       "VESL_TYPE        1.0     1.0     1.0     1.0     1.0  \n",
       "emonth           4.0     4.0     7.0     7.0     3.0  \n",
       "ehrmin        1030.0  2000.0  1445.0  1400.0  1430.0  \n",
       "actyrank        10.0     7.0     7.0     7.0     8.0  \n",
       "\n",
       "[11 rows x 4666 columns]"
      ]
     },
     "execution_count": 16,
     "metadata": {},
     "output_type": "execute_result"
    }
   ],
   "source": [
    "df1.T"
   ]
  },
  {
   "cell_type": "markdown",
   "metadata": {},
   "source": [
    "### tests"
   ]
  },
  {
   "cell_type": "code",
   "execution_count": 17,
   "metadata": {},
   "outputs": [],
   "source": [
    "import pandas as pd\n",
    "import scipy.stats as scs\n",
    "\n",
    "\n",
    "def categories(series):\n",
    "    return range(int(series.min()), int(series.max()) + 1)\n",
    "\n",
    "\n",
    "def chi_square_of_df_cols(df, col1, col2):\n",
    "    #df_col1, df_col2 = df[col1], df[col2]\n",
    "    return scs.chi2_contingency(pd.crosstab(df[col1], df[col2]))\n",
    "\n",
    "def calculate_chipvals(df):\n",
    "    df = df.dropna()._get_numeric_data()\n",
    "    dfcols = pd.DataFrame(columns=df.columns)\n",
    "    pvalues = dfcols.transpose().join(dfcols, how='outer')\n",
    "    for r in df.columns:\n",
    "        for c in df.columns:\n",
    "            #print(r,c)\n",
    "            pvalues[r][c] = round(chi_square_of_df_cols(df, r, c)[1], 4)\n",
    "    return pvalues\n",
    "\n",
    "def calculate_chivals(df):\n",
    "    df = df.dropna()._get_numeric_data()\n",
    "    dfcols = pd.DataFrame(columns=df.columns)\n",
    "    pvalues = dfcols.transpose().join(dfcols, how='outer')\n",
    "    for r in df.columns:\n",
    "        for c in df.columns:\n",
    "            #print(r,c)\n",
    "            pvalues[r][c] = round(chi_square_of_df_cols(df, r, c)[0], 4)\n",
    "    return pvalues"
   ]
  },
  {
   "cell_type": "code",
   "execution_count": 18,
   "metadata": {},
   "outputs": [
    {
     "name": "stdout",
     "output_type": "stream",
     "text": [
      "Ks_2sampResult(statistic=0.008171977594650444, pvalue=1.0)\n"
     ]
    }
   ],
   "source": [
    "#konglomorov smirnov test for imputed values\n",
    "from scipy.stats import ks_2samp\n",
    "\n",
    "x = dfor_age\n",
    "x = x.dropna()\n",
    "y = df1['AGE']\n",
    "\n",
    "print(ks_2samp(x, y))"
   ]
  },
  {
   "cell_type": "code",
   "execution_count": 19,
   "metadata": {},
   "outputs": [
    {
     "name": "stdout",
     "output_type": "stream",
     "text": [
      "Ks_2sampResult(statistic=0.013427573556934073, pvalue=1.0)\n"
     ]
    },
    {
     "data": {
      "text/html": [
       "<div>\n",
       "<style scoped>\n",
       "    .dataframe tbody tr th:only-of-type {\n",
       "        vertical-align: middle;\n",
       "    }\n",
       "\n",
       "    .dataframe tbody tr th {\n",
       "        vertical-align: top;\n",
       "    }\n",
       "\n",
       "    .dataframe thead th {\n",
       "        text-align: right;\n",
       "    }\n",
       "</style>\n",
       "<table border=\"1\" class=\"dataframe\">\n",
       "  <thead>\n",
       "    <tr style=\"text-align: right;\">\n",
       "      <th></th>\n",
       "      <th>0</th>\n",
       "      <th>1</th>\n",
       "    </tr>\n",
       "  </thead>\n",
       "  <tbody>\n",
       "    <tr>\n",
       "      <th>0</th>\n",
       "      <td>88654</td>\n",
       "      <td>455.107</td>\n",
       "    </tr>\n",
       "    <tr>\n",
       "      <th>1</th>\n",
       "      <td>455.107</td>\n",
       "      <td>88654</td>\n",
       "    </tr>\n",
       "  </tbody>\n",
       "</table>\n",
       "</div>"
      ],
      "text/plain": [
       "         0        1\n",
       "0    88654  455.107\n",
       "1  455.107    88654"
      ]
     },
     "execution_count": 19,
     "metadata": {},
     "output_type": "execute_result"
    }
   ],
   "source": [
    "x = dfor_pg\n",
    "x = x.dropna()\n",
    "\n",
    "cats = [\"UNK\",\"MIDN\",\"E01\",\"E02\",\"E03\",\"E04\",\"E05\",\"E06\",\"E07\",\"E08\",\"E09\",\"O01\",\"O02\",\"W02\",\"O03\",\"W04\",\"O04\",\"W05\",\"O05\",\"O06\",\"GS12\"]\n",
    "for i in range(len(cats)):\n",
    "    x = x.replace(cats[i], i)\n",
    "\n",
    "y = df1['PAYGRADE']\n",
    "\n",
    "x.reset_index(drop=True, inplace=True)\n",
    "y.reset_index(drop=True, inplace=True)\n",
    "\n",
    "print(ks_2samp(x, y))\n",
    "\n",
    "obs = pd.concat([x, y[:len(x.to_numpy())]], axis=1, ignore_index=True)\n",
    "calculate_chivals(obs)"
   ]
  },
  {
   "cell_type": "code",
   "execution_count": 20,
   "metadata": {},
   "outputs": [
    {
     "data": {
      "text/html": [
       "<div>\n",
       "<style scoped>\n",
       "    .dataframe tbody tr th:only-of-type {\n",
       "        vertical-align: middle;\n",
       "    }\n",
       "\n",
       "    .dataframe tbody tr th {\n",
       "        vertical-align: top;\n",
       "    }\n",
       "\n",
       "    .dataframe thead th {\n",
       "        text-align: right;\n",
       "    }\n",
       "</style>\n",
       "<table border=\"1\" class=\"dataframe\">\n",
       "  <thead>\n",
       "    <tr style=\"text-align: right;\">\n",
       "      <th></th>\n",
       "      <th>0</th>\n",
       "      <th>1</th>\n",
       "    </tr>\n",
       "  </thead>\n",
       "  <tbody>\n",
       "    <tr>\n",
       "      <th>0</th>\n",
       "      <td>0</td>\n",
       "      <td>0.0006</td>\n",
       "    </tr>\n",
       "    <tr>\n",
       "      <th>1</th>\n",
       "      <td>0.0006</td>\n",
       "      <td>0</td>\n",
       "    </tr>\n",
       "  </tbody>\n",
       "</table>\n",
       "</div>"
      ],
      "text/plain": [
       "        0       1\n",
       "0       0  0.0006\n",
       "1  0.0006       0"
      ]
     },
     "execution_count": 20,
     "metadata": {},
     "output_type": "execute_result"
    }
   ],
   "source": [
    "calculate_chipvals(obs)"
   ]
  },
  {
   "cell_type": "code",
   "execution_count": 21,
   "metadata": {},
   "outputs": [
    {
     "name": "stdout",
     "output_type": "stream",
     "text": [
      "Ks_2sampResult(statistic=0.04641638225255973, pvalue=1.0)\n"
     ]
    },
    {
     "data": {
      "text/html": [
       "<div>\n",
       "<style scoped>\n",
       "    .dataframe tbody tr th:only-of-type {\n",
       "        vertical-align: middle;\n",
       "    }\n",
       "\n",
       "    .dataframe tbody tr th {\n",
       "        vertical-align: top;\n",
       "    }\n",
       "\n",
       "    .dataframe thead th {\n",
       "        text-align: right;\n",
       "    }\n",
       "</style>\n",
       "<table border=\"1\" class=\"dataframe\">\n",
       "  <thead>\n",
       "    <tr style=\"text-align: right;\">\n",
       "      <th></th>\n",
       "      <th>0</th>\n",
       "      <th>1</th>\n",
       "    </tr>\n",
       "  </thead>\n",
       "  <tbody>\n",
       "    <tr>\n",
       "      <th>0</th>\n",
       "      <td>6537.48</td>\n",
       "      <td>2.9089</td>\n",
       "    </tr>\n",
       "    <tr>\n",
       "      <th>1</th>\n",
       "      <td>2.9089</td>\n",
       "      <td>6537.41</td>\n",
       "    </tr>\n",
       "  </tbody>\n",
       "</table>\n",
       "</div>"
      ],
      "text/plain": [
       "         0        1\n",
       "0  6537.48   2.9089\n",
       "1   2.9089  6537.41"
      ]
     },
     "execution_count": 21,
     "metadata": {},
     "output_type": "execute_result"
    }
   ],
   "source": [
    "x = dfor_sex\n",
    "x = x.dropna()\n",
    "\n",
    "cats = ['M','F']\n",
    "for i in range(len(cats)):\n",
    "    x = x.replace(cats[i], i)\n",
    "\n",
    "y = nadf['SEX_C']\n",
    "\n",
    "cats = ['M','F']\n",
    "for i in range(len(cats)):\n",
    "    y = y.replace(cats[i], i)\n",
    "\n",
    "x.reset_index(drop=True, inplace=True)\n",
    "y.reset_index(drop=True, inplace=True)\n",
    "\n",
    "print(ks_2samp(x, y))\n",
    "\n",
    "obs = pd.concat([x, y[:len(x.to_numpy())]], axis=1, ignore_index=True)\n",
    "calculate_chivals(obs)"
   ]
  },
  {
   "cell_type": "code",
   "execution_count": 22,
   "metadata": {},
   "outputs": [
    {
     "data": {
      "text/html": [
       "<div>\n",
       "<style scoped>\n",
       "    .dataframe tbody tr th:only-of-type {\n",
       "        vertical-align: middle;\n",
       "    }\n",
       "\n",
       "    .dataframe tbody tr th {\n",
       "        vertical-align: top;\n",
       "    }\n",
       "\n",
       "    .dataframe thead th {\n",
       "        text-align: right;\n",
       "    }\n",
       "</style>\n",
       "<table border=\"1\" class=\"dataframe\">\n",
       "  <thead>\n",
       "    <tr style=\"text-align: right;\">\n",
       "      <th></th>\n",
       "      <th>0</th>\n",
       "      <th>1</th>\n",
       "    </tr>\n",
       "  </thead>\n",
       "  <tbody>\n",
       "    <tr>\n",
       "      <th>0</th>\n",
       "      <td>0</td>\n",
       "      <td>0.0881</td>\n",
       "    </tr>\n",
       "    <tr>\n",
       "      <th>1</th>\n",
       "      <td>0.0881</td>\n",
       "      <td>0</td>\n",
       "    </tr>\n",
       "  </tbody>\n",
       "</table>\n",
       "</div>"
      ],
      "text/plain": [
       "        0       1\n",
       "0       0  0.0881\n",
       "1  0.0881       0"
      ]
     },
     "execution_count": 22,
     "metadata": {},
     "output_type": "execute_result"
    }
   ],
   "source": [
    "calculate_chipvals(obs)"
   ]
  },
  {
   "cell_type": "code",
   "execution_count": 23,
   "metadata": {},
   "outputs": [
    {
     "data": {
      "text/html": [
       "<div>\n",
       "<style scoped>\n",
       "    .dataframe tbody tr th:only-of-type {\n",
       "        vertical-align: middle;\n",
       "    }\n",
       "\n",
       "    .dataframe tbody tr th {\n",
       "        vertical-align: top;\n",
       "    }\n",
       "\n",
       "    .dataframe thead th {\n",
       "        text-align: right;\n",
       "    }\n",
       "</style>\n",
       "<table border=\"1\" class=\"dataframe\">\n",
       "  <thead>\n",
       "    <tr style=\"text-align: right;\">\n",
       "      <th></th>\n",
       "      <th>AGE</th>\n",
       "      <th>FY</th>\n",
       "      <th>ehrmin</th>\n",
       "    </tr>\n",
       "  </thead>\n",
       "  <tbody>\n",
       "    <tr>\n",
       "      <th>AGE</th>\n",
       "      <td>1.000000</td>\n",
       "      <td>0.004615</td>\n",
       "      <td>-0.035610</td>\n",
       "    </tr>\n",
       "    <tr>\n",
       "      <th>FY</th>\n",
       "      <td>0.004615</td>\n",
       "      <td>1.000000</td>\n",
       "      <td>0.017866</td>\n",
       "    </tr>\n",
       "    <tr>\n",
       "      <th>ehrmin</th>\n",
       "      <td>-0.035610</td>\n",
       "      <td>0.017866</td>\n",
       "      <td>1.000000</td>\n",
       "    </tr>\n",
       "  </tbody>\n",
       "</table>\n",
       "</div>"
      ],
      "text/plain": [
       "             AGE        FY    ehrmin\n",
       "AGE     1.000000  0.004615 -0.035610\n",
       "FY      0.004615  1.000000  0.017866\n",
       "ehrmin -0.035610  0.017866  1.000000"
      ]
     },
     "execution_count": 23,
     "metadata": {},
     "output_type": "execute_result"
    }
   ],
   "source": [
    "## pearsons correlation\n",
    "df1[['AGE','FY','ehrmin']].corr()"
   ]
  },
  {
   "cell_type": "code",
   "execution_count": 24,
   "metadata": {},
   "outputs": [
    {
     "data": {
      "text/html": [
       "<div>\n",
       "<style scoped>\n",
       "    .dataframe tbody tr th:only-of-type {\n",
       "        vertical-align: middle;\n",
       "    }\n",
       "\n",
       "    .dataframe tbody tr th {\n",
       "        vertical-align: top;\n",
       "    }\n",
       "\n",
       "    .dataframe thead th {\n",
       "        text-align: right;\n",
       "    }\n",
       "</style>\n",
       "<table border=\"1\" class=\"dataframe\">\n",
       "  <thead>\n",
       "    <tr style=\"text-align: right;\">\n",
       "      <th></th>\n",
       "      <th>AGE</th>\n",
       "      <th>FY</th>\n",
       "      <th>ehrmin</th>\n",
       "    </tr>\n",
       "  </thead>\n",
       "  <tbody>\n",
       "    <tr>\n",
       "      <th>AGE</th>\n",
       "      <td>0</td>\n",
       "      <td>0.7526</td>\n",
       "      <td>0.015</td>\n",
       "    </tr>\n",
       "    <tr>\n",
       "      <th>FY</th>\n",
       "      <td>0.7526</td>\n",
       "      <td>0</td>\n",
       "      <td>0.2224</td>\n",
       "    </tr>\n",
       "    <tr>\n",
       "      <th>ehrmin</th>\n",
       "      <td>0.015</td>\n",
       "      <td>0.2224</td>\n",
       "      <td>0</td>\n",
       "    </tr>\n",
       "  </tbody>\n",
       "</table>\n",
       "</div>"
      ],
      "text/plain": [
       "           AGE      FY  ehrmin\n",
       "AGE          0  0.7526   0.015\n",
       "FY      0.7526       0  0.2224\n",
       "ehrmin   0.015  0.2224       0"
      ]
     },
     "execution_count": 24,
     "metadata": {},
     "output_type": "execute_result"
    }
   ],
   "source": [
    "calculate_pvalues(df1[['AGE','FY','ehrmin']])"
   ]
  },
  {
   "cell_type": "markdown",
   "metadata": {},
   "source": [
    "### chi squared contingency test"
   ]
  },
  {
   "cell_type": "markdown",
   "metadata": {},
   "source": [
    "### Nominal"
   ]
  },
  {
   "cell_type": "code",
   "execution_count": 25,
   "metadata": {},
   "outputs": [
    {
     "data": {
      "text/html": [
       "<div>\n",
       "<style scoped>\n",
       "    .dataframe tbody tr th:only-of-type {\n",
       "        vertical-align: middle;\n",
       "    }\n",
       "\n",
       "    .dataframe tbody tr th {\n",
       "        vertical-align: top;\n",
       "    }\n",
       "\n",
       "    .dataframe thead th {\n",
       "        text-align: right;\n",
       "    }\n",
       "</style>\n",
       "<table border=\"1\" class=\"dataframe\">\n",
       "  <thead>\n",
       "    <tr style=\"text-align: right;\">\n",
       "      <th></th>\n",
       "      <th>PAYGRADE</th>\n",
       "      <th>PCN_C</th>\n",
       "      <th>SEX_C</th>\n",
       "      <th>AREA</th>\n",
       "      <th>VESL_TYPE</th>\n",
       "      <th>emonth</th>\n",
       "      <th>actyrank</th>\n",
       "    </tr>\n",
       "  </thead>\n",
       "  <tbody>\n",
       "    <tr>\n",
       "      <th>0</th>\n",
       "      <td>4</td>\n",
       "      <td>3</td>\n",
       "      <td>0</td>\n",
       "      <td>1</td>\n",
       "      <td>1</td>\n",
       "      <td>4</td>\n",
       "      <td>8</td>\n",
       "    </tr>\n",
       "    <tr>\n",
       "      <th>1</th>\n",
       "      <td>5</td>\n",
       "      <td>3</td>\n",
       "      <td>0</td>\n",
       "      <td>1</td>\n",
       "      <td>1</td>\n",
       "      <td>4</td>\n",
       "      <td>8</td>\n",
       "    </tr>\n",
       "    <tr>\n",
       "      <th>2</th>\n",
       "      <td>6</td>\n",
       "      <td>1</td>\n",
       "      <td>0</td>\n",
       "      <td>1</td>\n",
       "      <td>1</td>\n",
       "      <td>9</td>\n",
       "      <td>4</td>\n",
       "    </tr>\n",
       "    <tr>\n",
       "      <th>3</th>\n",
       "      <td>5</td>\n",
       "      <td>3</td>\n",
       "      <td>0</td>\n",
       "      <td>3</td>\n",
       "      <td>1</td>\n",
       "      <td>12</td>\n",
       "      <td>11</td>\n",
       "    </tr>\n",
       "    <tr>\n",
       "      <th>4</th>\n",
       "      <td>4</td>\n",
       "      <td>3</td>\n",
       "      <td>0</td>\n",
       "      <td>6</td>\n",
       "      <td>1</td>\n",
       "      <td>12</td>\n",
       "      <td>6</td>\n",
       "    </tr>\n",
       "    <tr>\n",
       "      <th>...</th>\n",
       "      <td>...</td>\n",
       "      <td>...</td>\n",
       "      <td>...</td>\n",
       "      <td>...</td>\n",
       "      <td>...</td>\n",
       "      <td>...</td>\n",
       "      <td>...</td>\n",
       "    </tr>\n",
       "    <tr>\n",
       "      <th>7318</th>\n",
       "      <td>3</td>\n",
       "      <td>2</td>\n",
       "      <td>0</td>\n",
       "      <td>8</td>\n",
       "      <td>1</td>\n",
       "      <td>4</td>\n",
       "      <td>10</td>\n",
       "    </tr>\n",
       "    <tr>\n",
       "      <th>7320</th>\n",
       "      <td>5</td>\n",
       "      <td>0</td>\n",
       "      <td>0</td>\n",
       "      <td>6</td>\n",
       "      <td>1</td>\n",
       "      <td>4</td>\n",
       "      <td>7</td>\n",
       "    </tr>\n",
       "    <tr>\n",
       "      <th>7321</th>\n",
       "      <td>6</td>\n",
       "      <td>3</td>\n",
       "      <td>0</td>\n",
       "      <td>2</td>\n",
       "      <td>1</td>\n",
       "      <td>7</td>\n",
       "      <td>7</td>\n",
       "    </tr>\n",
       "    <tr>\n",
       "      <th>7322</th>\n",
       "      <td>5</td>\n",
       "      <td>4</td>\n",
       "      <td>0</td>\n",
       "      <td>8</td>\n",
       "      <td>1</td>\n",
       "      <td>7</td>\n",
       "      <td>7</td>\n",
       "    </tr>\n",
       "    <tr>\n",
       "      <th>7323</th>\n",
       "      <td>4</td>\n",
       "      <td>3</td>\n",
       "      <td>1</td>\n",
       "      <td>7</td>\n",
       "      <td>1</td>\n",
       "      <td>3</td>\n",
       "      <td>8</td>\n",
       "    </tr>\n",
       "  </tbody>\n",
       "</table>\n",
       "<p>4666 rows × 7 columns</p>\n",
       "</div>"
      ],
      "text/plain": [
       "      PAYGRADE  PCN_C  SEX_C  AREA  VESL_TYPE  emonth  actyrank\n",
       "0            4      3      0     1          1       4         8\n",
       "1            5      3      0     1          1       4         8\n",
       "2            6      1      0     1          1       9         4\n",
       "3            5      3      0     3          1      12        11\n",
       "4            4      3      0     6          1      12         6\n",
       "...        ...    ...    ...   ...        ...     ...       ...\n",
       "7318         3      2      0     8          1       4        10\n",
       "7320         5      0      0     6          1       4         7\n",
       "7321         6      3      0     2          1       7         7\n",
       "7322         5      4      0     8          1       7         7\n",
       "7323         4      3      1     7          1       3         8\n",
       "\n",
       "[4666 rows x 7 columns]"
      ]
     },
     "execution_count": 25,
     "metadata": {},
     "output_type": "execute_result"
    }
   ],
   "source": [
    "df1[['PAYGRADE', 'PCN_C', 'SEX_C', 'AREA','VESL_TYPE', 'emonth', 'actyrank']]"
   ]
  },
  {
   "cell_type": "code",
   "execution_count": 26,
   "metadata": {},
   "outputs": [
    {
     "data": {
      "text/html": [
       "<div>\n",
       "<style scoped>\n",
       "    .dataframe tbody tr th:only-of-type {\n",
       "        vertical-align: middle;\n",
       "    }\n",
       "\n",
       "    .dataframe tbody tr th {\n",
       "        vertical-align: top;\n",
       "    }\n",
       "\n",
       "    .dataframe thead th {\n",
       "        text-align: right;\n",
       "    }\n",
       "</style>\n",
       "<table border=\"1\" class=\"dataframe\">\n",
       "  <thead>\n",
       "    <tr style=\"text-align: right;\">\n",
       "      <th></th>\n",
       "      <th>PAYGRADE</th>\n",
       "      <th>PCN_C</th>\n",
       "      <th>SEX_C</th>\n",
       "      <th>AREA</th>\n",
       "      <th>VESL_TYPE</th>\n",
       "      <th>emonth</th>\n",
       "      <th>actyrank</th>\n",
       "    </tr>\n",
       "  </thead>\n",
       "  <tbody>\n",
       "    <tr>\n",
       "      <th>PAYGRADE</th>\n",
       "      <td>0</td>\n",
       "      <td>0</td>\n",
       "      <td>0.0045</td>\n",
       "      <td>0</td>\n",
       "      <td>0.992</td>\n",
       "      <td>0.1956</td>\n",
       "      <td>0.1484</td>\n",
       "    </tr>\n",
       "    <tr>\n",
       "      <th>PCN_C</th>\n",
       "      <td>0</td>\n",
       "      <td>0</td>\n",
       "      <td>0</td>\n",
       "      <td>0</td>\n",
       "      <td>0.0129</td>\n",
       "      <td>0.0213</td>\n",
       "      <td>0</td>\n",
       "    </tr>\n",
       "    <tr>\n",
       "      <th>SEX_C</th>\n",
       "      <td>0.0045</td>\n",
       "      <td>0</td>\n",
       "      <td>0</td>\n",
       "      <td>0</td>\n",
       "      <td>0.0057</td>\n",
       "      <td>0.9424</td>\n",
       "      <td>0</td>\n",
       "    </tr>\n",
       "    <tr>\n",
       "      <th>AREA</th>\n",
       "      <td>0</td>\n",
       "      <td>0</td>\n",
       "      <td>0</td>\n",
       "      <td>0</td>\n",
       "      <td>0.1116</td>\n",
       "      <td>0.0108</td>\n",
       "      <td>0</td>\n",
       "    </tr>\n",
       "    <tr>\n",
       "      <th>VESL_TYPE</th>\n",
       "      <td>0.992</td>\n",
       "      <td>0.0129</td>\n",
       "      <td>0.0057</td>\n",
       "      <td>0.1116</td>\n",
       "      <td>0</td>\n",
       "      <td>0.2581</td>\n",
       "      <td>0</td>\n",
       "    </tr>\n",
       "    <tr>\n",
       "      <th>emonth</th>\n",
       "      <td>0.1956</td>\n",
       "      <td>0.0213</td>\n",
       "      <td>0.9424</td>\n",
       "      <td>0.0108</td>\n",
       "      <td>0.2581</td>\n",
       "      <td>0</td>\n",
       "      <td>0</td>\n",
       "    </tr>\n",
       "    <tr>\n",
       "      <th>actyrank</th>\n",
       "      <td>0.1484</td>\n",
       "      <td>0</td>\n",
       "      <td>0</td>\n",
       "      <td>0</td>\n",
       "      <td>0</td>\n",
       "      <td>0</td>\n",
       "      <td>0</td>\n",
       "    </tr>\n",
       "  </tbody>\n",
       "</table>\n",
       "</div>"
      ],
      "text/plain": [
       "          PAYGRADE   PCN_C   SEX_C    AREA VESL_TYPE  emonth actyrank\n",
       "PAYGRADE         0       0  0.0045       0     0.992  0.1956   0.1484\n",
       "PCN_C            0       0       0       0    0.0129  0.0213        0\n",
       "SEX_C       0.0045       0       0       0    0.0057  0.9424        0\n",
       "AREA             0       0       0       0    0.1116  0.0108        0\n",
       "VESL_TYPE    0.992  0.0129  0.0057  0.1116         0  0.2581        0\n",
       "emonth      0.1956  0.0213  0.9424  0.0108    0.2581       0        0\n",
       "actyrank    0.1484       0       0       0         0       0        0"
      ]
     },
     "execution_count": 26,
     "metadata": {},
     "output_type": "execute_result"
    }
   ],
   "source": [
    "#print(round(chi_square_of_df_cols(df1, 'PAYGRADE', 'FY')[1],4))\n",
    "calculate_chipvals(df1[['PAYGRADE', 'PCN_C', 'SEX_C', 'AREA','VESL_TYPE', 'emonth', 'actyrank']])"
   ]
  },
  {
   "cell_type": "markdown",
   "metadata": {},
   "source": [
    "#### cramers v"
   ]
  },
  {
   "cell_type": "code",
   "execution_count": 27,
   "metadata": {},
   "outputs": [],
   "source": [
    "def cramers_v(x, y):\n",
    "    confusion_matrix = pd.crosstab(x,y)\n",
    "    chi2 = scs.chi2_contingency(confusion_matrix)[0]\n",
    "    n = confusion_matrix.sum().sum()\n",
    "    phi2 = chi2/n\n",
    "    r,k = confusion_matrix.shape\n",
    "    phi2corr = max(0, phi2-((k-1)*(r-1))/(n-1))\n",
    "    rcorr = r-((r-1)**2)/(n-1)\n",
    "    kcorr = k-((k-1)**2)/(n-1)\n",
    "    return np.sqrt(phi2corr/min((kcorr-1),(rcorr-1)))\n",
    "\n",
    "def calculate_cramers(df):\n",
    "    df = df.dropna()._get_numeric_data()\n",
    "    dfcols = pd.DataFrame(columns=df.columns)\n",
    "    pvalues = dfcols.transpose().join(dfcols, how='outer')\n",
    "    for r in df.columns:\n",
    "        for c in df.columns:\n",
    "            #print(r,c)\n",
    "            pvalues[r][c] = round(cramers_v(df1[r], df1[c]), 4)\n",
    "    return pvalues"
   ]
  },
  {
   "cell_type": "code",
   "execution_count": 28,
   "metadata": {},
   "outputs": [
    {
     "data": {
      "text/html": [
       "<div>\n",
       "<style scoped>\n",
       "    .dataframe tbody tr th:only-of-type {\n",
       "        vertical-align: middle;\n",
       "    }\n",
       "\n",
       "    .dataframe tbody tr th {\n",
       "        vertical-align: top;\n",
       "    }\n",
       "\n",
       "    .dataframe thead th {\n",
       "        text-align: right;\n",
       "    }\n",
       "</style>\n",
       "<table border=\"1\" class=\"dataframe\">\n",
       "  <thead>\n",
       "    <tr style=\"text-align: right;\">\n",
       "      <th></th>\n",
       "      <th>PAYGRADE</th>\n",
       "      <th>PCN_C</th>\n",
       "      <th>SEX_C</th>\n",
       "      <th>AREA</th>\n",
       "      <th>VESL_TYPE</th>\n",
       "      <th>emonth</th>\n",
       "      <th>actyrank</th>\n",
       "    </tr>\n",
       "  </thead>\n",
       "  <tbody>\n",
       "    <tr>\n",
       "      <th>PAYGRADE</th>\n",
       "      <td>1</td>\n",
       "      <td>0</td>\n",
       "      <td>0.0545</td>\n",
       "      <td>0</td>\n",
       "      <td>0</td>\n",
       "      <td>0</td>\n",
       "      <td>0</td>\n",
       "    </tr>\n",
       "    <tr>\n",
       "      <th>PCN_C</th>\n",
       "      <td>0</td>\n",
       "      <td>1</td>\n",
       "      <td>0.1113</td>\n",
       "      <td>0.2905</td>\n",
       "      <td>0.0527</td>\n",
       "      <td>0.0256</td>\n",
       "      <td>0.0627</td>\n",
       "    </tr>\n",
       "    <tr>\n",
       "      <th>SEX_C</th>\n",
       "      <td>0.0545</td>\n",
       "      <td>0.1113</td>\n",
       "      <td>0.9994</td>\n",
       "      <td>0.093</td>\n",
       "      <td>0.0378</td>\n",
       "      <td>0</td>\n",
       "      <td>0.0853</td>\n",
       "    </tr>\n",
       "    <tr>\n",
       "      <th>AREA</th>\n",
       "      <td>0</td>\n",
       "      <td>0.2905</td>\n",
       "      <td>0.093</td>\n",
       "      <td>1</td>\n",
       "      <td>0.0328</td>\n",
       "      <td>0.0299</td>\n",
       "      <td>0.06</td>\n",
       "    </tr>\n",
       "    <tr>\n",
       "      <th>VESL_TYPE</th>\n",
       "      <td>0</td>\n",
       "      <td>0.0527</td>\n",
       "      <td>0.0378</td>\n",
       "      <td>0.0328</td>\n",
       "      <td>0.9908</td>\n",
       "      <td>0.0234</td>\n",
       "      <td>0.9637</td>\n",
       "    </tr>\n",
       "    <tr>\n",
       "      <th>emonth</th>\n",
       "      <td>0</td>\n",
       "      <td>0.0256</td>\n",
       "      <td>0</td>\n",
       "      <td>0.0299</td>\n",
       "      <td>0.0234</td>\n",
       "      <td>1</td>\n",
       "      <td>0.0763</td>\n",
       "    </tr>\n",
       "    <tr>\n",
       "      <th>actyrank</th>\n",
       "      <td>0</td>\n",
       "      <td>0.0627</td>\n",
       "      <td>0.0853</td>\n",
       "      <td>0.06</td>\n",
       "      <td>0.9637</td>\n",
       "      <td>0.0763</td>\n",
       "      <td>1</td>\n",
       "    </tr>\n",
       "  </tbody>\n",
       "</table>\n",
       "</div>"
      ],
      "text/plain": [
       "          PAYGRADE   PCN_C   SEX_C    AREA VESL_TYPE  emonth actyrank\n",
       "PAYGRADE         1       0  0.0545       0         0       0        0\n",
       "PCN_C            0       1  0.1113  0.2905    0.0527  0.0256   0.0627\n",
       "SEX_C       0.0545  0.1113  0.9994   0.093    0.0378       0   0.0853\n",
       "AREA             0  0.2905   0.093       1    0.0328  0.0299     0.06\n",
       "VESL_TYPE        0  0.0527  0.0378  0.0328    0.9908  0.0234   0.9637\n",
       "emonth           0  0.0256       0  0.0299    0.0234       1   0.0763\n",
       "actyrank         0  0.0627  0.0853    0.06    0.9637  0.0763        1"
      ]
     },
     "execution_count": 28,
     "metadata": {},
     "output_type": "execute_result"
    }
   ],
   "source": [
    "calculate_cramers(df1[['PAYGRADE', 'PCN_C', 'SEX_C', 'AREA','VESL_TYPE', 'emonth', 'actyrank']])"
   ]
  },
  {
   "cell_type": "code",
   "execution_count": 29,
   "metadata": {},
   "outputs": [],
   "source": [
    "#normality tests\n",
    "from scipy import stats"
   ]
  },
  {
   "cell_type": "code",
   "execution_count": 30,
   "metadata": {},
   "outputs": [
    {
     "name": "stdout",
     "output_type": "stream",
     "text": [
      "KstestResult(statistic=1.0, pvalue=0.0)\n",
      "KstestResult(statistic=0.9763926027282032, pvalue=0.0)\n"
     ]
    }
   ],
   "source": [
    "print(stats.kstest(df1['AGE'], 'norm'))\n",
    "print(stats.kstest(df1['PAYGRADE'], 'norm'))"
   ]
  },
  {
   "cell_type": "code",
   "execution_count": 31,
   "metadata": {},
   "outputs": [
    {
     "data": {
      "text/plain": [
       "SpearmanrResult(correlation=0.620436967089692, pvalue=0.0)"
      ]
     },
     "execution_count": 31,
     "metadata": {},
     "output_type": "execute_result"
    }
   ],
   "source": [
    "stats.spearmanr(df1[['PAYGRADE','AGE']])"
   ]
  },
  {
   "cell_type": "code",
   "execution_count": 32,
   "metadata": {},
   "outputs": [
    {
     "data": {
      "text/plain": [
       "MannwhitneyuResult(statistic=1380.5, pvalue=0.0)"
      ]
     },
     "execution_count": 32,
     "metadata": {},
     "output_type": "execute_result"
    }
   ],
   "source": [
    "stats.mannwhitneyu(df1['PAYGRADE'],df1['AGE'])"
   ]
  },
  {
   "cell_type": "markdown",
   "metadata": {},
   "source": [
    "### Ordinal data"
   ]
  },
  {
   "cell_type": "code",
   "execution_count": 33,
   "metadata": {},
   "outputs": [
    {
     "data": {
      "text/html": [
       "<div>\n",
       "<style scoped>\n",
       "    .dataframe tbody tr th:only-of-type {\n",
       "        vertical-align: middle;\n",
       "    }\n",
       "\n",
       "    .dataframe tbody tr th {\n",
       "        vertical-align: top;\n",
       "    }\n",
       "\n",
       "    .dataframe thead th {\n",
       "        text-align: right;\n",
       "    }\n",
       "</style>\n",
       "<table border=\"1\" class=\"dataframe\">\n",
       "  <thead>\n",
       "    <tr style=\"text-align: right;\">\n",
       "      <th></th>\n",
       "      <th>PAYGRADE</th>\n",
       "      <th>emonth</th>\n",
       "      <th>actyrank</th>\n",
       "    </tr>\n",
       "  </thead>\n",
       "  <tbody>\n",
       "    <tr>\n",
       "      <th>PAYGRADE</th>\n",
       "      <td>0</td>\n",
       "      <td>0.369</td>\n",
       "      <td>0.2419</td>\n",
       "    </tr>\n",
       "    <tr>\n",
       "      <th>emonth</th>\n",
       "      <td>0.369</td>\n",
       "      <td>0</td>\n",
       "      <td>0.0778</td>\n",
       "    </tr>\n",
       "    <tr>\n",
       "      <th>actyrank</th>\n",
       "      <td>0.2419</td>\n",
       "      <td>0.0778</td>\n",
       "      <td>0</td>\n",
       "    </tr>\n",
       "  </tbody>\n",
       "</table>\n",
       "</div>"
      ],
      "text/plain": [
       "         PAYGRADE  emonth actyrank\n",
       "PAYGRADE        0   0.369   0.2419\n",
       "emonth      0.369       0   0.0778\n",
       "actyrank   0.2419  0.0778        0"
      ]
     },
     "execution_count": 33,
     "metadata": {},
     "output_type": "execute_result"
    }
   ],
   "source": [
    "from scipy import stats\n",
    "\n",
    "def calculate_kendaltau(df):\n",
    "    df = df.dropna()._get_numeric_data()\n",
    "    dfcols = pd.DataFrame(columns=df.columns)\n",
    "    pvalues = dfcols.transpose().join(dfcols, how='outer')\n",
    "    for r in df.columns:\n",
    "        for c in df.columns:\n",
    "            #print(r,c)\n",
    "            pvalues[r][c] = round(stats.kendalltau(df[r], df[c]).pvalue, 4)\n",
    "    return pvalues\n",
    "\n",
    "\n",
    "calculate_kendaltau(df1[['PAYGRADE', 'emonth','actyrank']])"
   ]
  },
  {
   "cell_type": "markdown",
   "metadata": {},
   "source": [
    "#### Nominal vs ordinal"
   ]
  },
  {
   "cell_type": "code",
   "execution_count": 34,
   "metadata": {},
   "outputs": [],
   "source": [
    "df1f = df1.reindex(columns=df1.columns)"
   ]
  },
  {
   "cell_type": "code",
   "execution_count": 35,
   "metadata": {},
   "outputs": [
    {
     "name": "stdout",
     "output_type": "stream",
     "text": [
      "NOM vs ORDINAL\n",
      "PAYGRADE:  0.0705334316571729\n",
      "SEX:  0.005511319739087885\n",
      "TYPE:  4.2846017693707884e-05\n"
     ]
    }
   ],
   "source": [
    "print(\"NOM vs ORDINAL\")\n",
    "print('PAYGRADE: ',correlation_ratio(df1['PCN_C'], df1['PAYGRADE']))\n",
    "print('SEX: ',correlation_ratio(df1['SEX_C'], df1['PAYGRADE']))\n",
    "print('TYPE: ',correlation_ratio(df1['VESL_TYPE'], df1['PAYGRADE']))"
   ]
  },
  {
   "cell_type": "code",
   "execution_count": 36,
   "metadata": {},
   "outputs": [],
   "source": [
    "df1 = df1.drop(['VESL_TYPE'], axis=1)"
   ]
  },
  {
   "cell_type": "code",
   "execution_count": 37,
   "metadata": {},
   "outputs": [
    {
     "data": {
      "text/html": [
       "<div>\n",
       "<style scoped>\n",
       "    .dataframe tbody tr th:only-of-type {\n",
       "        vertical-align: middle;\n",
       "    }\n",
       "\n",
       "    .dataframe tbody tr th {\n",
       "        vertical-align: top;\n",
       "    }\n",
       "\n",
       "    .dataframe thead th {\n",
       "        text-align: right;\n",
       "    }\n",
       "</style>\n",
       "<table border=\"1\" class=\"dataframe\">\n",
       "  <thead>\n",
       "    <tr style=\"text-align: right;\">\n",
       "      <th></th>\n",
       "      <th>PAYGRADE</th>\n",
       "      <th>AGE</th>\n",
       "    </tr>\n",
       "  </thead>\n",
       "  <tbody>\n",
       "    <tr>\n",
       "      <th>PAYGRADE</th>\n",
       "      <td>0</td>\n",
       "      <td>0</td>\n",
       "    </tr>\n",
       "    <tr>\n",
       "      <th>AGE</th>\n",
       "      <td>0</td>\n",
       "      <td>0</td>\n",
       "    </tr>\n",
       "  </tbody>\n",
       "</table>\n",
       "</div>"
      ],
      "text/plain": [
       "         PAYGRADE AGE\n",
       "PAYGRADE        0   0\n",
       "AGE             0   0"
      ]
     },
     "execution_count": 37,
     "metadata": {},
     "output_type": "execute_result"
    }
   ],
   "source": [
    "\n",
    "calculate_kendaltau(df1[['PAYGRADE','AGE']])"
   ]
  },
  {
   "cell_type": "code",
   "execution_count": 38,
   "metadata": {},
   "outputs": [
    {
     "data": {
      "text/plain": [
       "Index(['PAYGRADE', 'PCN_C', 'INJ_CLASSN_C', 'AGE', 'SEX_C', 'AREA', 'FY',\n",
       "       'emonth', 'ehrmin', 'actyrank'],\n",
       "      dtype='object')"
      ]
     },
     "execution_count": 38,
     "metadata": {},
     "output_type": "execute_result"
    }
   ],
   "source": [
    "df1.columns"
   ]
  },
  {
   "cell_type": "code",
   "execution_count": 39,
   "metadata": {},
   "outputs": [
    {
     "data": {
      "image/png": "[encoded data removed]",
      "text/plain": [
       "<Figure size 576x360 with 1 Axes>"
      ]
     },
     "metadata": {
      "needs_background": "light"
     },
     "output_type": "display_data"
    }
   ],
   "source": [
    "fig, ax = plt.subplots()\n",
    "fig.set_size_inches(8, 5)\n",
    "sns.histplot(data=df1, x=\"AGE\", kde=True, ax=ax)\n",
    "plt.show()"
   ]
  },
  {
   "cell_type": "code",
   "execution_count": 130,
   "metadata": {},
   "outputs": [
    {
     "data": {
      "image/png": "[encoded data removed]",
      "text/plain": [
       "<Figure size 360x360 with 1 Axes>"
      ]
     },
     "metadata": {
      "needs_background": "light"
     },
     "output_type": "display_data"
    }
   ],
   "source": [
    "fig, ax = plt.subplots()\n",
    "fig.set_size_inches(5, 5)\n",
    "sns.countplot(data=df1, x=\"SEX_C\", ax = ax)\n",
    "plt.xticks(range(2),['M','F'])\n",
    "plt.show()"
   ]
  },
  {
   "cell_type": "code",
   "execution_count": 131,
   "metadata": {},
   "outputs": [
    {
     "data": {
      "image/png": "[encoded data removed]",
      "text/plain": [
       "<Figure size 576x360 with 1 Axes>"
      ]
     },
     "metadata": {
      "needs_background": "light"
     },
     "output_type": "display_data"
    }
   ],
   "source": [
    "fig, ax = plt.subplots()\n",
    "fig.set_size_inches(8, 5)\n",
    "sns.countplot(data=df1, x=\"PAYGRADE\", ax=ax)\n",
    "#plt.xticks(range(2),['M','F'])\n",
    "plt.show()"
   ]
  },
  {
   "cell_type": "code",
   "execution_count": 132,
   "metadata": {},
   "outputs": [
    {
     "data": {
      "image/png": "[encoded data removed]",
      "text/plain": [
       "<Figure size 576x360 with 1 Axes>"
      ]
     },
     "metadata": {
      "needs_background": "light"
     },
     "output_type": "display_data"
    }
   ],
   "source": [
    "fig, ax = plt.subplots()\n",
    "fig.set_size_inches(8, 5)\n",
    "labels = [\"Aviation\",\"Assembly/Repair\",\"Cut/slice\",\"Walk/run\",\"Handling\",\"Preventive(PMS)\",\"Maintenance\",\"HomeMaintenance\",\"Medical\",\"Auditory\",\"Supervision\",\"Training\",\"Sports\"]\n",
    "sns.countplot(data=df1, x=\"PCN_C\", ax = ax)\n",
    "plt.xticks(range(len(labels)),labels, rotation=70)\n",
    "plt.show()"
   ]
  },
  {
   "cell_type": "code",
   "execution_count": 133,
   "metadata": {
    "scrolled": true
   },
   "outputs": [
    {
     "data": {
      "image/png": "[encoded data removed]",
      "text/plain": [
       "<Figure size 576x360 with 1 Axes>"
      ]
     },
     "metadata": {
      "needs_background": "light"
     },
     "output_type": "display_data"
    }
   ],
   "source": [
    "fig, ax = plt.subplots()\n",
    "fig.set_size_inches(8, 5)\n",
    "labels = [\"Flight deck\",\"Passageway\",\"Aviation\",\"Machines\",\"Electrical\",\"Cargo/supply\",\"General\",\"Ship\",\"Crew\"]\n",
    "sns.countplot(data=df1, x=\"AREA\", ax = ax)\n",
    "plt.xticks(range(len(labels)),labels, rotation=70)\n",
    "plt.show()"
   ]
  },
  {
   "cell_type": "code",
   "execution_count": 134,
   "metadata": {},
   "outputs": [
    {
     "data": {
      "image/png": "[encoded data removed]",
      "text/plain": [
       "<Figure size 576x360 with 1 Axes>"
      ]
     },
     "metadata": {
      "needs_background": "light"
     },
     "output_type": "display_data"
    }
   ],
   "source": [
    "fig, ax = plt.subplots()\n",
    "fig.set_size_inches(8, 5)\n",
    "labels = [\"Hawk\",\"Enterprise\",\"Kennedy\",\"Nimitz\",\"Eisenhower\",\"Vinson\",\"Roosevelt\",\"Lincoln\",\"Washington\",\"Stennis\",\"Truman\",\n",
    "         \"Reagan\",\"Bush\",\"Ford\"]\n",
    "sns.countplot(data=df1, x=\"actyrank\",ax = ax)\n",
    "plt.xticks(range(len(labels)),labels, rotation=70)\n",
    "plt.show()"
   ]
  },
  {
   "cell_type": "code",
   "execution_count": 135,
   "metadata": {},
   "outputs": [
    {
     "data": {
      "image/png": "[encoded data removed]",
      "text/plain": [
       "<Figure size 576x360 with 1 Axes>"
      ]
     },
     "metadata": {
      "needs_background": "light"
     },
     "output_type": "display_data"
    }
   ],
   "source": [
    "fig, ax = plt.subplots()\n",
    "fig.set_size_inches(8, 5)\n",
    "sns.histplot(data=df1, x=\"ehrmin\",kde=True,ax = ax)\n",
    "plt.show()"
   ]
  },
  {
   "cell_type": "code",
   "execution_count": 136,
   "metadata": {},
   "outputs": [
    {
     "data": {
      "image/png": "[encoded data removed]",
      "text/plain": [
       "<Figure size 576x360 with 1 Axes>"
      ]
     },
     "metadata": {
      "needs_background": "light"
     },
     "output_type": "display_data"
    }
   ],
   "source": [
    "fig, ax = plt.subplots()\n",
    "fig.set_size_inches(8, 5)\n",
    "sns.countplot(data=df1, x=\"emonth\", ax = ax)\n",
    "plt.show()"
   ]
  },
  {
   "cell_type": "code",
   "execution_count": 137,
   "metadata": {},
   "outputs": [
    {
     "data": {
      "text/plain": [
       "Index(['PAYGRADE', 'PCN_C', 'INJ_CLASSN_C', 'AGE', 'SEX_C', 'AREA', 'FY',\n",
       "       'emonth', 'ehrmin', 'actyrank'],\n",
       "      dtype='object')"
      ]
     },
     "execution_count": 137,
     "metadata": {},
     "output_type": "execute_result"
    }
   ],
   "source": [
    "df1.columns"
   ]
  },
  {
   "cell_type": "code",
   "execution_count": 138,
   "metadata": {},
   "outputs": [
    {
     "data": {
      "image/png": "[encoded data removed]",
      "text/plain": [
       "<Figure size 576x360 with 1 Axes>"
      ]
     },
     "metadata": {
      "needs_background": "light"
     },
     "output_type": "display_data"
    }
   ],
   "source": [
    "fig, ax = plt.subplots()\n",
    "fig.set_size_inches(8, 5)\n",
    "sns.countplot(data=df1, x=\"FY\",ax = ax)\n",
    "plt.show()"
   ]
  },
  {
   "cell_type": "markdown",
   "metadata": {},
   "source": [
    "### Sampling"
   ]
  },
  {
   "cell_type": "code",
   "execution_count": 26,
   "metadata": {},
   "outputs": [],
   "source": [
    "import sklearn\n",
    "from sklearn.model_selection import train_test_split, cross_val_score, KFold\n",
    "from sklearn.metrics import accuracy_score\n",
    "\n",
    "\n",
    "from sklearn.model_selection import GridSearchCV\n",
    "\n",
    "from sklearn.neighbors import KNeighborsClassifier\n",
    "from sklearn.ensemble import RandomForestClassifier\n",
    "from sklearn.linear_model import LinearRegression\n",
    "from collections import Counter\n",
    "import xgboost as xgb\n",
    "import time"
   ]
  },
  {
   "cell_type": "code",
   "execution_count": 48,
   "metadata": {},
   "outputs": [
    {
     "name": "stdout",
     "output_type": "stream",
     "text": [
      "Counter({1: 2837, 2: 995, 0: 835})\n",
      "Counter({0: 835, 1: 835, 2: 835})\n",
      "Class=0, n=835 (33.333%)\n",
      "Class=1, n=835 (33.333%)\n",
      "Class=2, n=835 (33.333%)\n"
     ]
    },
    {
     "data": {
      "image/png": "[encoded data removed]",
      "text/plain": [
       "<Figure size 432x288 with 1 Axes>"
      ]
     },
     "metadata": {
      "needs_background": "light"
     },
     "output_type": "display_data"
    }
   ],
   "source": [
    "#undersampling\n",
    "from imblearn.under_sampling import NearMiss\n",
    "# define dataset\n",
    "df2 = df1.copy()\n",
    "df2.drop(['INJ_CLASSN_C'],axis=1,inplace= True)\n",
    "X, y = df2, df1['INJ_CLASSN_C']\n",
    "# summarize class distribution\n",
    "counter = Counter(y)\n",
    "print(counter)\n",
    "# define the undersampling method\n",
    "undersample = NearMiss(version=1, n_neighbors=3)\n",
    "# transform the dataset\n",
    "X, y = undersample.fit_resample(X, y)\n",
    "# summarize the new class distribution\n",
    "counter = Counter(y)\n",
    "print(counter)\n",
    "for k,v in counter.items():\n",
    "\tper = v / len(y) * 100\n",
    "\tprint('Class=%d, n=%d (%.3f%%)' % (k, v, per))\n",
    "# plot the distribution\n",
    "plt.bar(counter.keys(), counter.values())\n",
    "plt.show()"
   ]
  },
  {
   "cell_type": "code",
   "execution_count": 141,
   "metadata": {},
   "outputs": [
    {
     "name": "stdout",
     "output_type": "stream",
     "text": [
      "Counter({2: 2837, 3: 994, 1: 818, 0: 17})\n",
      "Class=2, n=2837 (60.802%)\n",
      "Class=1, n=818 (17.531%)\n",
      "Class=3, n=994 (21.303%)\n",
      "Class=0, n=17 (0.364%)\n"
     ]
    },
    {
     "data": {
      "image/png": "[encoded data removed]",
      "text/plain": [
       "<Figure size 432x288 with 1 Axes>"
      ]
     },
     "metadata": {
      "needs_background": "light"
     },
     "output_type": "display_data"
    }
   ],
   "source": [
    "counter1 = Counter(df1['INJ_CLASSN_C'])\n",
    "print(counter1)\n",
    "for k,v in counter1.items():\n",
    "\tper = v / len(df1['INJ_CLASSN_C']) * 100\n",
    "\tprint('Class=%d, n=%d (%.3f%%)' % (k, v, per))\n",
    "# define the undersampling method\n",
    "\n",
    "# plot the distribution\n",
    "plt.bar(counter1.keys(), counter1.values(), label='original')\n",
    "#plt.bar(counter.keys(), counter.values(), label = 'sampled')\n",
    "plt.xlabel('Class')\n",
    "plt.ylabel('Counts')\n",
    "plt.legend()\n",
    "plt.show()"
   ]
  },
  {
   "cell_type": "code",
   "execution_count": 88,
   "metadata": {},
   "outputs": [],
   "source": [
    "dx = pd.concat([X, y], ignore_index=True, axis = 1)\n",
    "X.columns = ['PAYGRADE', 'PCN_C', 'AGE', 'FY',\n",
    "       'emonth', 'eweek', 'ehrmin', 'actycommissioned', 'fd_words', 'ac_words', 'passage_words',\n",
    "       'ece_words']\n",
    "dx.columns = ['PAYGRADE', 'PCN_C', 'AGE', 'FY',\n",
    "       'emonth', 'eweek', 'ehrmin', 'actycommissioned', 'fd_words', 'ac_words', 'passage_words',\n",
    "       'ece_words','INJ_CLASSN_C']"
   ]
  },
  {
   "cell_type": "code",
   "execution_count": 89,
   "metadata": {},
   "outputs": [],
   "source": [
    "X = pd.get_dummies(X, \n",
    "               prefix = ['PCN_C','AREA'], \n",
    "               columns = ['PCN_C','AREA'], \n",
    "               drop_first=True, dtype = int) "
   ]
  },
  {
   "cell_type": "markdown",
   "metadata": {},
   "source": [
    "## EDA\n",
    "\n",
    "### Continuous data"
   ]
  },
  {
   "cell_type": "code",
   "execution_count": 144,
   "metadata": {},
   "outputs": [
    {
     "data": {
      "image/png": "[encoded data removed]",
      "text/plain": [
       "<Figure size 437.625x360 with 1 Axes>"
      ]
     },
     "metadata": {
      "needs_background": "light"
     },
     "output_type": "display_data"
    },
    {
     "data": {
      "image/png": "[encoded data removed]",
      "text/plain": [
       "<Figure size 437.625x360 with 1 Axes>"
      ]
     },
     "metadata": {
      "needs_background": "light"
     },
     "output_type": "display_data"
    },
    {
     "data": {
      "image/png": "[encoded data removed]",
      "text/plain": [
       "<Figure size 437.625x360 with 1 Axes>"
      ]
     },
     "metadata": {
      "needs_background": "light"
     },
     "output_type": "display_data"
    },
    {
     "data": {
      "image/png": "[encoded data removed]",
      "text/plain": [
       "<Figure size 437.625x360 with 1 Axes>"
      ]
     },
     "metadata": {
      "needs_background": "light"
     },
     "output_type": "display_data"
    },
    {
     "data": {
      "image/png": "[encoded data removed]",
      "text/plain": [
       "<Figure size 437.625x360 with 1 Axes>"
      ]
     },
     "metadata": {
      "needs_background": "light"
     },
     "output_type": "display_data"
    }
   ],
   "source": [
    "['PAYGRADE', 'PCN_C', 'INJ_CLASSN_C', 'AGE', 'SEX_C', 'FY', 'VESL_TYPE',\n",
    "       'emonth', 'eweek', 'ehrmin', 'actycommissioned', 'actydecommissioned',\n",
    "       'pcnfreq', 'fd_words', 'ac_words', 'passage_words', 'hg_words',\n",
    "       'ece_words', 'mech_words', 'cargo_words', 'gen_words']\n",
    "dx=df1\n",
    "\n",
    "sns.displot(dx, x=\"AGE\", hue=\"INJ_CLASSN_C\", kind = 'kde')\n",
    "plt.show()\n",
    "\n",
    "sns.displot(dx, x=\"ehrmin\", hue=\"INJ_CLASSN_C\", kind = 'kde')\n",
    "plt.show()\n",
    "\n",
    "sns.displot(dx, x=\"emonth\", hue=\"INJ_CLASSN_C\", kind = 'kde')\n",
    "plt.show()\n",
    "\n",
    "sns.displot(dx, x=\"PAYGRADE\", hue=\"INJ_CLASSN_C\", kind = 'kde')\n",
    "plt.show()\n",
    "\n",
    "sns.displot(dx, x=\"FY\", hue=\"INJ_CLASSN_C\", kind = 'kde')\n",
    "plt.show()"
   ]
  },
  {
   "cell_type": "code",
   "execution_count": 109,
   "metadata": {},
   "outputs": [
    {
     "data": {
      "image/png": "[encoded data removed]",
      "text/plain": [
       "<Figure size 1332x756 with 1 Axes>"
      ]
     },
     "metadata": {
      "needs_background": "light"
     },
     "output_type": "display_data"
    }
   ],
   "source": [
    "\n",
    "fig, ax = plt.subplots()\n",
    "fig.set_size_inches(18.5, 10.5)\n",
    "# We need to draw the canvas, otherwise the labels won't be positioned and \n",
    "# won't have values yet.\n",
    "sns.countplot(data=dx, x=\"PCN_C\", hue=\"INJ_CLASSN_C\", ax = ax)\n",
    "labels = [item.get_text() for item in ax.get_xticklabels()]\n",
    "\n",
    "labels = [\"Aviation\",\"Assembly/Repair\",\"Cut/slice\",\"Walk/run\",\"Handling\",\"Preventive(PMS)\",\"Maintenance\",\"HomeMaintenance\",\"Medical\",\"Auditory\",\"Supervision\",\"Training\",\"Sports\"]\n",
    "ax.set_xticklabels(labels)\n",
    "\n",
    "plt.xticks(rotation=90)\n",
    "plt.show()"
   ]
  },
  {
   "cell_type": "markdown",
   "metadata": {},
   "source": [
    "### Ordinal data"
   ]
  },
  {
   "cell_type": "code",
   "execution_count": 35,
   "metadata": {},
   "outputs": [
    {
     "data": {
      "image/png": "[encoded data removed]",
      "text/plain": [
       "<Figure size 432x288 with 1 Axes>"
      ]
     },
     "metadata": {
      "needs_background": "light"
     },
     "output_type": "display_data"
    },
    {
     "data": {
      "image/png": "[encoded data removed]",
      "text/plain": [
       "<Figure size 432x288 with 1 Axes>"
      ]
     },
     "metadata": {
      "needs_background": "light"
     },
     "output_type": "display_data"
    },
    {
     "data": {
      "image/png": "[encoded data removed]",
      "text/plain": [
       "<Figure size 432x288 with 1 Axes>"
      ]
     },
     "metadata": {
      "needs_background": "light"
     },
     "output_type": "display_data"
    },
    {
     "data": {
      "image/png": "[encoded data removed]",
      "text/plain": [
       "<Figure size 432x288 with 1 Axes>"
      ]
     },
     "metadata": {
      "needs_background": "light"
     },
     "output_type": "display_data"
    },
    {
     "data": {
      "image/png": "[encoded data removed]",
      "text/plain": [
       "<Figure size 432x288 with 1 Axes>"
      ]
     },
     "metadata": {
      "needs_background": "light"
     },
     "output_type": "display_data"
    }
   ],
   "source": [
    "['PAYGRADE', 'PCN_C', 'AGE', 'SEX_C', 'FY', 'VESL_TYPE',\n",
    "       'emonth', 'eweek', 'ehrmin', 'actycommissioned', 'actydecommissioned',\n",
    "       'pcnfreq', 'fd_words', 'ac_words', 'passage_words', 'hg_words',\n",
    "       'ece_words', 'mech_words', 'cargo_words', 'gen_words','INJ_CLASSN_C']\n",
    "\n",
    "sns.boxplot(y=\"PAYGRADE\", x=\"INJ_CLASSN_C\", data=dx)\n",
    "plt.show()\n",
    "\n",
    "sns.boxplot(y=\"PCN_C\", x=\"INJ_CLASSN_C\", data=dx)\n",
    "plt.show()\n",
    "\n",
    "sns.boxplot(y=\"emonth\", x=\"INJ_CLASSN_C\", data=dx)\n",
    "plt.show()\n",
    "\n",
    "sns.boxplot(y=\"eweek\", x=\"INJ_CLASSN_C\", data=dx)\n",
    "plt.show()\n",
    "\n",
    "sns.boxplot(y=\"actycommissioned\", x=\"INJ_CLASSN_C\", data=dx)\n",
    "plt.show()"
   ]
  },
  {
   "cell_type": "markdown",
   "metadata": {},
   "source": [
    "### Classification"
   ]
  },
  {
   "cell_type": "code",
   "execution_count": 40,
   "metadata": {},
   "outputs": [],
   "source": [
    "df1.columns\n",
    "df2 = df1.copy()"
   ]
  },
  {
   "cell_type": "code",
   "execution_count": 41,
   "metadata": {},
   "outputs": [],
   "source": [
    "df1 = df2.copy()"
   ]
  },
  {
   "cell_type": "code",
   "execution_count": 42,
   "metadata": {},
   "outputs": [],
   "source": [
    "y = df1['INJ_CLASSN_C']\n",
    "X = df1.drop(['INJ_CLASSN_C'], axis=1)\n",
    "\n",
    "X = pd.get_dummies(X, \n",
    "               prefix = ['PCN_C','AREA'],#,'actyrank'], \n",
    "               columns = ['PCN_C','AREA'],#,'actyrank'], \n",
    "               drop_first=True, dtype = int) "
   ]
  },
  {
   "cell_type": "code",
   "execution_count": 43,
   "metadata": {},
   "outputs": [
    {
     "data": {
      "text/plain": [
       "['PAYGRADE',\n",
       " 'AGE',\n",
       " 'SEX_C',\n",
       " 'FY',\n",
       " 'emonth',\n",
       " 'ehrmin',\n",
       " 'actyrank',\n",
       " 'PCN_C_1',\n",
       " 'PCN_C_2',\n",
       " 'PCN_C_3',\n",
       " 'PCN_C_4',\n",
       " 'PCN_C_5',\n",
       " 'PCN_C_6',\n",
       " 'PCN_C_7',\n",
       " 'PCN_C_8',\n",
       " 'PCN_C_10',\n",
       " 'PCN_C_11',\n",
       " 'PCN_C_12',\n",
       " 'AREA_1',\n",
       " 'AREA_2',\n",
       " 'AREA_3',\n",
       " 'AREA_4',\n",
       " 'AREA_5',\n",
       " 'AREA_6',\n",
       " 'AREA_7',\n",
       " 'AREA_8']"
      ]
     },
     "execution_count": 43,
     "metadata": {},
     "output_type": "execute_result"
    }
   ],
   "source": [
    "features = X.columns.to_list()\n",
    "features"
   ]
  },
  {
   "cell_type": "code",
   "execution_count": 46,
   "metadata": {},
   "outputs": [
    {
     "name": "stdout",
     "output_type": "stream",
     "text": [
      "CV accuracy for XGboost Classifier: Mean = 57.997%, STD = 11.06%\n",
      "Execution time: 0.43 min\n"
     ]
    }
   ],
   "source": [
    "#use xgboost with default parameters\n",
    "xgbbasic = xgb.sklearn.XGBClassifier(\n",
    "                    max_depth=1\n",
    "                   )\n",
    "#xgb.sklearn.XGBClassifier()\n",
    "\n",
    "start = time.time()\n",
    "results = cross_val_score(xgbbasic, X, y, cv=10)\n",
    "end = time.time()\n",
    "print(\"CV accuracy for XGboost Classifier: Mean = %.3f%%, STD = %.2f%%\" % (results.mean()*100, results.std()*100))\n",
    "print(\"Execution time: %.2f min\" % ((end - start)/60))"
   ]
  },
  {
   "cell_type": "code",
   "execution_count": 52,
   "metadata": {},
   "outputs": [
    {
     "data": {
      "text/html": [
       "<div>\n",
       "<style scoped>\n",
       "    .dataframe tbody tr th:only-of-type {\n",
       "        vertical-align: middle;\n",
       "    }\n",
       "\n",
       "    .dataframe tbody tr th {\n",
       "        vertical-align: top;\n",
       "    }\n",
       "\n",
       "    .dataframe thead th {\n",
       "        text-align: right;\n",
       "    }\n",
       "</style>\n",
       "<table border=\"1\" class=\"dataframe\">\n",
       "  <thead>\n",
       "    <tr style=\"text-align: right;\">\n",
       "      <th></th>\n",
       "      <th>0</th>\n",
       "      <th>1</th>\n",
       "      <th>2</th>\n",
       "    </tr>\n",
       "  </thead>\n",
       "  <tbody>\n",
       "    <tr>\n",
       "      <th>0</th>\n",
       "      <td>181</td>\n",
       "      <td>305</td>\n",
       "      <td>349</td>\n",
       "    </tr>\n",
       "    <tr>\n",
       "      <th>1</th>\n",
       "      <td>90</td>\n",
       "      <td>602</td>\n",
       "      <td>143</td>\n",
       "    </tr>\n",
       "    <tr>\n",
       "      <th>2</th>\n",
       "      <td>174</td>\n",
       "      <td>208</td>\n",
       "      <td>453</td>\n",
       "    </tr>\n",
       "  </tbody>\n",
       "</table>\n",
       "</div>"
      ],
      "text/plain": [
       "     0    1    2\n",
       "0  181  305  349\n",
       "1   90  602  143\n",
       "2  174  208  453"
      ]
     },
     "execution_count": 52,
     "metadata": {},
     "output_type": "execute_result"
    }
   ],
   "source": [
    "from sklearn.model_selection import cross_val_predict\n",
    "from sklearn.metrics import confusion_matrix\n",
    "y_pred = cross_val_predict(xgbbasic, X, y, cv=10)\n",
    "conf_mat = confusion_matrix(y, y_pred)\n",
    "df_cm = pd.DataFrame(conf_mat, range(3), range(3))\n",
    "df_cm"
   ]
  },
  {
   "cell_type": "code",
   "execution_count": 53,
   "metadata": {},
   "outputs": [
    {
     "name": "stdout",
     "output_type": "stream",
     "text": [
      "Training accuracy: 0.6522954091816368\n"
     ]
    },
    {
     "data": {
      "image/png": "[encoded data removed]",
      "text/plain": [
       "<Figure size 576x1440 with 1 Axes>"
      ]
     },
     "metadata": {
      "needs_background": "light"
     },
     "output_type": "display_data"
    }
   ],
   "source": [
    "# plot feature importance\n",
    "xgbbasic.fit(X,y)\n",
    "preds = xgbbasic.predict(X)\n",
    "print(\"Training accuracy:\", accuracy_score(y, preds))\n",
    "feature_important = xgbbasic.get_booster().get_score(importance_type='weight')\n",
    "keys = list(feature_important.keys())\n",
    "keys = keys+['PCN_C']\n",
    "values = list(feature_important.values())\n",
    "values = values + [round(np.sqrt(values[6]**2+values[9]**2+values[11]**2+values[13]**2+values[14]**2\n",
    "                                +values[15]**2+values[16]**2+values[17]**2+values[18]**2+values[20]**2))] #6 9 111314151617182021\n",
    "data = pd.DataFrame(data=values, index=keys, columns=[\"score\"]).sort_values(by = \"score\", ascending=True)\n",
    "data.plot(kind='barh', figsize=(8,20))\n",
    "plt.show()"
   ]
  },
  {
   "cell_type": "code",
   "execution_count": 54,
   "metadata": {},
   "outputs": [
    {
     "data": {
      "text/plain": [
       "['actyrank_5',\n",
       " 'FY',\n",
       " 'PCN_C_11',\n",
       " 'AGE',\n",
       " 'PAYGRADE',\n",
       " 'actyrank_8',\n",
       " 'actyrank_11',\n",
       " 'PCN_C_3',\n",
       " 'PCN_C_4',\n",
       " 'actyrank_4',\n",
       " 'actyrank_3',\n",
       " 'actyrank_9',\n",
       " 'PCN_C_1',\n",
       " 'ehrmin',\n",
       " 'SEX_C',\n",
       " 'AREA_8',\n",
       " 'emonth',\n",
       " 'AREA_1',\n",
       " 'PCN_C_8',\n",
       " 'actyrank_10',\n",
       " 'actyrank_12',\n",
       " 'PCN_C_12',\n",
       " 'actyrank_6',\n",
       " 'AREA_3',\n",
       " 'actyrank_1',\n",
       " 'actyrank_7',\n",
       " 'AREA_6',\n",
       " 'AREA_5',\n",
       " 'PCN_C_2',\n",
       " 'AREA_4',\n",
       " 'AREA_2',\n",
       " 'actyrank_13',\n",
       " 'AREA_7',\n",
       " 'actyrank_2',\n",
       " 'PCN_C_5',\n",
       " 'PCN_C_6',\n",
       " 'PCN_C_10',\n",
       " 'PCN_C']"
      ]
     },
     "execution_count": 54,
     "metadata": {},
     "output_type": "execute_result"
    }
   ],
   "source": [
    "keys"
   ]
  },
  {
   "cell_type": "code",
   "execution_count": 47,
   "metadata": {},
   "outputs": [
    {
     "name": "stdout",
     "output_type": "stream",
     "text": [
      "CV accuracy for Random Forrest Classifier: Mean = 60.823%, STD = 0.47%\n",
      "Execution time: 0.71 min\n"
     ]
    }
   ],
   "source": [
    "#use random forest with default parameters\n",
    "rfbasic = RandomForestClassifier(bootstrap= True,\n",
    "                                 max_depth= 2,\n",
    "                                 max_features= 8,\n",
    "                                 min_samples_leaf= 3,\n",
    "                                 min_samples_split= 6,\n",
    "                                 n_estimators= 600)\n",
    "\n",
    "start = time.time()\n",
    "results = cross_val_score(rfbasic, X, y, cv=10)\n",
    "end = time.time()\n",
    "print(\"CV accuracy for Random Forrest Classifier: Mean = %.3f%%, STD = %.2f%%\" % (results.mean()*100, results.std()*100))\n",
    "print(\"Execution time: %.2f min\" % ((end - start)/60))"
   ]
  },
  {
   "cell_type": "code",
   "execution_count": 56,
   "metadata": {},
   "outputs": [
    {
     "name": "stdout",
     "output_type": "stream",
     "text": [
      "Training accuracy: 0.9481481481481482\n"
     ]
    },
    {
     "data": {
      "image/png": "[encoded data removed]",
      "text/plain": [
       "<Figure size 576x1440 with 1 Axes>"
      ]
     },
     "metadata": {
      "needs_background": "light"
     },
     "output_type": "display_data"
    }
   ],
   "source": [
    "#generate test prediction for submission\n",
    "rfbasic.fit(X,y)\n",
    "preds = rfbasic.predict(X)\n",
    "print(\"Training accuracy:\", accuracy_score(y, preds))\n",
    "\n",
    "features = X.columns.to_list() + ['PCN_C']\n",
    "importances = rfbasic.feature_importances_.tolist()\n",
    "importances += [np.sqrt(np.sum(np.array(importances[11:])**2))]\n",
    "indices = np.argsort(importances)\n",
    "importances = np.array(importances)\n",
    "plt.figure(figsize=(8,20))\n",
    "plt.title('Feature Importances')\n",
    "plt.barh(range(len(indices)), importances[indices], color='b', align='center')\n",
    "plt.yticks(range(len(indices)), [features[i] for i in indices])\n",
    "plt.xlabel('Relative Importance')\n",
    "plt.show()"
   ]
  },
  {
   "cell_type": "code",
   "execution_count": 48,
   "metadata": {},
   "outputs": [
    {
     "name": "stdout",
     "output_type": "stream",
     "text": [
      "CV accuracy for CART: Mean = 60.995%, STD = 0.43%\n",
      "Execution time: 0.00 min\n"
     ]
    }
   ],
   "source": [
    "# remove\n",
    "X1 = X.copy()\n",
    "#X.drop(['ac_words','cargo_words','gen_words','PCN_C','SEX_C'],axis=1,inplace= True)\n",
    "\n",
    "from sklearn import tree\n",
    "\n",
    "clf = tree.DecisionTreeClassifier(max_depth = 2)\n",
    "start = time.time()\n",
    "results = cross_val_score(clf, X, y, cv=10)\n",
    "end = time.time()\n",
    "print(\"CV accuracy for CART: Mean = %.3f%%, STD = %.2f%%\" % (results.mean()*100, results.std()*100))\n",
    "print(\"Execution time: %.2f min\" % ((end - start)/60))"
   ]
  },
  {
   "cell_type": "code",
   "execution_count": 166,
   "metadata": {},
   "outputs": [
    {
     "name": "stdout",
     "output_type": "stream",
     "text": [
      "Training accuracy: 0.609515645092156\n"
     ]
    }
   ],
   "source": [
    "#generate test prediction for submission\n",
    "clf.fit(X,y)\n",
    "preds = clf.predict(X)\n",
    "print(\"Training accuracy:\", accuracy_score(y, preds))"
   ]
  },
  {
   "cell_type": "code",
   "execution_count": 167,
   "metadata": {},
   "outputs": [
    {
     "data": {
      "image/png": "[encoded data removed]",
      "text/plain": [
       "<Figure size 576x1440 with 1 Axes>"
      ]
     },
     "metadata": {
      "needs_background": "light"
     },
     "output_type": "display_data"
    }
   ],
   "source": [
    "features = X.columns.to_list() + ['PCN_C']\n",
    "importances = clf.feature_importances_.tolist()\n",
    "importances += [np.sqrt(np.sum(np.array(importances[11:])**2))]\n",
    "indices = np.argsort(importances)\n",
    "importances = np.array(importances)\n",
    "plt.figure(figsize=(8,20))\n",
    "plt.title('Feature Importances')\n",
    "plt.barh(range(len(indices)), importances[indices], color='b', align='center')\n",
    "plt.yticks(range(len(indices)), [features[i] for i in indices])\n",
    "plt.xlabel('Relative Importance')\n",
    "plt.show()"
   ]
  },
  {
   "cell_type": "code",
   "execution_count": 168,
   "metadata": {},
   "outputs": [
    {
     "name": "stdout",
     "output_type": "stream",
     "text": [
      "PAYGRADE: 0\n",
      "AGE: 1\n",
      "SEX_C: 2\n",
      "FY: 3\n",
      "emonth: 4\n",
      "ehrmin: 5\n",
      "actyrank: 6\n",
      "PCN_C_1: 7\n",
      "PCN_C_2: 8\n",
      "PCN_C_3: 9\n",
      "PCN_C_4: 10\n",
      "PCN_C_5: 11\n",
      "PCN_C_6: 12\n",
      "PCN_C_7: 13\n",
      "PCN_C_8: 14\n",
      "PCN_C_10: 15\n",
      "PCN_C_11: 16\n",
      "PCN_C_12: 17\n",
      "AREA_1: 18\n",
      "AREA_2: 19\n",
      "AREA_3: 20\n",
      "AREA_4: 21\n",
      "AREA_5: 22\n",
      "AREA_6: 23\n",
      "AREA_7: 24\n",
      "AREA_8: 25\n",
      "PCN_C: 26\n"
     ]
    },
    {
     "data": {
      "image/png": "[encoded data removed]",
      "text/plain": [
       "<Figure size 1584x864 with 1 Axes>"
      ]
     },
     "metadata": {
      "needs_background": "light"
     },
     "output_type": "display_data"
    }
   ],
   "source": [
    "for e,i in enumerate(features):\n",
    "    print(i+': '+str(e))\n",
    "\n",
    "fig, ax = plt.subplots(figsize=(22, 12))\n",
    "tree.plot_tree(clf, fontsize=10)\n",
    "plt.show()"
   ]
  },
  {
   "cell_type": "code",
   "execution_count": 49,
   "metadata": {},
   "outputs": [],
   "source": [
    "from sklearn.preprocessing import StandardScaler\n",
    "\n",
    "scaler = StandardScaler()\n",
    "X = scaler.fit_transform(X)"
   ]
  },
  {
   "cell_type": "code",
   "execution_count": 50,
   "metadata": {},
   "outputs": [
    {
     "name": "stderr",
     "output_type": "stream",
     "text": [
      "C:\\Users\\sayan\\Anaconda3\\lib\\site-packages\\sklearn\\linear_model\\_logistic.py:764: ConvergenceWarning: lbfgs failed to converge (status=1):\n",
      "STOP: TOTAL NO. of ITERATIONS REACHED LIMIT.\n",
      "\n",
      "Increase the number of iterations (max_iter) or scale the data as shown in:\n",
      "    https://scikit-learn.org/stable/modules/preprocessing.html\n",
      "Please also refer to the documentation for alternative solver options:\n",
      "    https://scikit-learn.org/stable/modules/linear_model.html#logistic-regression\n",
      "  extra_warning_msg=_LOGISTIC_SOLVER_CONVERGENCE_MSG)\n",
      "C:\\Users\\sayan\\Anaconda3\\lib\\site-packages\\sklearn\\linear_model\\_logistic.py:764: ConvergenceWarning: lbfgs failed to converge (status=1):\n",
      "STOP: TOTAL NO. of ITERATIONS REACHED LIMIT.\n",
      "\n",
      "Increase the number of iterations (max_iter) or scale the data as shown in:\n",
      "    https://scikit-learn.org/stable/modules/preprocessing.html\n",
      "Please also refer to the documentation for alternative solver options:\n",
      "    https://scikit-learn.org/stable/modules/linear_model.html#logistic-regression\n",
      "  extra_warning_msg=_LOGISTIC_SOLVER_CONVERGENCE_MSG)\n",
      "C:\\Users\\sayan\\Anaconda3\\lib\\site-packages\\sklearn\\linear_model\\_logistic.py:764: ConvergenceWarning: lbfgs failed to converge (status=1):\n",
      "STOP: TOTAL NO. of ITERATIONS REACHED LIMIT.\n",
      "\n",
      "Increase the number of iterations (max_iter) or scale the data as shown in:\n",
      "    https://scikit-learn.org/stable/modules/preprocessing.html\n",
      "Please also refer to the documentation for alternative solver options:\n",
      "    https://scikit-learn.org/stable/modules/linear_model.html#logistic-regression\n",
      "  extra_warning_msg=_LOGISTIC_SOLVER_CONVERGENCE_MSG)\n",
      "C:\\Users\\sayan\\Anaconda3\\lib\\site-packages\\sklearn\\linear_model\\_logistic.py:764: ConvergenceWarning: lbfgs failed to converge (status=1):\n",
      "STOP: TOTAL NO. of ITERATIONS REACHED LIMIT.\n",
      "\n",
      "Increase the number of iterations (max_iter) or scale the data as shown in:\n",
      "    https://scikit-learn.org/stable/modules/preprocessing.html\n",
      "Please also refer to the documentation for alternative solver options:\n",
      "    https://scikit-learn.org/stable/modules/linear_model.html#logistic-regression\n",
      "  extra_warning_msg=_LOGISTIC_SOLVER_CONVERGENCE_MSG)\n",
      "C:\\Users\\sayan\\Anaconda3\\lib\\site-packages\\sklearn\\linear_model\\_logistic.py:764: ConvergenceWarning: lbfgs failed to converge (status=1):\n",
      "STOP: TOTAL NO. of ITERATIONS REACHED LIMIT.\n",
      "\n",
      "Increase the number of iterations (max_iter) or scale the data as shown in:\n",
      "    https://scikit-learn.org/stable/modules/preprocessing.html\n",
      "Please also refer to the documentation for alternative solver options:\n",
      "    https://scikit-learn.org/stable/modules/linear_model.html#logistic-regression\n",
      "  extra_warning_msg=_LOGISTIC_SOLVER_CONVERGENCE_MSG)\n",
      "C:\\Users\\sayan\\Anaconda3\\lib\\site-packages\\sklearn\\linear_model\\_logistic.py:764: ConvergenceWarning: lbfgs failed to converge (status=1):\n",
      "STOP: TOTAL NO. of ITERATIONS REACHED LIMIT.\n",
      "\n",
      "Increase the number of iterations (max_iter) or scale the data as shown in:\n",
      "    https://scikit-learn.org/stable/modules/preprocessing.html\n",
      "Please also refer to the documentation for alternative solver options:\n",
      "    https://scikit-learn.org/stable/modules/linear_model.html#logistic-regression\n",
      "  extra_warning_msg=_LOGISTIC_SOLVER_CONVERGENCE_MSG)\n",
      "C:\\Users\\sayan\\Anaconda3\\lib\\site-packages\\sklearn\\linear_model\\_logistic.py:764: ConvergenceWarning: lbfgs failed to converge (status=1):\n",
      "STOP: TOTAL NO. of ITERATIONS REACHED LIMIT.\n",
      "\n",
      "Increase the number of iterations (max_iter) or scale the data as shown in:\n",
      "    https://scikit-learn.org/stable/modules/preprocessing.html\n",
      "Please also refer to the documentation for alternative solver options:\n",
      "    https://scikit-learn.org/stable/modules/linear_model.html#logistic-regression\n",
      "  extra_warning_msg=_LOGISTIC_SOLVER_CONVERGENCE_MSG)\n",
      "C:\\Users\\sayan\\Anaconda3\\lib\\site-packages\\sklearn\\linear_model\\_logistic.py:764: ConvergenceWarning: lbfgs failed to converge (status=1):\n",
      "STOP: TOTAL NO. of ITERATIONS REACHED LIMIT.\n",
      "\n",
      "Increase the number of iterations (max_iter) or scale the data as shown in:\n",
      "    https://scikit-learn.org/stable/modules/preprocessing.html\n",
      "Please also refer to the documentation for alternative solver options:\n",
      "    https://scikit-learn.org/stable/modules/linear_model.html#logistic-regression\n",
      "  extra_warning_msg=_LOGISTIC_SOLVER_CONVERGENCE_MSG)\n",
      "C:\\Users\\sayan\\Anaconda3\\lib\\site-packages\\sklearn\\linear_model\\_logistic.py:764: ConvergenceWarning: lbfgs failed to converge (status=1):\n",
      "STOP: TOTAL NO. of ITERATIONS REACHED LIMIT.\n",
      "\n",
      "Increase the number of iterations (max_iter) or scale the data as shown in:\n",
      "    https://scikit-learn.org/stable/modules/preprocessing.html\n",
      "Please also refer to the documentation for alternative solver options:\n",
      "    https://scikit-learn.org/stable/modules/linear_model.html#logistic-regression\n",
      "  extra_warning_msg=_LOGISTIC_SOLVER_CONVERGENCE_MSG)\n"
     ]
    },
    {
     "name": "stdout",
     "output_type": "stream",
     "text": [
      "CV accuracy for LR: Mean = 60.674%, STD = 6.16%\n",
      "Execution time: 0.06 min\n"
     ]
    },
    {
     "name": "stderr",
     "output_type": "stream",
     "text": [
      "C:\\Users\\sayan\\Anaconda3\\lib\\site-packages\\sklearn\\linear_model\\_logistic.py:764: ConvergenceWarning: lbfgs failed to converge (status=1):\n",
      "STOP: TOTAL NO. of ITERATIONS REACHED LIMIT.\n",
      "\n",
      "Increase the number of iterations (max_iter) or scale the data as shown in:\n",
      "    https://scikit-learn.org/stable/modules/preprocessing.html\n",
      "Please also refer to the documentation for alternative solver options:\n",
      "    https://scikit-learn.org/stable/modules/linear_model.html#logistic-regression\n",
      "  extra_warning_msg=_LOGISTIC_SOLVER_CONVERGENCE_MSG)\n"
     ]
    }
   ],
   "source": [
    "from sklearn.linear_model import LogisticRegression\n",
    "clf = LogisticRegression(max_iter = 100)\n",
    "start = time.time()\n",
    "results = cross_val_score(clf, X, y, cv=10)\n",
    "end = time.time()\n",
    "print(\"CV accuracy for LR: Mean = %.3f%%, STD = %.2f%%\" % (results.mean()*100, results.std()*100))\n",
    "print(\"Execution time: %.2f min\" % ((end - start)/60))"
   ]
  },
  {
   "cell_type": "code",
   "execution_count": 51,
   "metadata": {},
   "outputs": [
    {
     "name": "stdout",
     "output_type": "stream",
     "text": [
      "Training accuracy: 0.6318045435062152\n"
     ]
    },
    {
     "name": "stderr",
     "output_type": "stream",
     "text": [
      "C:\\Users\\sayan\\Anaconda3\\lib\\site-packages\\sklearn\\linear_model\\_logistic.py:764: ConvergenceWarning: lbfgs failed to converge (status=1):\n",
      "STOP: TOTAL NO. of ITERATIONS REACHED LIMIT.\n",
      "\n",
      "Increase the number of iterations (max_iter) or scale the data as shown in:\n",
      "    https://scikit-learn.org/stable/modules/preprocessing.html\n",
      "Please also refer to the documentation for alternative solver options:\n",
      "    https://scikit-learn.org/stable/modules/linear_model.html#logistic-regression\n",
      "  extra_warning_msg=_LOGISTIC_SOLVER_CONVERGENCE_MSG)\n"
     ]
    }
   ],
   "source": [
    "#generate test prediction for submission\n",
    "clf.fit(X,y)\n",
    "preds = clf.predict(X)\n",
    "print(\"Training accuracy:\", accuracy_score(y, preds))"
   ]
  },
  {
   "cell_type": "code",
   "execution_count": 92,
   "metadata": {},
   "outputs": [
    {
     "data": {
      "image/png": "[encoded data removed]",
      "text/plain": [
       "<Figure size 576x1440 with 1 Axes>"
      ]
     },
     "metadata": {
      "needs_background": "light"
     },
     "output_type": "display_data"
    }
   ],
   "source": [
    "#features = X.columns.to_list()\n",
    "feature_importance = abs(np.array(clf.coef_[0].tolist() + [np.sqrt(np.sum(np.array(clf.coef_[0].tolist()[11:])**2))]))\n",
    "feature_importance = 100.0 * (feature_importance / feature_importance.max())\n",
    "sorted_idx = np.argsort(feature_importance)\n",
    "pos = np.arange(sorted_idx.shape[0]) + .5\n",
    "\n",
    "\n",
    "featfig = plt.figure(figsize=(8,20))\n",
    "featax = featfig.add_subplot(1, 1, 1)\n",
    "featax.barh(pos, feature_importance[sorted_idx], align='center')\n",
    "featax.set_yticks(pos)\n",
    "featax.set_yticklabels(np.array(features)[sorted_idx], fontsize=8)\n",
    "featax.set_xlabel('Relative Feature Importance')\n",
    "\n",
    "plt.tight_layout()   \n",
    "plt.show()"
   ]
  },
  {
   "cell_type": "code",
   "execution_count": 224,
   "metadata": {},
   "outputs": [
    {
     "data": {
      "text/plain": [
       "array([-0.03314141,  0.15911935, -0.13235132, -0.03737569,  0.01688627,\n",
       "       -0.00195188, -0.12299941, -0.19690064,  0.1045635 , -0.00618663,\n",
       "        0.00293768, -0.04005369, -0.16428654, -0.00867392, -0.14572038,\n",
       "        0.09805512, -0.0153433 ,  0.19052332, -0.00448599,  0.22069522,\n",
       "        0.07528969,  0.12679316,  0.2266217 ])"
      ]
     },
     "execution_count": 224,
     "metadata": {},
     "output_type": "execute_result"
    }
   ],
   "source": [
    "clf.coef_[0]"
   ]
  },
  {
   "cell_type": "code",
   "execution_count": 225,
   "metadata": {},
   "outputs": [
    {
     "name": "stderr",
     "output_type": "stream",
     "text": [
      "C:\\Users\\sayan\\Anaconda3\\lib\\site-packages\\sklearn\\utils\\deprecation.py:143: FutureWarning: The sklearn.metrics.scorer module is  deprecated in version 0.22 and will be removed in version 0.24. The corresponding classes / functions should instead be imported from sklearn.metrics. Anything that cannot be imported from sklearn.metrics is now part of the private API.\n",
      "  warnings.warn(message, FutureWarning)\n",
      "C:\\Users\\sayan\\Anaconda3\\lib\\site-packages\\sklearn\\utils\\deprecation.py:143: FutureWarning: The sklearn.feature_selection.base module is  deprecated in version 0.22 and will be removed in version 0.24. The corresponding classes / functions should instead be imported from sklearn.feature_selection. Anything that cannot be imported from sklearn.feature_selection is now part of the private API.\n",
      "  warnings.warn(message, FutureWarning)\n"
     ]
    },
    {
     "data": {
      "text/html": [
       "\n",
       "    <style>\n",
       "    table.eli5-weights tr:hover {\n",
       "        filter: brightness(85%);\n",
       "    }\n",
       "</style>\n",
       "\n",
       "\n",
       "\n",
       "    \n",
       "\n",
       "    \n",
       "\n",
       "    \n",
       "\n",
       "    \n",
       "\n",
       "    \n",
       "\n",
       "    \n",
       "\n",
       "\n",
       "    \n",
       "\n",
       "    \n",
       "\n",
       "    \n",
       "\n",
       "    \n",
       "        \n",
       "\n",
       "    \n",
       "        <table class=\"eli5-weights-wrapper\" style=\"border-collapse: collapse; border: none; margin-bottom: 1.5em;\">\n",
       "            <tr>\n",
       "                \n",
       "                    <td style=\"padding: 0.5em; border: 1px solid black; text-align: center;\">\n",
       "                        <b>\n",
       "    \n",
       "        y=0\n",
       "    \n",
       "</b>\n",
       "\n",
       "top features\n",
       "                    </td>\n",
       "                \n",
       "                    <td style=\"padding: 0.5em; border: 1px solid black; text-align: center;\">\n",
       "                        <b>\n",
       "    \n",
       "        y=1\n",
       "    \n",
       "</b>\n",
       "\n",
       "top features\n",
       "                    </td>\n",
       "                \n",
       "                    <td style=\"padding: 0.5em; border: 1px solid black; text-align: center;\">\n",
       "                        <b>\n",
       "    \n",
       "        y=2\n",
       "    \n",
       "</b>\n",
       "\n",
       "top features\n",
       "                    </td>\n",
       "                \n",
       "            </tr>\n",
       "            <tr>\n",
       "                \n",
       "                    \n",
       "                        <td style=\"padding: 0px; border: 1px solid black; vertical-align: top;\">\n",
       "                            \n",
       "                                \n",
       "                                    \n",
       "                                    \n",
       "    \n",
       "    <table class=\"eli5-weights\"\n",
       "           style=\"border-collapse: collapse; border: none; margin-top: 0em; table-layout: auto; width: 100%;\">\n",
       "        <thead>\n",
       "        <tr style=\"border: none;\">\n",
       "            \n",
       "                <th style=\"padding: 0 1em 0 0.5em; text-align: right; border: none;\" title=\"Feature weights. Note that weights do not account for feature value scales, so if feature values have different scales, features with highest weights might not be the most important.\">\n",
       "                    Weight<sup>?</sup>\n",
       "                </th>\n",
       "            \n",
       "            <th style=\"padding: 0 0.5em 0 0.5em; text-align: left; border: none;\">Feature</th>\n",
       "            \n",
       "        </tr>\n",
       "        </thead>\n",
       "        <tbody>\n",
       "        \n",
       "            <tr style=\"background-color: hsl(120, 100.00%, 86.01%); border: none;\">\n",
       "    <td style=\"padding: 0 1em 0 0.5em; text-align: right; border: none;\">\n",
       "        +0.227\n",
       "    </td>\n",
       "    <td style=\"padding: 0 0.5em 0 0.5em; text-align: left; border: none;\">\n",
       "        x22\n",
       "    </td>\n",
       "    \n",
       "</tr>\n",
       "        \n",
       "            <tr style=\"background-color: hsl(120, 100.00%, 86.27%); border: none;\">\n",
       "    <td style=\"padding: 0 1em 0 0.5em; text-align: right; border: none;\">\n",
       "        +0.221\n",
       "    </td>\n",
       "    <td style=\"padding: 0 0.5em 0 0.5em; text-align: left; border: none;\">\n",
       "        x19\n",
       "    </td>\n",
       "    \n",
       "</tr>\n",
       "        \n",
       "            <tr style=\"background-color: hsl(120, 100.00%, 87.61%); border: none;\">\n",
       "    <td style=\"padding: 0 1em 0 0.5em; text-align: right; border: none;\">\n",
       "        +0.191\n",
       "    </td>\n",
       "    <td style=\"padding: 0 0.5em 0 0.5em; text-align: left; border: none;\">\n",
       "        x17\n",
       "    </td>\n",
       "    \n",
       "</tr>\n",
       "        \n",
       "            <tr style=\"background-color: hsl(120, 100.00%, 88.45%); border: none;\">\n",
       "    <td style=\"padding: 0 1em 0 0.5em; text-align: right; border: none;\">\n",
       "        +0.172\n",
       "    </td>\n",
       "    <td style=\"padding: 0 0.5em 0 0.5em; text-align: left; border: none;\">\n",
       "        &lt;BIAS&gt;\n",
       "    </td>\n",
       "    \n",
       "</tr>\n",
       "        \n",
       "            <tr style=\"background-color: hsl(120, 100.00%, 89.08%); border: none;\">\n",
       "    <td style=\"padding: 0 1em 0 0.5em; text-align: right; border: none;\">\n",
       "        +0.159\n",
       "    </td>\n",
       "    <td style=\"padding: 0 0.5em 0 0.5em; text-align: left; border: none;\">\n",
       "        x1\n",
       "    </td>\n",
       "    \n",
       "</tr>\n",
       "        \n",
       "            <tr style=\"background-color: hsl(120, 100.00%, 90.68%); border: none;\">\n",
       "    <td style=\"padding: 0 1em 0 0.5em; text-align: right; border: none;\">\n",
       "        +0.127\n",
       "    </td>\n",
       "    <td style=\"padding: 0 0.5em 0 0.5em; text-align: left; border: none;\">\n",
       "        x21\n",
       "    </td>\n",
       "    \n",
       "</tr>\n",
       "        \n",
       "            <tr style=\"background-color: hsl(120, 100.00%, 91.86%); border: none;\">\n",
       "    <td style=\"padding: 0 1em 0 0.5em; text-align: right; border: none;\">\n",
       "        +0.105\n",
       "    </td>\n",
       "    <td style=\"padding: 0 0.5em 0 0.5em; text-align: left; border: none;\">\n",
       "        x8\n",
       "    </td>\n",
       "    \n",
       "</tr>\n",
       "        \n",
       "            <tr style=\"background-color: hsl(120, 100.00%, 92.22%); border: none;\">\n",
       "    <td style=\"padding: 0 1em 0 0.5em; text-align: right; border: none;\">\n",
       "        +0.098\n",
       "    </td>\n",
       "    <td style=\"padding: 0 0.5em 0 0.5em; text-align: left; border: none;\">\n",
       "        x15\n",
       "    </td>\n",
       "    \n",
       "</tr>\n",
       "        \n",
       "            <tr style=\"background-color: hsl(120, 100.00%, 93.53%); border: none;\">\n",
       "    <td style=\"padding: 0 1em 0 0.5em; text-align: right; border: none;\">\n",
       "        +0.075\n",
       "    </td>\n",
       "    <td style=\"padding: 0 0.5em 0 0.5em; text-align: left; border: none;\">\n",
       "        x20\n",
       "    </td>\n",
       "    \n",
       "</tr>\n",
       "        \n",
       "            <tr style=\"background-color: hsl(120, 100.00%, 97.73%); border: none;\">\n",
       "    <td style=\"padding: 0 1em 0 0.5em; text-align: right; border: none;\">\n",
       "        +0.017\n",
       "    </td>\n",
       "    <td style=\"padding: 0 0.5em 0 0.5em; text-align: left; border: none;\">\n",
       "        x4\n",
       "    </td>\n",
       "    \n",
       "</tr>\n",
       "        \n",
       "        \n",
       "            <tr style=\"background-color: hsl(120, 100.00%, 97.73%); border: none;\">\n",
       "                <td colspan=\"2\" style=\"padding: 0 0.5em 0 0.5em; text-align: center; border: none; white-space: nowrap;\">\n",
       "                    <i>&hellip; 1 more positive &hellip;</i>\n",
       "                </td>\n",
       "            </tr>\n",
       "        \n",
       "\n",
       "        \n",
       "            <tr style=\"background-color: hsl(0, 100.00%, 98.58%); border: none;\">\n",
       "                <td colspan=\"2\" style=\"padding: 0 0.5em 0 0.5em; text-align: center; border: none; white-space: nowrap;\">\n",
       "                    <i>&hellip; 3 more negative &hellip;</i>\n",
       "                </td>\n",
       "            </tr>\n",
       "        \n",
       "        \n",
       "            <tr style=\"background-color: hsl(0, 100.00%, 98.58%); border: none;\">\n",
       "    <td style=\"padding: 0 1em 0 0.5em; text-align: right; border: none;\">\n",
       "        -0.009\n",
       "    </td>\n",
       "    <td style=\"padding: 0 0.5em 0 0.5em; text-align: left; border: none;\">\n",
       "        x13\n",
       "    </td>\n",
       "    \n",
       "</tr>\n",
       "        \n",
       "            <tr style=\"background-color: hsl(0, 100.00%, 97.88%); border: none;\">\n",
       "    <td style=\"padding: 0 1em 0 0.5em; text-align: right; border: none;\">\n",
       "        -0.015\n",
       "    </td>\n",
       "    <td style=\"padding: 0 0.5em 0 0.5em; text-align: left; border: none;\">\n",
       "        x16\n",
       "    </td>\n",
       "    \n",
       "</tr>\n",
       "        \n",
       "            <tr style=\"background-color: hsl(0, 100.00%, 96.36%); border: none;\">\n",
       "    <td style=\"padding: 0 1em 0 0.5em; text-align: right; border: none;\">\n",
       "        -0.033\n",
       "    </td>\n",
       "    <td style=\"padding: 0 0.5em 0 0.5em; text-align: left; border: none;\">\n",
       "        x0\n",
       "    </td>\n",
       "    \n",
       "</tr>\n",
       "        \n",
       "            <tr style=\"background-color: hsl(0, 100.00%, 96.04%); border: none;\">\n",
       "    <td style=\"padding: 0 1em 0 0.5em; text-align: right; border: none;\">\n",
       "        -0.037\n",
       "    </td>\n",
       "    <td style=\"padding: 0 0.5em 0 0.5em; text-align: left; border: none;\">\n",
       "        x3\n",
       "    </td>\n",
       "    \n",
       "</tr>\n",
       "        \n",
       "            <tr style=\"background-color: hsl(0, 100.00%, 95.84%); border: none;\">\n",
       "    <td style=\"padding: 0 1em 0 0.5em; text-align: right; border: none;\">\n",
       "        -0.040\n",
       "    </td>\n",
       "    <td style=\"padding: 0 0.5em 0 0.5em; text-align: left; border: none;\">\n",
       "        x11\n",
       "    </td>\n",
       "    \n",
       "</tr>\n",
       "        \n",
       "            <tr style=\"background-color: hsl(0, 100.00%, 90.88%); border: none;\">\n",
       "    <td style=\"padding: 0 1em 0 0.5em; text-align: right; border: none;\">\n",
       "        -0.123\n",
       "    </td>\n",
       "    <td style=\"padding: 0 0.5em 0 0.5em; text-align: left; border: none;\">\n",
       "        x6\n",
       "    </td>\n",
       "    \n",
       "</tr>\n",
       "        \n",
       "            <tr style=\"background-color: hsl(0, 100.00%, 90.40%); border: none;\">\n",
       "    <td style=\"padding: 0 1em 0 0.5em; text-align: right; border: none;\">\n",
       "        -0.132\n",
       "    </td>\n",
       "    <td style=\"padding: 0 0.5em 0 0.5em; text-align: left; border: none;\">\n",
       "        x2\n",
       "    </td>\n",
       "    \n",
       "</tr>\n",
       "        \n",
       "            <tr style=\"background-color: hsl(0, 100.00%, 89.73%); border: none;\">\n",
       "    <td style=\"padding: 0 1em 0 0.5em; text-align: right; border: none;\">\n",
       "        -0.146\n",
       "    </td>\n",
       "    <td style=\"padding: 0 0.5em 0 0.5em; text-align: left; border: none;\">\n",
       "        x14\n",
       "    </td>\n",
       "    \n",
       "</tr>\n",
       "        \n",
       "            <tr style=\"background-color: hsl(0, 100.00%, 88.83%); border: none;\">\n",
       "    <td style=\"padding: 0 1em 0 0.5em; text-align: right; border: none;\">\n",
       "        -0.164\n",
       "    </td>\n",
       "    <td style=\"padding: 0 0.5em 0 0.5em; text-align: left; border: none;\">\n",
       "        x12\n",
       "    </td>\n",
       "    \n",
       "</tr>\n",
       "        \n",
       "            <tr style=\"background-color: hsl(0, 100.00%, 87.32%); border: none;\">\n",
       "    <td style=\"padding: 0 1em 0 0.5em; text-align: right; border: none;\">\n",
       "        -0.197\n",
       "    </td>\n",
       "    <td style=\"padding: 0 0.5em 0 0.5em; text-align: left; border: none;\">\n",
       "        x7\n",
       "    </td>\n",
       "    \n",
       "</tr>\n",
       "        \n",
       "\n",
       "        </tbody>\n",
       "    </table>\n",
       "\n",
       "                                \n",
       "                            \n",
       "                        </td>\n",
       "                    \n",
       "                        <td style=\"padding: 0px; border: 1px solid black; vertical-align: top;\">\n",
       "                            \n",
       "                                \n",
       "                                    \n",
       "                                    \n",
       "    \n",
       "    <table class=\"eli5-weights\"\n",
       "           style=\"border-collapse: collapse; border: none; margin-top: 0em; table-layout: auto; width: 100%;\">\n",
       "        <thead>\n",
       "        <tr style=\"border: none;\">\n",
       "            \n",
       "                <th style=\"padding: 0 1em 0 0.5em; text-align: right; border: none;\" title=\"Feature weights. Note that weights do not account for feature value scales, so if feature values have different scales, features with highest weights might not be the most important.\">\n",
       "                    Weight<sup>?</sup>\n",
       "                </th>\n",
       "            \n",
       "            <th style=\"padding: 0 0.5em 0 0.5em; text-align: left; border: none;\">Feature</th>\n",
       "            \n",
       "        </tr>\n",
       "        </thead>\n",
       "        <tbody>\n",
       "        \n",
       "            <tr style=\"background-color: hsl(120, 100.00%, 80.00%); border: none;\">\n",
       "    <td style=\"padding: 0 1em 0 0.5em; text-align: right; border: none;\">\n",
       "        +0.378\n",
       "    </td>\n",
       "    <td style=\"padding: 0 0.5em 0 0.5em; text-align: left; border: none;\">\n",
       "        x7\n",
       "    </td>\n",
       "    \n",
       "</tr>\n",
       "        \n",
       "            <tr style=\"background-color: hsl(120, 100.00%, 81.32%); border: none;\">\n",
       "    <td style=\"padding: 0 1em 0 0.5em; text-align: right; border: none;\">\n",
       "        +0.343\n",
       "    </td>\n",
       "    <td style=\"padding: 0 0.5em 0 0.5em; text-align: left; border: none;\">\n",
       "        x14\n",
       "    </td>\n",
       "    \n",
       "</tr>\n",
       "        \n",
       "            <tr style=\"background-color: hsl(120, 100.00%, 82.97%); border: none;\">\n",
       "    <td style=\"padding: 0 1em 0 0.5em; text-align: right; border: none;\">\n",
       "        +0.300\n",
       "    </td>\n",
       "    <td style=\"padding: 0 0.5em 0 0.5em; text-align: left; border: none;\">\n",
       "        x2\n",
       "    </td>\n",
       "    \n",
       "</tr>\n",
       "        \n",
       "            <tr style=\"background-color: hsl(120, 100.00%, 89.86%); border: none;\">\n",
       "    <td style=\"padding: 0 1em 0 0.5em; text-align: right; border: none;\">\n",
       "        +0.143\n",
       "    </td>\n",
       "    <td style=\"padding: 0 0.5em 0 0.5em; text-align: left; border: none;\">\n",
       "        x6\n",
       "    </td>\n",
       "    \n",
       "</tr>\n",
       "        \n",
       "            <tr style=\"background-color: hsl(120, 100.00%, 92.41%); border: none;\">\n",
       "    <td style=\"padding: 0 1em 0 0.5em; text-align: right; border: none;\">\n",
       "        +0.095\n",
       "    </td>\n",
       "    <td style=\"padding: 0 0.5em 0 0.5em; text-align: left; border: none;\">\n",
       "        x12\n",
       "    </td>\n",
       "    \n",
       "</tr>\n",
       "        \n",
       "            <tr style=\"background-color: hsl(120, 100.00%, 93.46%); border: none;\">\n",
       "    <td style=\"padding: 0 1em 0 0.5em; text-align: right; border: none;\">\n",
       "        +0.076\n",
       "    </td>\n",
       "    <td style=\"padding: 0 0.5em 0 0.5em; text-align: left; border: none;\">\n",
       "        x10\n",
       "    </td>\n",
       "    \n",
       "</tr>\n",
       "        \n",
       "            <tr style=\"background-color: hsl(120, 100.00%, 93.77%); border: none;\">\n",
       "    <td style=\"padding: 0 1em 0 0.5em; text-align: right; border: none;\">\n",
       "        +0.071\n",
       "    </td>\n",
       "    <td style=\"padding: 0 0.5em 0 0.5em; text-align: left; border: none;\">\n",
       "        x15\n",
       "    </td>\n",
       "    \n",
       "</tr>\n",
       "        \n",
       "            <tr style=\"background-color: hsl(120, 100.00%, 94.80%); border: none;\">\n",
       "    <td style=\"padding: 0 1em 0 0.5em; text-align: right; border: none;\">\n",
       "        +0.055\n",
       "    </td>\n",
       "    <td style=\"padding: 0 0.5em 0 0.5em; text-align: left; border: none;\">\n",
       "        x8\n",
       "    </td>\n",
       "    \n",
       "</tr>\n",
       "        \n",
       "            <tr style=\"background-color: hsl(120, 100.00%, 95.70%); border: none;\">\n",
       "    <td style=\"padding: 0 1em 0 0.5em; text-align: right; border: none;\">\n",
       "        +0.042\n",
       "    </td>\n",
       "    <td style=\"padding: 0 0.5em 0 0.5em; text-align: left; border: none;\">\n",
       "        x21\n",
       "    </td>\n",
       "    \n",
       "</tr>\n",
       "        \n",
       "            <tr style=\"background-color: hsl(120, 100.00%, 96.14%); border: none;\">\n",
       "    <td style=\"padding: 0 1em 0 0.5em; text-align: right; border: none;\">\n",
       "        +0.036\n",
       "    </td>\n",
       "    <td style=\"padding: 0 0.5em 0 0.5em; text-align: left; border: none;\">\n",
       "        x13\n",
       "    </td>\n",
       "    \n",
       "</tr>\n",
       "        \n",
       "        \n",
       "            <tr style=\"background-color: hsl(120, 100.00%, 96.14%); border: none;\">\n",
       "                <td colspan=\"2\" style=\"padding: 0 0.5em 0 0.5em; text-align: center; border: none; white-space: nowrap;\">\n",
       "                    <i>&hellip; 1 more positive &hellip;</i>\n",
       "                </td>\n",
       "            </tr>\n",
       "        \n",
       "\n",
       "        \n",
       "            <tr style=\"background-color: hsl(0, 100.00%, 95.32%); border: none;\">\n",
       "                <td colspan=\"2\" style=\"padding: 0 0.5em 0 0.5em; text-align: center; border: none; white-space: nowrap;\">\n",
       "                    <i>&hellip; 3 more negative &hellip;</i>\n",
       "                </td>\n",
       "            </tr>\n",
       "        \n",
       "        \n",
       "            <tr style=\"background-color: hsl(0, 100.00%, 95.32%); border: none;\">\n",
       "    <td style=\"padding: 0 1em 0 0.5em; text-align: right; border: none;\">\n",
       "        -0.047\n",
       "    </td>\n",
       "    <td style=\"padding: 0 0.5em 0 0.5em; text-align: left; border: none;\">\n",
       "        x5\n",
       "    </td>\n",
       "    \n",
       "</tr>\n",
       "        \n",
       "            <tr style=\"background-color: hsl(0, 100.00%, 94.79%); border: none;\">\n",
       "    <td style=\"padding: 0 1em 0 0.5em; text-align: right; border: none;\">\n",
       "        -0.055\n",
       "    </td>\n",
       "    <td style=\"padding: 0 0.5em 0 0.5em; text-align: left; border: none;\">\n",
       "        x4\n",
       "    </td>\n",
       "    \n",
       "</tr>\n",
       "        \n",
       "            <tr style=\"background-color: hsl(0, 100.00%, 90.23%); border: none;\">\n",
       "    <td style=\"padding: 0 1em 0 0.5em; text-align: right; border: none;\">\n",
       "        -0.136\n",
       "    </td>\n",
       "    <td style=\"padding: 0 0.5em 0 0.5em; text-align: left; border: none;\">\n",
       "        x0\n",
       "    </td>\n",
       "    \n",
       "</tr>\n",
       "        \n",
       "            <tr style=\"background-color: hsl(0, 100.00%, 89.76%); border: none;\">\n",
       "    <td style=\"padding: 0 1em 0 0.5em; text-align: right; border: none;\">\n",
       "        -0.145\n",
       "    </td>\n",
       "    <td style=\"padding: 0 0.5em 0 0.5em; text-align: left; border: none;\">\n",
       "        x16\n",
       "    </td>\n",
       "    \n",
       "</tr>\n",
       "        \n",
       "            <tr style=\"background-color: hsl(0, 100.00%, 89.36%); border: none;\">\n",
       "    <td style=\"padding: 0 1em 0 0.5em; text-align: right; border: none;\">\n",
       "        -0.153\n",
       "    </td>\n",
       "    <td style=\"padding: 0 0.5em 0 0.5em; text-align: left; border: none;\">\n",
       "        x9\n",
       "    </td>\n",
       "    \n",
       "</tr>\n",
       "        \n",
       "            <tr style=\"background-color: hsl(0, 100.00%, 87.56%); border: none;\">\n",
       "    <td style=\"padding: 0 1em 0 0.5em; text-align: right; border: none;\">\n",
       "        -0.192\n",
       "    </td>\n",
       "    <td style=\"padding: 0 0.5em 0 0.5em; text-align: left; border: none;\">\n",
       "        x22\n",
       "    </td>\n",
       "    \n",
       "</tr>\n",
       "        \n",
       "            <tr style=\"background-color: hsl(0, 100.00%, 86.72%); border: none;\">\n",
       "    <td style=\"padding: 0 1em 0 0.5em; text-align: right; border: none;\">\n",
       "        -0.210\n",
       "    </td>\n",
       "    <td style=\"padding: 0 0.5em 0 0.5em; text-align: left; border: none;\">\n",
       "        x17\n",
       "    </td>\n",
       "    \n",
       "</tr>\n",
       "        \n",
       "            <tr style=\"background-color: hsl(0, 100.00%, 85.72%); border: none;\">\n",
       "    <td style=\"padding: 0 1em 0 0.5em; text-align: right; border: none;\">\n",
       "        -0.233\n",
       "    </td>\n",
       "    <td style=\"padding: 0 0.5em 0 0.5em; text-align: left; border: none;\">\n",
       "        x1\n",
       "    </td>\n",
       "    \n",
       "</tr>\n",
       "        \n",
       "            <tr style=\"background-color: hsl(0, 100.00%, 84.56%); border: none;\">\n",
       "    <td style=\"padding: 0 1em 0 0.5em; text-align: right; border: none;\">\n",
       "        -0.261\n",
       "    </td>\n",
       "    <td style=\"padding: 0 0.5em 0 0.5em; text-align: left; border: none;\">\n",
       "        x19\n",
       "    </td>\n",
       "    \n",
       "</tr>\n",
       "        \n",
       "            <tr style=\"background-color: hsl(0, 100.00%, 84.35%); border: none;\">\n",
       "    <td style=\"padding: 0 1em 0 0.5em; text-align: right; border: none;\">\n",
       "        -0.266\n",
       "    </td>\n",
       "    <td style=\"padding: 0 0.5em 0 0.5em; text-align: left; border: none;\">\n",
       "        &lt;BIAS&gt;\n",
       "    </td>\n",
       "    \n",
       "</tr>\n",
       "        \n",
       "\n",
       "        </tbody>\n",
       "    </table>\n",
       "\n",
       "                                \n",
       "                            \n",
       "                        </td>\n",
       "                    \n",
       "                        <td style=\"padding: 0px; border: 1px solid black; vertical-align: top;\">\n",
       "                            \n",
       "                                \n",
       "                                    \n",
       "                                    \n",
       "    \n",
       "    <table class=\"eli5-weights\"\n",
       "           style=\"border-collapse: collapse; border: none; margin-top: 0em; table-layout: auto; width: 100%;\">\n",
       "        <thead>\n",
       "        <tr style=\"border: none;\">\n",
       "            \n",
       "                <th style=\"padding: 0 1em 0 0.5em; text-align: right; border: none;\" title=\"Feature weights. Note that weights do not account for feature value scales, so if feature values have different scales, features with highest weights might not be the most important.\">\n",
       "                    Weight<sup>?</sup>\n",
       "                </th>\n",
       "            \n",
       "            <th style=\"padding: 0 0.5em 0 0.5em; text-align: left; border: none;\">Feature</th>\n",
       "            \n",
       "        </tr>\n",
       "        </thead>\n",
       "        <tbody>\n",
       "        \n",
       "            <tr style=\"background-color: hsl(120, 100.00%, 88.62%); border: none;\">\n",
       "    <td style=\"padding: 0 1em 0 0.5em; text-align: right; border: none;\">\n",
       "        +0.169\n",
       "    </td>\n",
       "    <td style=\"padding: 0 0.5em 0 0.5em; text-align: left; border: none;\">\n",
       "        x0\n",
       "    </td>\n",
       "    \n",
       "</tr>\n",
       "        \n",
       "            <tr style=\"background-color: hsl(120, 100.00%, 89.01%); border: none;\">\n",
       "    <td style=\"padding: 0 1em 0 0.5em; text-align: right; border: none;\">\n",
       "        +0.161\n",
       "    </td>\n",
       "    <td style=\"padding: 0 0.5em 0 0.5em; text-align: left; border: none;\">\n",
       "        x16\n",
       "    </td>\n",
       "    \n",
       "</tr>\n",
       "        \n",
       "            <tr style=\"background-color: hsl(120, 100.00%, 89.06%); border: none;\">\n",
       "    <td style=\"padding: 0 1em 0 0.5em; text-align: right; border: none;\">\n",
       "        +0.160\n",
       "    </td>\n",
       "    <td style=\"padding: 0 0.5em 0 0.5em; text-align: left; border: none;\">\n",
       "        x9\n",
       "    </td>\n",
       "    \n",
       "</tr>\n",
       "        \n",
       "            <tr style=\"background-color: hsl(120, 100.00%, 92.46%); border: none;\">\n",
       "    <td style=\"padding: 0 1em 0 0.5em; text-align: right; border: none;\">\n",
       "        +0.094\n",
       "    </td>\n",
       "    <td style=\"padding: 0 0.5em 0 0.5em; text-align: left; border: none;\">\n",
       "        &lt;BIAS&gt;\n",
       "    </td>\n",
       "    \n",
       "</tr>\n",
       "        \n",
       "            <tr style=\"background-color: hsl(120, 100.00%, 93.60%); border: none;\">\n",
       "    <td style=\"padding: 0 1em 0 0.5em; text-align: right; border: none;\">\n",
       "        +0.074\n",
       "    </td>\n",
       "    <td style=\"padding: 0 0.5em 0 0.5em; text-align: left; border: none;\">\n",
       "        x1\n",
       "    </td>\n",
       "    \n",
       "</tr>\n",
       "        \n",
       "            <tr style=\"background-color: hsl(120, 100.00%, 93.87%); border: none;\">\n",
       "    <td style=\"padding: 0 1em 0 0.5em; text-align: right; border: none;\">\n",
       "        +0.070\n",
       "    </td>\n",
       "    <td style=\"padding: 0 0.5em 0 0.5em; text-align: left; border: none;\">\n",
       "        x12\n",
       "    </td>\n",
       "    \n",
       "</tr>\n",
       "        \n",
       "            <tr style=\"background-color: hsl(120, 100.00%, 95.18%); border: none;\">\n",
       "    <td style=\"padding: 0 1em 0 0.5em; text-align: right; border: none;\">\n",
       "        +0.049\n",
       "    </td>\n",
       "    <td style=\"padding: 0 0.5em 0 0.5em; text-align: left; border: none;\">\n",
       "        x5\n",
       "    </td>\n",
       "    \n",
       "</tr>\n",
       "        \n",
       "            <tr style=\"background-color: hsl(120, 100.00%, 95.23%); border: none;\">\n",
       "    <td style=\"padding: 0 1em 0 0.5em; text-align: right; border: none;\">\n",
       "        +0.049\n",
       "    </td>\n",
       "    <td style=\"padding: 0 0.5em 0 0.5em; text-align: left; border: none;\">\n",
       "        x3\n",
       "    </td>\n",
       "    \n",
       "</tr>\n",
       "        \n",
       "            <tr style=\"background-color: hsl(120, 100.00%, 95.83%); border: none;\">\n",
       "    <td style=\"padding: 0 1em 0 0.5em; text-align: right; border: none;\">\n",
       "        +0.040\n",
       "    </td>\n",
       "    <td style=\"padding: 0 0.5em 0 0.5em; text-align: left; border: none;\">\n",
       "        x19\n",
       "    </td>\n",
       "    \n",
       "</tr>\n",
       "        \n",
       "            <tr style=\"background-color: hsl(120, 100.00%, 95.96%); border: none;\">\n",
       "    <td style=\"padding: 0 1em 0 0.5em; text-align: right; border: none;\">\n",
       "        +0.038\n",
       "    </td>\n",
       "    <td style=\"padding: 0 0.5em 0 0.5em; text-align: left; border: none;\">\n",
       "        x4\n",
       "    </td>\n",
       "    \n",
       "</tr>\n",
       "        \n",
       "            <tr style=\"background-color: hsl(120, 100.00%, 96.08%); border: none;\">\n",
       "    <td style=\"padding: 0 1em 0 0.5em; text-align: right; border: none;\">\n",
       "        +0.037\n",
       "    </td>\n",
       "    <td style=\"padding: 0 0.5em 0 0.5em; text-align: left; border: none;\">\n",
       "        x11\n",
       "    </td>\n",
       "    \n",
       "</tr>\n",
       "        \n",
       "        \n",
       "            <tr style=\"background-color: hsl(120, 100.00%, 96.08%); border: none;\">\n",
       "                <td colspan=\"2\" style=\"padding: 0 0.5em 0 0.5em; text-align: center; border: none; white-space: nowrap;\">\n",
       "                    <i>&hellip; 2 more positive &hellip;</i>\n",
       "                </td>\n",
       "            </tr>\n",
       "        \n",
       "\n",
       "        \n",
       "            <tr style=\"background-color: hsl(0, 100.00%, 96.22%); border: none;\">\n",
       "                <td colspan=\"2\" style=\"padding: 0 0.5em 0 0.5em; text-align: center; border: none; white-space: nowrap;\">\n",
       "                    <i>&hellip; 2 more negative &hellip;</i>\n",
       "                </td>\n",
       "            </tr>\n",
       "        \n",
       "        \n",
       "            <tr style=\"background-color: hsl(0, 100.00%, 96.22%); border: none;\">\n",
       "    <td style=\"padding: 0 1em 0 0.5em; text-align: right; border: none;\">\n",
       "        -0.035\n",
       "    </td>\n",
       "    <td style=\"padding: 0 0.5em 0 0.5em; text-align: left; border: none;\">\n",
       "        x22\n",
       "    </td>\n",
       "    \n",
       "</tr>\n",
       "        \n",
       "            <tr style=\"background-color: hsl(0, 100.00%, 95.47%); border: none;\">\n",
       "    <td style=\"padding: 0 1em 0 0.5em; text-align: right; border: none;\">\n",
       "        -0.045\n",
       "    </td>\n",
       "    <td style=\"padding: 0 0.5em 0 0.5em; text-align: left; border: none;\">\n",
       "        x20\n",
       "    </td>\n",
       "    \n",
       "</tr>\n",
       "        \n",
       "            <tr style=\"background-color: hsl(0, 100.00%, 93.28%); border: none;\">\n",
       "    <td style=\"padding: 0 1em 0 0.5em; text-align: right; border: none;\">\n",
       "        -0.079\n",
       "    </td>\n",
       "    <td style=\"padding: 0 0.5em 0 0.5em; text-align: left; border: none;\">\n",
       "        x10\n",
       "    </td>\n",
       "    \n",
       "</tr>\n",
       "        \n",
       "            <tr style=\"background-color: hsl(0, 100.00%, 89.05%); border: none;\">\n",
       "    <td style=\"padding: 0 1em 0 0.5em; text-align: right; border: none;\">\n",
       "        -0.160\n",
       "    </td>\n",
       "    <td style=\"padding: 0 0.5em 0 0.5em; text-align: left; border: none;\">\n",
       "        x8\n",
       "    </td>\n",
       "    \n",
       "</tr>\n",
       "        \n",
       "            <tr style=\"background-color: hsl(0, 100.00%, 88.67%); border: none;\">\n",
       "    <td style=\"padding: 0 1em 0 0.5em; text-align: right; border: none;\">\n",
       "        -0.168\n",
       "    </td>\n",
       "    <td style=\"padding: 0 0.5em 0 0.5em; text-align: left; border: none;\">\n",
       "        x2\n",
       "    </td>\n",
       "    \n",
       "</tr>\n",
       "        \n",
       "            <tr style=\"background-color: hsl(0, 100.00%, 88.62%); border: none;\">\n",
       "    <td style=\"padding: 0 1em 0 0.5em; text-align: right; border: none;\">\n",
       "        -0.169\n",
       "    </td>\n",
       "    <td style=\"padding: 0 0.5em 0 0.5em; text-align: left; border: none;\">\n",
       "        x21\n",
       "    </td>\n",
       "    \n",
       "</tr>\n",
       "        \n",
       "            <tr style=\"background-color: hsl(0, 100.00%, 88.59%); border: none;\">\n",
       "    <td style=\"padding: 0 1em 0 0.5em; text-align: right; border: none;\">\n",
       "        -0.169\n",
       "    </td>\n",
       "    <td style=\"padding: 0 0.5em 0 0.5em; text-align: left; border: none;\">\n",
       "        x15\n",
       "    </td>\n",
       "    \n",
       "</tr>\n",
       "        \n",
       "            <tr style=\"background-color: hsl(0, 100.00%, 88.06%); border: none;\">\n",
       "    <td style=\"padding: 0 1em 0 0.5em; text-align: right; border: none;\">\n",
       "        -0.181\n",
       "    </td>\n",
       "    <td style=\"padding: 0 0.5em 0 0.5em; text-align: left; border: none;\">\n",
       "        x7\n",
       "    </td>\n",
       "    \n",
       "</tr>\n",
       "        \n",
       "            <tr style=\"background-color: hsl(0, 100.00%, 87.32%); border: none;\">\n",
       "    <td style=\"padding: 0 1em 0 0.5em; text-align: right; border: none;\">\n",
       "        -0.197\n",
       "    </td>\n",
       "    <td style=\"padding: 0 0.5em 0 0.5em; text-align: left; border: none;\">\n",
       "        x14\n",
       "    </td>\n",
       "    \n",
       "</tr>\n",
       "        \n",
       "\n",
       "        </tbody>\n",
       "    </table>\n",
       "\n",
       "                                \n",
       "                            \n",
       "                        </td>\n",
       "                    \n",
       "                \n",
       "            </tr>\n",
       "        </table>\n",
       "    \n",
       "\n",
       "    \n",
       "        \n",
       "\n",
       "\n",
       "    \n",
       "        \n",
       "\n",
       "\n",
       "    \n",
       "        \n",
       "\n",
       "\n",
       "    \n",
       "\n",
       "\n",
       "    \n",
       "\n",
       "    \n",
       "\n",
       "    \n",
       "\n",
       "\n",
       "    \n",
       "\n",
       "    \n",
       "\n",
       "    \n",
       "\n",
       "    \n",
       "\n",
       "    \n",
       "\n",
       "    \n",
       "\n",
       "\n",
       "    \n",
       "\n",
       "    \n",
       "\n",
       "    \n",
       "\n",
       "    \n",
       "\n",
       "    \n",
       "\n",
       "    \n",
       "\n",
       "\n",
       "\n"
      ],
      "text/plain": [
       "<IPython.core.display.HTML object>"
      ]
     },
     "execution_count": 225,
     "metadata": {},
     "output_type": "execute_result"
    }
   ],
   "source": [
    "import eli5\n",
    "eli5.show_weights(clf)"
   ]
  },
  {
   "cell_type": "code",
   "execution_count": 227,
   "metadata": {},
   "outputs": [
    {
     "ename": "AttributeError",
     "evalue": "'LogisticRegression' object has no attribute 'feature_importances_'",
     "output_type": "error",
     "traceback": [
      "\u001b[1;31m---------------------------------------------------------------------------\u001b[0m",
      "\u001b[1;31mAttributeError\u001b[0m                            Traceback (most recent call last)",
      "\u001b[1;32m<ipython-input-227-e4ce79c47429>\u001b[0m in \u001b[0;36m<module>\u001b[1;34m\u001b[0m\n\u001b[1;32m----> 1\u001b[1;33m \u001b[0mclf\u001b[0m\u001b[1;33m.\u001b[0m\u001b[0mfeature_importances_\u001b[0m\u001b[1;33m\u001b[0m\u001b[1;33m\u001b[0m\u001b[0m\n\u001b[0m",
      "\u001b[1;31mAttributeError\u001b[0m: 'LogisticRegression' object has no attribute 'feature_importances_'"
     ]
    }
   ],
   "source": [
    "import pandas as pd\n",
    "from sklearn.model_selection import KFold\n",
    "from lofo import LOFOImportance, Dataset, plot_importance\n",
    "%matplotlib inline\n",
    "\n",
    "\n",
    "# define the validation scheme\n",
    "cv = KFold(n_splits=5, shuffle=False, random_state=0)\n",
    "\n",
    "# define the binary target and the features\n",
    "dataset = Dataset(df=dx, target=\"'INJ_CLASSN_C'\", features=[col for col in dx.columns if col != target])\n",
    "\n",
    "# define the validation scheme and scorer. The default model is LightGBM\n",
    "lofo_imp = LOFOImportance(dataset, cv=cv, scoring=\"roc_auc\")\n",
    "\n",
    "# get the mean and standard deviation of the importances in pandas format\n",
    "importance_df = lofo_imp.get_importance()\n",
    "\n",
    "# plot the means and standard deviations of the importances\n",
    "plot_importance(importance_df, figsize=(12, 20))"
   ]
  },
  {
   "cell_type": "code",
   "execution_count": 232,
   "metadata": {},
   "outputs": [
    {
     "data": {
      "text/plain": [
       "[-0.03314140740247562,\n",
       " 0.15911934705375552,\n",
       " -0.13235132097405386,\n",
       " -0.037375685376351726,\n",
       " 0.016886274731927414,\n",
       " -0.0019518845969808203,\n",
       " -0.12299941031390298,\n",
       " -0.19690064240609964,\n",
       " 0.10456349783586358,\n",
       " -0.006186632313913058,\n",
       " 0.002937682209240407,\n",
       " -0.0400536863331849,\n",
       " -0.16428653839592394,\n",
       " -0.008673920949336288,\n",
       " -0.1457203751703246,\n",
       " 0.09805511927571949,\n",
       " -0.015343295577228598,\n",
       " 0.19052331775711412,\n",
       " -0.0044859886220496225,\n",
       " 0.2206952245205878,\n",
       " 0.0752896905555944,\n",
       " 0.12679316037635882,\n",
       " 0.22662169623475772,\n",
       " 0.46505701965852075]"
      ]
     },
     "execution_count": 232,
     "metadata": {},
     "output_type": "execute_result"
    }
   ],
   "source": [
    "clf.coef_[0].tolist() + [np.sqrt(np.sum(np.array(clf.coef_[0].tolist()[12:])**2))]"
   ]
  },
  {
   "cell_type": "code",
   "execution_count": 97,
   "metadata": {},
   "outputs": [
    {
     "data": {
      "text/plain": [
       "LIGHT/LIMITED DUTY OR RESTRICTED WORK (NO LOST WORK DAYS)    3944\n",
       "OTHER REPORTABLE AND MEDICAL TREATMENT/NO LOST TIME          1458\n",
       "ONE OR MORE LOST WORK DAYS                                   1097\n",
       "NO INJURY OR ILLNESS                                          231\n",
       "FIRST AID TREATMENT ONLY/FIRST AID CASE                       224\n",
       "PERMANENT PARTIAL DISABILITY                                   26\n",
       "FATAL                                                           6\n",
       "Name: INJ_CLASSN, dtype: int64"
      ]
     },
     "execution_count": 97,
     "metadata": {},
     "output_type": "execute_result"
    }
   ],
   "source": [
    "nadf['INJ_CLASSN'].value_counts()"
   ]
  },
  {
   "cell_type": "code",
   "execution_count": 102,
   "metadata": {},
   "outputs": [
    {
     "data": {
      "text/plain": [
       "1    3940\n",
       "2    1899\n",
       "0    1125\n",
       "Name: INJ_CLASSN_C, dtype: int64"
      ]
     },
     "execution_count": 102,
     "metadata": {},
     "output_type": "execute_result"
    }
   ],
   "source": [
    "df1['INJ_CLASSN_C'].value_counts()"
   ]
  },
  {
   "cell_type": "code",
   "execution_count": 104,
   "metadata": {},
   "outputs": [
    {
     "data": {
      "text/plain": [
       "M    5339\n",
       "F    1646\n",
       "Name: SEX_C, dtype: int64"
      ]
     },
     "execution_count": 104,
     "metadata": {},
     "output_type": "execute_result"
    }
   ],
   "source": [
    "nadf['SEX_C'].value_counts()"
   ]
  },
  {
   "cell_type": "code",
   "execution_count": 114,
   "metadata": {},
   "outputs": [
    {
     "data": {
      "text/plain": [
       "M    5323\n",
       "F    1641\n",
       "Name: SEX_C, dtype: int64"
      ]
     },
     "execution_count": 114,
     "metadata": {},
     "output_type": "execute_result"
    }
   ],
   "source": [
    "dfcopy['SEX_C'].value_counts()"
   ]
  },
  {
   "cell_type": "code",
   "execution_count": 34,
   "metadata": {},
   "outputs": [],
   "source": [
    "nadf = nadf.drop_duplicates()\n",
    "\n",
    "\n",
    "nadf['AGE'].fillna(22, inplace=True) #replace missing age with median age\n",
    "nadf['AGE'] = nadf['AGE'].replace(99,22)#delete\n",
    "nadf['AGE'] = nadf['AGE'].replace(0,22)"
   ]
  },
  {
   "cell_type": "code",
   "execution_count": 41,
   "metadata": {},
   "outputs": [],
   "source": [
    "na = nadf[(nadf['AGE']==16) | (nadf['AGE']>=65)]"
   ]
  },
  {
   "cell_type": "code",
   "execution_count": 54,
   "metadata": {},
   "outputs": [],
   "source": [
    "df1 = df1[~df1['BRIEF_NARR'].str.contains(\"civ\", na=False,case=False)]"
   ]
  },
  {
   "cell_type": "code",
   "execution_count": 60,
   "metadata": {},
   "outputs": [
    {
     "data": {
      "text/html": [
       "<div>\n",
       "<style scoped>\n",
       "    .dataframe tbody tr th:only-of-type {\n",
       "        vertical-align: middle;\n",
       "    }\n",
       "\n",
       "    .dataframe tbody tr th {\n",
       "        vertical-align: top;\n",
       "    }\n",
       "\n",
       "    .dataframe thead th {\n",
       "        text-align: right;\n",
       "    }\n",
       "</style>\n",
       "<table border=\"1\" class=\"dataframe\">\n",
       "  <thead>\n",
       "    <tr style=\"text-align: right;\">\n",
       "      <th></th>\n",
       "      <th>284</th>\n",
       "      <th>1043</th>\n",
       "    </tr>\n",
       "  </thead>\n",
       "  <tbody>\n",
       "    <tr>\n",
       "      <th>INVLVD_PER_SERL</th>\n",
       "      <td>20867</td>\n",
       "      <td>53931</td>\n",
       "    </tr>\n",
       "    <tr>\n",
       "      <th>PAYGRADE</th>\n",
       "      <td>E03</td>\n",
       "      <td>E04</td>\n",
       "    </tr>\n",
       "    <tr>\n",
       "      <th>RANK_RATE</th>\n",
       "      <td>SN</td>\n",
       "      <td>PO3</td>\n",
       "    </tr>\n",
       "    <tr>\n",
       "      <th>RATEG</th>\n",
       "      <td>CSSN</td>\n",
       "      <td>AT3</td>\n",
       "    </tr>\n",
       "    <tr>\n",
       "      <th>DESG_C</th>\n",
       "      <td>NaN</td>\n",
       "      <td>NaN</td>\n",
       "    </tr>\n",
       "    <tr>\n",
       "      <th>NEC_C</th>\n",
       "      <td>NaN</td>\n",
       "      <td>NaN</td>\n",
       "    </tr>\n",
       "    <tr>\n",
       "      <th>PCN_C</th>\n",
       "      <td>CL-00-00</td>\n",
       "      <td>CL-00-00</td>\n",
       "    </tr>\n",
       "    <tr>\n",
       "      <th>AREA_C</th>\n",
       "      <td>1G09096</td>\n",
       "      <td>1G09024</td>\n",
       "    </tr>\n",
       "    <tr>\n",
       "      <th>INJ_CLASSN_C</th>\n",
       "      <td>F</td>\n",
       "      <td>G</td>\n",
       "    </tr>\n",
       "    <tr>\n",
       "      <th>AGE</th>\n",
       "      <td>15</td>\n",
       "      <td>15</td>\n",
       "    </tr>\n",
       "    <tr>\n",
       "      <th>SEX_C</th>\n",
       "      <td>M</td>\n",
       "      <td>F</td>\n",
       "    </tr>\n",
       "    <tr>\n",
       "      <th>AREA</th>\n",
       "      <td>VEG PREP ROOM</td>\n",
       "      <td>CREW MESS</td>\n",
       "    </tr>\n",
       "    <tr>\n",
       "      <th>PCN_NAME</th>\n",
       "      <td>NaN</td>\n",
       "      <td>NaN</td>\n",
       "    </tr>\n",
       "    <tr>\n",
       "      <th>INJ_CLASSN</th>\n",
       "      <td>OTHER REPORTABLE AND MEDICAL TREATMENT/NO LOST...</td>\n",
       "      <td>FIRST AID TREATMENT ONLY/FIRST AID CASE</td>\n",
       "    </tr>\n",
       "    <tr>\n",
       "      <th>EVOL_C</th>\n",
       "      <td>N096</td>\n",
       "      <td>N032</td>\n",
       "    </tr>\n",
       "    <tr>\n",
       "      <th>EVOL</th>\n",
       "      <td>UPKEEP/AVAILABILITY</td>\n",
       "      <td>INDEPENDENT STEAMING</td>\n",
       "    </tr>\n",
       "    <tr>\n",
       "      <th>RPRTBL_EVENT_SERL</th>\n",
       "      <td>20234</td>\n",
       "      <td>50090</td>\n",
       "    </tr>\n",
       "    <tr>\n",
       "      <th>EVENT_DATE_TIME</th>\n",
       "      <td>2005-10-12 12:30:00</td>\n",
       "      <td>2008-01-26 03:00:00</td>\n",
       "    </tr>\n",
       "    <tr>\n",
       "      <th>FY</th>\n",
       "      <td>2006</td>\n",
       "      <td>2008</td>\n",
       "    </tr>\n",
       "    <tr>\n",
       "      <th>BRIEF_NARR</th>\n",
       "      <td>INHALATION OF CHLORAMINE GAS                  ...</td>\n",
       "      <td>First degree chemical burns                   ...</td>\n",
       "    </tr>\n",
       "    <tr>\n",
       "      <th>RPRTG_UNIT_CODE</th>\n",
       "      <td>N21297</td>\n",
       "      <td>N21297</td>\n",
       "    </tr>\n",
       "    <tr>\n",
       "      <th>EVENT_SEVTY_C</th>\n",
       "      <td>D</td>\n",
       "      <td>D</td>\n",
       "    </tr>\n",
       "    <tr>\n",
       "      <th>INVLVD_UNIT_CODE</th>\n",
       "      <td>N21297</td>\n",
       "      <td>N21297</td>\n",
       "    </tr>\n",
       "    <tr>\n",
       "      <th>ACTY_NAME_LONG</th>\n",
       "      <td>ABRAHAM LINCOLN</td>\n",
       "      <td>USS ABRAHAM LINCOLN</td>\n",
       "    </tr>\n",
       "    <tr>\n",
       "      <th>VESL_TYPE</th>\n",
       "      <td>CVN</td>\n",
       "      <td>CVN</td>\n",
       "    </tr>\n",
       "  </tbody>\n",
       "</table>\n",
       "</div>"
      ],
      "text/plain": [
       "                                                                284   \\\n",
       "INVLVD_PER_SERL                                                20867   \n",
       "PAYGRADE                                                         E03   \n",
       "RANK_RATE                                                         SN   \n",
       "RATEG                                                           CSSN   \n",
       "DESG_C                                                           NaN   \n",
       "NEC_C                                                            NaN   \n",
       "PCN_C                                                       CL-00-00   \n",
       "AREA_C                                                       1G09096   \n",
       "INJ_CLASSN_C                                                       F   \n",
       "AGE                                                               15   \n",
       "SEX_C                                                              M   \n",
       "AREA                                                   VEG PREP ROOM   \n",
       "PCN_NAME                                                         NaN   \n",
       "INJ_CLASSN         OTHER REPORTABLE AND MEDICAL TREATMENT/NO LOST...   \n",
       "EVOL_C                                                          N096   \n",
       "EVOL                                             UPKEEP/AVAILABILITY   \n",
       "RPRTBL_EVENT_SERL                                              20234   \n",
       "EVENT_DATE_TIME                                  2005-10-12 12:30:00   \n",
       "FY                                                              2006   \n",
       "BRIEF_NARR         INHALATION OF CHLORAMINE GAS                  ...   \n",
       "RPRTG_UNIT_CODE                                               N21297   \n",
       "EVENT_SEVTY_C                                                      D   \n",
       "INVLVD_UNIT_CODE                                              N21297   \n",
       "ACTY_NAME_LONG                                       ABRAHAM LINCOLN   \n",
       "VESL_TYPE                                                        CVN   \n",
       "\n",
       "                                                                1043  \n",
       "INVLVD_PER_SERL                                                53931  \n",
       "PAYGRADE                                                         E04  \n",
       "RANK_RATE                                                        PO3  \n",
       "RATEG                                                            AT3  \n",
       "DESG_C                                                           NaN  \n",
       "NEC_C                                                            NaN  \n",
       "PCN_C                                                       CL-00-00  \n",
       "AREA_C                                                       1G09024  \n",
       "INJ_CLASSN_C                                                       G  \n",
       "AGE                                                               15  \n",
       "SEX_C                                                              F  \n",
       "AREA                                                       CREW MESS  \n",
       "PCN_NAME                                                         NaN  \n",
       "INJ_CLASSN                   FIRST AID TREATMENT ONLY/FIRST AID CASE  \n",
       "EVOL_C                                                          N032  \n",
       "EVOL                                            INDEPENDENT STEAMING  \n",
       "RPRTBL_EVENT_SERL                                              50090  \n",
       "EVENT_DATE_TIME                                  2008-01-26 03:00:00  \n",
       "FY                                                              2008  \n",
       "BRIEF_NARR         First degree chemical burns                   ...  \n",
       "RPRTG_UNIT_CODE                                               N21297  \n",
       "EVENT_SEVTY_C                                                      D  \n",
       "INVLVD_UNIT_CODE                                              N21297  \n",
       "ACTY_NAME_LONG                                   USS ABRAHAM LINCOLN  \n",
       "VESL_TYPE                                                        CVN  "
      ]
     },
     "execution_count": 60,
     "metadata": {},
     "output_type": "execute_result"
    }
   ],
   "source": [
    "df1[(df1[\"AGE\"] > 16) & (df1[\"AGE\"] < 65)]"
   ]
  },
  {
   "cell_type": "code",
   "execution_count": 59,
   "metadata": {},
   "outputs": [
    {
     "data": {
      "text/html": [
       "<div>\n",
       "<style scoped>\n",
       "    .dataframe tbody tr th:only-of-type {\n",
       "        vertical-align: middle;\n",
       "    }\n",
       "\n",
       "    .dataframe tbody tr th {\n",
       "        vertical-align: top;\n",
       "    }\n",
       "\n",
       "    .dataframe thead th {\n",
       "        text-align: right;\n",
       "    }\n",
       "</style>\n",
       "<table border=\"1\" class=\"dataframe\">\n",
       "  <thead>\n",
       "    <tr style=\"text-align: right;\">\n",
       "      <th></th>\n",
       "      <th>INVLVD_PER_SERL</th>\n",
       "      <th>PAYGRADE</th>\n",
       "      <th>RANK_RATE</th>\n",
       "      <th>RATEG</th>\n",
       "      <th>DESG_C</th>\n",
       "      <th>NEC_C</th>\n",
       "      <th>PCN_C</th>\n",
       "      <th>AREA_C</th>\n",
       "      <th>INJ_CLASSN_C</th>\n",
       "      <th>AGE</th>\n",
       "      <th>...</th>\n",
       "      <th>EVOL</th>\n",
       "      <th>RPRTBL_EVENT_SERL</th>\n",
       "      <th>EVENT_DATE_TIME</th>\n",
       "      <th>FY</th>\n",
       "      <th>BRIEF_NARR</th>\n",
       "      <th>RPRTG_UNIT_CODE</th>\n",
       "      <th>EVENT_SEVTY_C</th>\n",
       "      <th>INVLVD_UNIT_CODE</th>\n",
       "      <th>ACTY_NAME_LONG</th>\n",
       "      <th>VESL_TYPE</th>\n",
       "    </tr>\n",
       "  </thead>\n",
       "  <tbody>\n",
       "  </tbody>\n",
       "</table>\n",
       "<p>0 rows × 25 columns</p>\n",
       "</div>"
      ],
      "text/plain": [
       "Empty DataFrame\n",
       "Columns: [INVLVD_PER_SERL, PAYGRADE, RANK_RATE, RATEG, DESG_C, NEC_C, PCN_C, AREA_C, INJ_CLASSN_C, AGE, SEX_C, AREA, PCN_NAME, INJ_CLASSN, EVOL_C, EVOL, RPRTBL_EVENT_SERL, EVENT_DATE_TIME, FY, BRIEF_NARR, RPRTG_UNIT_CODE, EVENT_SEVTY_C, INVLVD_UNIT_CODE, ACTY_NAME_LONG, VESL_TYPE]\n",
       "Index: []\n",
       "\n",
       "[0 rows x 25 columns]"
      ]
     },
     "execution_count": 59,
     "metadata": {},
     "output_type": "execute_result"
    }
   ],
   "source": [
    "df1[(df1[\"AGE\"] > 65)]"
   ]
  },
  {
   "cell_type": "code",
   "execution_count": 180,
   "metadata": {},
   "outputs": [
    {
     "data": {
      "text/html": [
       "<div>\n",
       "<style scoped>\n",
       "    .dataframe tbody tr th:only-of-type {\n",
       "        vertical-align: middle;\n",
       "    }\n",
       "\n",
       "    .dataframe tbody tr th {\n",
       "        vertical-align: top;\n",
       "    }\n",
       "\n",
       "    .dataframe thead th {\n",
       "        text-align: right;\n",
       "    }\n",
       "</style>\n",
       "<table border=\"1\" class=\"dataframe\">\n",
       "  <thead>\n",
       "    <tr style=\"text-align: right;\">\n",
       "      <th></th>\n",
       "      <th>PAYGRADE</th>\n",
       "      <th>PCN_C</th>\n",
       "      <th>INJ_CLASSN_C</th>\n",
       "      <th>AGE</th>\n",
       "      <th>SEX_C</th>\n",
       "      <th>AREA</th>\n",
       "      <th>FY</th>\n",
       "      <th>emonth</th>\n",
       "      <th>ehrmin</th>\n",
       "      <th>actyrank</th>\n",
       "    </tr>\n",
       "  </thead>\n",
       "  <tbody>\n",
       "    <tr>\n",
       "      <th>0</th>\n",
       "      <td>4</td>\n",
       "      <td>3</td>\n",
       "      <td>2</td>\n",
       "      <td>21.0</td>\n",
       "      <td>0</td>\n",
       "      <td>1</td>\n",
       "      <td>2006</td>\n",
       "      <td>4</td>\n",
       "      <td>230</td>\n",
       "      <td>8</td>\n",
       "    </tr>\n",
       "    <tr>\n",
       "      <th>1</th>\n",
       "      <td>5</td>\n",
       "      <td>3</td>\n",
       "      <td>2</td>\n",
       "      <td>26.0</td>\n",
       "      <td>0</td>\n",
       "      <td>1</td>\n",
       "      <td>2006</td>\n",
       "      <td>4</td>\n",
       "      <td>2200</td>\n",
       "      <td>8</td>\n",
       "    </tr>\n",
       "    <tr>\n",
       "      <th>2</th>\n",
       "      <td>6</td>\n",
       "      <td>1</td>\n",
       "      <td>2</td>\n",
       "      <td>42.0</td>\n",
       "      <td>0</td>\n",
       "      <td>1</td>\n",
       "      <td>2006</td>\n",
       "      <td>9</td>\n",
       "      <td>1020</td>\n",
       "      <td>4</td>\n",
       "    </tr>\n",
       "    <tr>\n",
       "      <th>3</th>\n",
       "      <td>5</td>\n",
       "      <td>3</td>\n",
       "      <td>1</td>\n",
       "      <td>24.0</td>\n",
       "      <td>0</td>\n",
       "      <td>3</td>\n",
       "      <td>2006</td>\n",
       "      <td>12</td>\n",
       "      <td>1230</td>\n",
       "      <td>11</td>\n",
       "    </tr>\n",
       "    <tr>\n",
       "      <th>4</th>\n",
       "      <td>4</td>\n",
       "      <td>3</td>\n",
       "      <td>3</td>\n",
       "      <td>25.0</td>\n",
       "      <td>0</td>\n",
       "      <td>6</td>\n",
       "      <td>2006</td>\n",
       "      <td>12</td>\n",
       "      <td>1930</td>\n",
       "      <td>6</td>\n",
       "    </tr>\n",
       "    <tr>\n",
       "      <th>...</th>\n",
       "      <td>...</td>\n",
       "      <td>...</td>\n",
       "      <td>...</td>\n",
       "      <td>...</td>\n",
       "      <td>...</td>\n",
       "      <td>...</td>\n",
       "      <td>...</td>\n",
       "      <td>...</td>\n",
       "      <td>...</td>\n",
       "      <td>...</td>\n",
       "    </tr>\n",
       "    <tr>\n",
       "      <th>7318</th>\n",
       "      <td>3</td>\n",
       "      <td>2</td>\n",
       "      <td>2</td>\n",
       "      <td>22.0</td>\n",
       "      <td>0</td>\n",
       "      <td>8</td>\n",
       "      <td>2019</td>\n",
       "      <td>4</td>\n",
       "      <td>1030</td>\n",
       "      <td>10</td>\n",
       "    </tr>\n",
       "    <tr>\n",
       "      <th>7320</th>\n",
       "      <td>5</td>\n",
       "      <td>0</td>\n",
       "      <td>2</td>\n",
       "      <td>28.0</td>\n",
       "      <td>0</td>\n",
       "      <td>6</td>\n",
       "      <td>2019</td>\n",
       "      <td>4</td>\n",
       "      <td>2000</td>\n",
       "      <td>7</td>\n",
       "    </tr>\n",
       "    <tr>\n",
       "      <th>7321</th>\n",
       "      <td>6</td>\n",
       "      <td>3</td>\n",
       "      <td>1</td>\n",
       "      <td>31.0</td>\n",
       "      <td>0</td>\n",
       "      <td>2</td>\n",
       "      <td>2019</td>\n",
       "      <td>7</td>\n",
       "      <td>1445</td>\n",
       "      <td>7</td>\n",
       "    </tr>\n",
       "    <tr>\n",
       "      <th>7322</th>\n",
       "      <td>5</td>\n",
       "      <td>4</td>\n",
       "      <td>2</td>\n",
       "      <td>22.0</td>\n",
       "      <td>0</td>\n",
       "      <td>8</td>\n",
       "      <td>2019</td>\n",
       "      <td>7</td>\n",
       "      <td>1400</td>\n",
       "      <td>7</td>\n",
       "    </tr>\n",
       "    <tr>\n",
       "      <th>7323</th>\n",
       "      <td>4</td>\n",
       "      <td>3</td>\n",
       "      <td>2</td>\n",
       "      <td>23.0</td>\n",
       "      <td>1</td>\n",
       "      <td>7</td>\n",
       "      <td>2019</td>\n",
       "      <td>3</td>\n",
       "      <td>1430</td>\n",
       "      <td>8</td>\n",
       "    </tr>\n",
       "  </tbody>\n",
       "</table>\n",
       "<p>4666 rows × 10 columns</p>\n",
       "</div>"
      ],
      "text/plain": [
       "      PAYGRADE  PCN_C  INJ_CLASSN_C   AGE  SEX_C  AREA    FY  emonth  ehrmin  \\\n",
       "0            4      3             2  21.0      0     1  2006       4     230   \n",
       "1            5      3             2  26.0      0     1  2006       4    2200   \n",
       "2            6      1             2  42.0      0     1  2006       9    1020   \n",
       "3            5      3             1  24.0      0     3  2006      12    1230   \n",
       "4            4      3             3  25.0      0     6  2006      12    1930   \n",
       "...        ...    ...           ...   ...    ...   ...   ...     ...     ...   \n",
       "7318         3      2             2  22.0      0     8  2019       4    1030   \n",
       "7320         5      0             2  28.0      0     6  2019       4    2000   \n",
       "7321         6      3             1  31.0      0     2  2019       7    1445   \n",
       "7322         5      4             2  22.0      0     8  2019       7    1400   \n",
       "7323         4      3             2  23.0      1     7  2019       3    1430   \n",
       "\n",
       "      actyrank  \n",
       "0            8  \n",
       "1            8  \n",
       "2            4  \n",
       "3           11  \n",
       "4            6  \n",
       "...        ...  \n",
       "7318        10  \n",
       "7320         7  \n",
       "7321         7  \n",
       "7322         7  \n",
       "7323         8  \n",
       "\n",
       "[4666 rows x 10 columns]"
      ]
     },
     "execution_count": 180,
     "metadata": {},
     "output_type": "execute_result"
    }
   ],
   "source": [
    "df1"
   ]
  },
  {
   "cell_type": "code",
   "execution_count": 23,
   "metadata": {},
   "outputs": [],
   "source": [
    "cats = ['A', 'B', 'C', 'D','E','F','G','H']\n",
    "for i in range(len(cats)):\n",
    "    nadf[col[8]] = nadf[col[8]].replace(cats[i], i)"
   ]
  },
  {
   "cell_type": "code",
   "execution_count": 28,
   "metadata": {},
   "outputs": [
    {
     "name": "stdout",
     "output_type": "stream",
     "text": [
      "Counter({4.0: 3944, 5.0: 1458, 3.0: 1097, 7.0: 231, 6.0: 224, 2.0: 26, 0.0: 6})\n",
      "Class=4, n=3944 (53.843%)\n",
      "Class=3, n=1097 (14.976%)\n",
      "Class=6, n=224 (3.058%)\n",
      "Class=5, n=1458 (19.904%)\n",
      "Class=7, n=231 (3.154%)\n",
      "Class=2, n=26 (0.355%)\n",
      "Class=0, n=6 (0.082%)\n"
     ]
    }
   ],
   "source": [
    "counter1 = Counter(nadf['INJ_CLASSN_C'].dropna())\n",
    "print(counter1)\n",
    "for k,v in counter1.items():\n",
    "\tper = v / len(nadf['INJ_CLASSN_C']) * 100\n",
    "\tprint('Class=%d, n=%d (%.3f%%)' % (k, v, per))"
   ]
  },
  {
   "cell_type": "code",
   "execution_count": null,
   "metadata": {},
   "outputs": [],
   "source": []
  }
 ],
 "metadata": {
  "kernelspec": {
   "display_name": "Python 3",
   "language": "python",
   "name": "python3"
  },
  "language_info": {
   "codemirror_mode": {
    "name": "ipython",
    "version": 3
   },
   "file_extension": ".py",
   "mimetype": "text/x-python",
   "name": "python",
   "nbconvert_exporter": "python",
   "pygments_lexer": "ipython3",
   "version": "3.6.10"
  }
 },
 "nbformat": 4,
 "nbformat_minor": 4
}
