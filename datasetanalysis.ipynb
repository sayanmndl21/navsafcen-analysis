{
 "cells": [
  {
   "cell_type": "code",
   "execution_count": 2,
   "metadata": {},
   "outputs": [],
   "source": [
    "import pandas as pd\n",
    "dfav = pd.read_excel('Aviation database Flight Deck for Duke.xlsx',sheet_name='data')\n",
    "dfnv = pd.read_excel('Non Aviaiton database carrier.xlsx',sheet_name='carrier involved')"
   ]
  },
  {
   "cell_type": "markdown",
   "metadata": {},
   "source": [
    "####aviation database flight deck for duke.xlsx:\n",
    "\n",
    "##Event Date, Event Savty C, FY, Acft_model, age, pay_grade, event_short_narr(only deck related stuff eg-line 26),\n",
    "\n",
    "##Incdt_occurn_serl(finding duplicates), incdt_phase_ops (might help), incdt_type, inj_classn\n",
    "\n",
    "####nonaviation database carrier.xlsx:\n",
    "\n",
    "##Paygrade, Age, Sex, Area, inj_classn, Event_date_time, FY, Brief_narr, event_sevty_c"
   ]
  },
  {
   "cell_type": "code",
   "execution_count": 28,
   "metadata": {},
   "outputs": [],
   "source": [
    "df_av = dfav[['EVENT_DATE','EVENT_SEVTY_C','FY','ACFT_MODEL','AGE','INJ_CLASSN_C','PAY_GRADE','EVENT_SHORT_NARR','INCDT_OCCURN_SERL','INCDT_PHASE_OPS','INCDT_TYPE','INJ_CLASSN']]\n",
    "df_nv = dfnv[['PAYGRADE','RANK_RATE','RATEG','INJ_CLASSN_C','AGE','SEX_C','AREA','PCN_NAME','INJ_CLASSN','EVOL','EVENT_DATE_TIME','FY','BRIEF_NARR','EVENT_SEVTY_C',]]"
   ]
  },
  {
   "cell_type": "code",
   "execution_count": 29,
   "metadata": {},
   "outputs": [],
   "source": [
    "df_nvnew = df_nv[df_nv['INJ_CLASSN'] != 'NO INJURY OR ILLNESS']"
   ]
  },
  {
   "cell_type": "code",
   "execution_count": 30,
   "metadata": {},
   "outputs": [
    {
     "data": {
      "text/plain": [
       "LIGHT/LIMITED DUTY OR RESTRICTED WORK (NO LOST WORK DAYS)    3944\n",
       "OTHER REPORTABLE AND MEDICAL TREATMENT/NO LOST TIME          1458\n",
       "ONE OR MORE LOST WORK DAYS                                   1097\n",
       "NO INJURY OR ILLNESS                                          231\n",
       "FIRST AID TREATMENT ONLY/FIRST AID CASE                       224\n",
       "PERMANENT PARTIAL DISABILITY                                   26\n",
       "FATAL                                                           6\n",
       "Name: INJ_CLASSN, dtype: int64"
      ]
     },
     "execution_count": 30,
     "metadata": {},
     "output_type": "execute_result"
    }
   ],
   "source": [
    "df_nv['INJ_CLASSN'].value_counts()"
   ]
  },
  {
   "cell_type": "code",
   "execution_count": 31,
   "metadata": {},
   "outputs": [],
   "source": [
    "df_nvnew = df_nvnew[df_nvnew['AREA'] == 'FLIGHT DECK']"
   ]
  },
  {
   "cell_type": "code",
   "execution_count": 36,
   "metadata": {},
   "outputs": [],
   "source": [
    "df_nvnew.to_csv(r'deckdata_cleaned.csv')"
   ]
  },
  {
   "cell_type": "code",
   "execution_count": 46,
   "metadata": {},
   "outputs": [],
   "source": [
    "dfmain = df_nvnew.reset_index().drop(columns = ['index'])"
   ]
  },
  {
   "cell_type": "code",
   "execution_count": 48,
   "metadata": {},
   "outputs": [],
   "source": [
    "dfmain.to_csv(r'deckdata_cleaned.csv')"
   ]
  },
  {
   "cell_type": "code",
   "execution_count": 3,
   "metadata": {},
   "outputs": [],
   "source": [
    "dfmain = pd.read_csv(r'deckdata_cleaned.csv')"
   ]
  },
  {
   "cell_type": "code",
   "execution_count": 10,
   "metadata": {},
   "outputs": [],
   "source": [
    "dfmain = dfmain.drop([135,562,577,567], axis =0)"
   ]
  },
  {
   "cell_type": "code",
   "execution_count": 18,
   "metadata": {},
   "outputs": [],
   "source": [
    "defmain = dfmain[~dfmain['BRIEF_NARR'].str.contains(\"theshold\", case = False)]"
   ]
  },
  {
   "cell_type": "code",
   "execution_count": 50,
   "metadata": {},
   "outputs": [],
   "source": [
    "dfmain.to_csv(r'deckdata_cleaned.csv')"
   ]
  },
  {
   "cell_type": "code",
   "execution_count": 22,
   "metadata": {},
   "outputs": [],
   "source": [
    "dfmain = dfmain[~dfmain['BRIEF_NARR'].str.contains(\"theshold\", case = False)]"
   ]
  },
  {
   "cell_type": "code",
   "execution_count": 26,
   "metadata": {},
   "outputs": [],
   "source": [
    "dfmain = dfmain[~dfmain['BRIEF_NARR'].str.contains(\"maintenance\", case = False)]"
   ]
  },
  {
   "cell_type": "code",
   "execution_count": 28,
   "metadata": {},
   "outputs": [],
   "source": [
    "dfmain = dfmain[~dfmain['EVOL'].str.contains(\"maintenance\", case = False)]"
   ]
  },
  {
   "cell_type": "code",
   "execution_count": 34,
   "metadata": {},
   "outputs": [],
   "source": [
    "dfmain = dfmain.drop(columns = ['Unnamed: 0','Unnamed: 0.1'])"
   ]
  },
  {
   "cell_type": "code",
   "execution_count": 43,
   "metadata": {},
   "outputs": [],
   "source": [
    "dfmain = dfmain.reset_index().drop(columns = ['index'])"
   ]
  },
  {
   "cell_type": "code",
   "execution_count": 38,
   "metadata": {},
   "outputs": [],
   "source": [
    "dfmain = dfmain[~dfmain['BRIEF_NARR'].str.contains(\"recreation\", case = False)]"
   ]
  },
  {
   "cell_type": "code",
   "execution_count": 48,
   "metadata": {},
   "outputs": [],
   "source": [
    "dfmain = dfmain[~dfmain.duplicated()]"
   ]
  },
  {
   "cell_type": "code",
   "execution_count": 49,
   "metadata": {},
   "outputs": [
    {
     "data": {
      "text/html": [
       "<div>\n",
       "<style scoped>\n",
       "    .dataframe tbody tr th:only-of-type {\n",
       "        vertical-align: middle;\n",
       "    }\n",
       "\n",
       "    .dataframe tbody tr th {\n",
       "        vertical-align: top;\n",
       "    }\n",
       "\n",
       "    .dataframe thead th {\n",
       "        text-align: right;\n",
       "    }\n",
       "</style>\n",
       "<table border=\"1\" class=\"dataframe\">\n",
       "  <thead>\n",
       "    <tr style=\"text-align: right;\">\n",
       "      <th></th>\n",
       "      <th>PAYGRADE</th>\n",
       "      <th>RANK_RATE</th>\n",
       "      <th>RATEG</th>\n",
       "      <th>INJ_CLASSN_C</th>\n",
       "      <th>AGE</th>\n",
       "      <th>SEX_C</th>\n",
       "      <th>AREA</th>\n",
       "      <th>PCN_NAME</th>\n",
       "      <th>INJ_CLASSN</th>\n",
       "      <th>EVOL</th>\n",
       "      <th>EVENT_DATE_TIME</th>\n",
       "      <th>FY</th>\n",
       "      <th>BRIEF_NARR</th>\n",
       "      <th>EVENT_SEVTY_C</th>\n",
       "    </tr>\n",
       "  </thead>\n",
       "  <tbody>\n",
       "  </tbody>\n",
       "</table>\n",
       "</div>"
      ],
      "text/plain": [
       "Empty DataFrame\n",
       "Columns: [PAYGRADE, RANK_RATE, RATEG, INJ_CLASSN_C, AGE, SEX_C, AREA, PCN_NAME, INJ_CLASSN, EVOL, EVENT_DATE_TIME, FY, BRIEF_NARR, EVENT_SEVTY_C]\n",
       "Index: []"
      ]
     },
     "execution_count": 49,
     "metadata": {},
     "output_type": "execute_result"
    }
   ],
   "source": []
  },
  {
   "cell_type": "code",
   "execution_count": null,
   "metadata": {},
   "outputs": [],
   "source": []
  }
 ],
 "metadata": {
  "kernelspec": {
   "display_name": "Python 3",
   "language": "python",
   "name": "python3"
  },
  "language_info": {
   "codemirror_mode": {
    "name": "ipython",
    "version": 3
   },
   "file_extension": ".py",
   "mimetype": "text/x-python",
   "name": "python",
   "nbconvert_exporter": "python",
   "pygments_lexer": "ipython3",
   "version": "3.6.10"
  }
 },
 "nbformat": 4,
 "nbformat_minor": 2
}
